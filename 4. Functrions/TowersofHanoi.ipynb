{
  "nbformat": 4,
  "nbformat_minor": 0,
  "metadata": {
    "colab": {
      "name": "TowersofHanoi.ipynb",
      "provenance": []
    },
    "kernelspec": {
      "name": "python3",
      "display_name": "Python 3"
    },
    "language_info": {
      "name": "python"
    }
  },
  "cells": [
    {
      "cell_type": "code",
      "metadata": {
        "id": "WPKbROpatt9V"
      },
      "source": [
        "# Tower of Hanoi Solution\n",
        "\n",
        "def TowerOfHanoi(n , from_rod, to_rod, aux_rod): \n",
        "    if n == 1: \n",
        "        print(\"Move disk 1 from rod\",from_rod,\"to rod\",to_rod)\n",
        "        return\n",
        "    TowerOfHanoi(n-1, from_rod, aux_rod, to_rod) \n",
        "    print(\"Move disk\",n,\"from rod\",from_rod,\"to rod\",to_rod)\n",
        "    TowerOfHanoi(n-1, aux_rod, to_rod, from_rod) \n",
        "\n",
        "\n",
        "TowerOfHanoi(3, 'A', 'C', 'B')  "
      ],
      "execution_count": null,
      "outputs": []
    }
  ]
}