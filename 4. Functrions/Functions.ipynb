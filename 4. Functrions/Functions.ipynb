{
  "nbformat": 4,
  "nbformat_minor": 0,
  "metadata": {
    "celltoolbar": "Slideshow",
    "kernelspec": {
      "display_name": "Python 3",
      "language": "python",
      "name": "python3"
    },
    "language_info": {
      "codemirror_mode": {
        "name": "ipython",
        "version": 3
      },
      "file_extension": ".py",
      "mimetype": "text/x-python",
      "name": "python",
      "nbconvert_exporter": "python",
      "pygments_lexer": "ipython3",
      "version": "3.6.9"
    },
    "colab": {
      "name": "Functions.ipynb",
      "provenance": []
    }
  },
  "cells": [
    {
      "cell_type": "markdown",
      "metadata": {
        "id": "ZvBbTZ8bNj9P"
      },
      "source": [
        "## Today:\n",
        "    \n",
        "    Functions, functions and more functions\n",
        "    "
      ]
    },
    {
      "cell_type": "markdown",
      "metadata": {
        "id": "FaHtxqIQNj9Q"
      },
      "source": [
        "**Function** = a device that groups a set of statements so they can be run more than once\n",
        "\n",
        "In python a function is defined using the ``def`` keyword\n",
        "\n",
        "```python\n",
        "def <name_of_function>(<list_of_parameters>):\n",
        "    <block_of_function>\n",
        "```\n",
        "\n",
        "A function is called by using its name and providing the necessary parameters\n",
        "\n",
        "A function can return a value by using ``return <value>`` statement"
      ]
    },
    {
      "cell_type": "markdown",
      "metadata": {
        "id": "9Tr7BcXlNj9Q"
      },
      "source": [
        "- Writing and calling functions is called *abstraction*\n",
        "\n",
        "- Helps you not to focus on details until necessary\n",
        "\n",
        "- Functions allow writing of clearer code\n",
        "\n",
        "- The function should be defined before it is called\n",
        "\n",
        "- Functions are useful because:\n",
        "  - maximise code reuse and minimise redundancy\n",
        "  - procedural decomposition"
      ]
    },
    {
      "cell_type": "markdown",
      "metadata": {
        "id": "C6esImPzNj9Q"
      },
      "source": [
        "# Example"
      ]
    },
    {
      "cell_type": "code",
      "metadata": {
        "id": "xajzq4wrNj9R"
      },
      "source": [
        "## Defining a Function\n",
        "def greeting():\n",
        "    print(\"Is it Monday again already?\")"
      ],
      "execution_count": null,
      "outputs": []
    },
    {
      "cell_type": "code",
      "metadata": {
        "colab": {
          "base_uri": "https://localhost:8080/"
        },
        "id": "4SfQJnqhNj9S",
        "outputId": "8cb88af2-f260-4a9b-efc6-65dba78d2aca"
      },
      "source": [
        "# Calling a Function\n",
        "\n",
        "greeting()"
      ],
      "execution_count": null,
      "outputs": [
        {
          "output_type": "stream",
          "name": "stdout",
          "text": [
            "Is it Monday again already?\n"
          ]
        }
      ]
    },
    {
      "cell_type": "markdown",
      "metadata": {
        "id": "FIt74L_fNj9T"
      },
      "source": [
        "# Parameters of a function\n",
        "\n",
        "- a function can receive parameters\n",
        "- the list of parameters appear after the name of the function\n",
        "- parameters can be used as any other variables\n",
        "\n",
        "``def my_function(a, b, c):``\n",
        "\n",
        "- it is possible to have parameters with default values\n",
        "- default values are used when a parameter is not specified\n",
        "\n",
        "``def my_function(a, b = 2, c = \"test\"):``"
      ]
    },
    {
      "cell_type": "markdown",
      "metadata": {
        "id": "h5lQjamaNj9T"
      },
      "source": [
        "# Example"
      ]
    },
    {
      "cell_type": "code",
      "metadata": {
        "id": "Eqwv5vQaNj9T"
      },
      "source": [
        "def greeting(name):\n",
        "   print(\"May your enemies flee before you,\" , name)\n",
        "    "
      ],
      "execution_count": null,
      "outputs": []
    },
    {
      "cell_type": "code",
      "metadata": {
        "id": "8ne9LZCgNj9U",
        "colab": {
          "base_uri": "https://localhost:8080/"
        },
        "outputId": "e73e9df1-62f5-4111-a6d8-ad4ef97541e3"
      },
      "source": [
        "#Passing a parameter\n",
        "\n",
        "greeting(\"Mrs Crumplebottom\")"
      ],
      "execution_count": null,
      "outputs": [
        {
          "output_type": "stream",
          "name": "stdout",
          "text": [
            "May your enemies flee before you, Mrs Crumplebottom\n"
          ]
        }
      ]
    },
    {
      "cell_type": "markdown",
      "metadata": {
        "id": "x5pZDoRQNj9U"
      },
      "source": [
        "# Positional arguments vs. keyword arguments\n",
        "\n",
        "- **Positional arguments**: by default arguments are assigned to parameters in the order they appear. Particularly important when parameters have default values\n",
        "\n",
        "\n",
        "``def my_function(a, b, c):``\n",
        "\n",
        "``my_function(3, 6, 9)``\n",
        "\n",
        "- **Keyword arguments**: it is possible to explicitly assign a value to parameters, regardless of the order\n",
        "\n",
        "``my_function(b=2, c=\"second test\", a = 9)``"
      ]
    },
    {
      "cell_type": "markdown",
      "metadata": {
        "id": "j1YcyZGfNj9U"
      },
      "source": [
        "# Returning a value\n",
        "\n",
        "- ``return`` can be used to return a value from a function\n",
        "- a function can return one or several values using tuples\n",
        "- the values from a function do not need to be captured, but you may need the value at some point\n",
        "\n",
        "<br>\n",
        "\n",
        "```python\n",
        "function my_function():\n",
        "    return 1, 2, 3\n",
        "    \n",
        "a, b, c = my_function()\n",
        "```"
      ]
    },
    {
      "cell_type": "code",
      "metadata": {
        "id": "-XVImGfENj9V"
      },
      "source": [
        "# Returning a Value\n",
        "def greeting(name):\n",
        "    return \"May your enemies flee before you, \" + name"
      ],
      "execution_count": null,
      "outputs": []
    },
    {
      "cell_type": "code",
      "metadata": {
        "id": "DdjJW0RTNj9V",
        "colab": {
          "base_uri": "https://localhost:8080/"
        },
        "outputId": "f447d8b4-7261-405d-e320-495183f9e979"
      },
      "source": [
        "#Passing a parameter\n",
        "variable = greeting(\"Ms. Crumplebottom\")\n",
        "print(variable)"
      ],
      "execution_count": null,
      "outputs": [
        {
          "output_type": "stream",
          "name": "stdout",
          "text": [
            "May your enemies flee before you, Ms. Crumplebottom\n"
          ]
        }
      ]
    },
    {
      "cell_type": "markdown",
      "metadata": {
        "id": "UWSTywFENj9V"
      },
      "source": [
        "# Encapsulation\n",
        "\n",
        "**encapsulation** = no variable which you create in a function, including its parameters can be accessed from outside the function\n",
        "\n",
        "- it keeps the code of the function independent from the rest of the program\n",
        "- communication with the rest of the program is done through parameters and return values\n",
        "- makes a function function as a black box "
      ]
    },
    {
      "cell_type": "markdown",
      "metadata": {
        "id": "s0L0MGbVNj9W"
      },
      "source": [
        "# Example"
      ]
    },
    {
      "cell_type": "code",
      "metadata": {
        "id": "XcydRp4fNj9W"
      },
      "source": [
        "#define a function which returns the square of a number\n",
        "def my_square(value):\n",
        "    square_value = value * value\n",
        "    return square_value   "
      ],
      "execution_count": null,
      "outputs": []
    },
    {
      "cell_type": "code",
      "metadata": {
        "id": "vU9nK50tNj9W",
        "colab": {
          "base_uri": "https://localhost:8080/"
        },
        "outputId": "d65bcdd9-c761-4723-d1e4-501835dc4e3e"
      },
      "source": [
        "#How do we test that out?\n",
        "user_value = int(input(\"Enter a number:\"))\n",
        "print(\"The square of\", user_value, \"is\", my_square(user_value))"
      ],
      "execution_count": null,
      "outputs": [
        {
          "output_type": "stream",
          "name": "stdout",
          "text": [
            "Enter a number:6\n",
            "The square of 6 is 36\n"
          ]
        }
      ]
    },
    {
      "cell_type": "code",
      "metadata": {
        "id": "YyoEx6atNj9W"
      },
      "source": [
        "# what happens if we try to access the values inside the function?\n",
        "print(value)"
      ],
      "execution_count": null,
      "outputs": []
    },
    {
      "cell_type": "markdown",
      "metadata": {
        "id": "3lcfkALhNj9W"
      },
      "source": [
        "# Scope of variables\n",
        "\n",
        "**scope** = different areas of the program each independent from other\n",
        "\n",
        "for this reason a function cannot access the variables of another one\n",
        "\n",
        "- **global scope** = scope which is not inside a function\n",
        "- **local scope** = inside a function\n",
        "- **global variables** = variables in the global scope\n",
        "- **local variables** = variables in the local scope"
      ]
    },
    {
      "cell_type": "markdown",
      "metadata": {
        "id": "vgaUYdjeNj9X"
      },
      "source": [
        "# Global variables\n",
        "\n",
        "- it is possible to access global variables from a function as long as there is no local variable with the same name\n",
        "\n",
        "- it is also possible to change the value of a global variable from inside a function using global keyword\n"
      ]
    },
    {
      "cell_type": "code",
      "metadata": {
        "id": "qSEOZgB8Nj9X"
      },
      "source": [
        "# define a function which does not access the global variable\n",
        "def f1():    \n",
        "    value = 10\n",
        "    print(\"Inside f1 value=\", value, sep=\"\")\n",
        "    \n",
        "# define a function which accesses the global variable\n",
        "def f2():\n",
        "    global value\n",
        "    value = 20\n",
        "    print(\"Inside f2 value=\", value, sep=\"\")\n",
        "    \n",
        "value = 0\n",
        "print(\"Before f1 value=\", value, sep=\"\")\n",
        "f1()\n",
        "print(\"After f1 value=\", value, sep=\"\")\n",
        "print(\"Before f2 value=\", value, sep=\"\")\n",
        "f2()\n",
        "print(\"After f2 value=\", value, sep=\"\")"
      ],
      "execution_count": null,
      "outputs": []
    },
    {
      "cell_type": "markdown",
      "metadata": {
        "id": "EJ2KckZANj9X"
      },
      "source": [
        "# Global variables\n",
        "\n",
        "- global variables should be avoided because they make the code really messy and break **everything**!!\n",
        "\n",
        "- ... in reality everybody uses global variables, but be careful when you change their values\n",
        "\n",
        "- constants are good to be used as global variables\n",
        "\n",
        "- Python does not support true constants, but the convention is that constants are variables written in capital letters"
      ]
    },
    {
      "cell_type": "markdown",
      "metadata": {
        "id": "FvCOVqfpNj9X"
      },
      "source": [
        "# Recursion\n",
        "\n",
        "Let's implement a function which calculates factorial(n)\n",
        "\n",
        "In mathematics, the factorial of a positive integer $n$, denoted by $n!$, is the product of all positive integers less than or equal to $n$.\n",
        "\n",
        "e.g.\n",
        "\n",
        "$5! = 5x4x3x2x1 = 120$"
      ]
    },
    {
      "cell_type": "markdown",
      "metadata": {
        "id": "7NrIEfGANj9X"
      },
      "source": [
        "## What is a recursive function?\n",
        "\n",
        "- A function that calls itself, either directly or indirectly\n",
        "- A recursive function always needs a base case\n",
        "- What do you think will happen if you write a recursive function without a base case?\n",
        "\n",
        "<img src=\"https://files.realpython.com/media/fixing_problems.ffd6d34e887e.png\">"
      ]
    },
    {
      "cell_type": "markdown",
      "metadata": {
        "id": "UV9bzVnuNj9X"
      },
      "source": [
        "## Breaking down the problem\n",
        "\n",
        " - define a function factorial(n)\n",
        " - Check if n is 1.\n",
        " - If it is 1, return n\n",
        " - If it is not 1, multiply the number by factorial(n-1)"
      ]
    },
    {
      "cell_type": "markdown",
      "metadata": {
        "id": "RqMhqkMFNj9Y"
      },
      "source": [
        "# Let's Try it out\n",
        "\n",
        "The Fibonnaci seqence is a sequence of numbers where the next number in the sequence is the sum of the previous two numbers in the sequence. The sequence looks like this: 1, 1, 2, 3, 5, 8, 13, …\n",
        "\n",
        "The 7th Fibonacci number is 13. What is the Fibonacci(8)? \n",
        "\n",
        "Let's write a program that calculates the nth number in the Fibonacci sequence. \n",
        "\n",
        "\n",
        "\n",
        "\n"
      ]
    },
    {
      "cell_type": "code",
      "metadata": {
        "id": "aXz67QibNj9Y",
        "colab": {
          "base_uri": "https://localhost:8080/"
        },
        "outputId": "c84026e6-edc0-44cf-bafd-75752a8aceb7"
      },
      "source": [
        "def fib(n):\n",
        " if n <= 1:\n",
        "  return n\n",
        " else:\n",
        "  return(fib(n-1) + fib(n-2))\n",
        "%timeit fib(10)"
      ],
      "execution_count": null,
      "outputs": [
        {
          "output_type": "stream",
          "name": "stdout",
          "text": [
            "10000 loops, best of 5: 24.7 µs per loop\n"
          ]
        }
      ]
    },
    {
      "cell_type": "markdown",
      "metadata": {
        "id": "HLaBKgjHNj9Y"
      },
      "source": [
        "## Why do you think it takes so long to run this code for n=35\n",
        "\n",
        "\n",
        "<img src=\"https://livecode.com/wp-content/uploads/2014/10/Fibonacci-Spiral.png\">"
      ]
    },
    {
      "cell_type": "markdown",
      "metadata": {
        "id": "vwm_YIG5Nj9Y"
      },
      "source": [
        "## Just because we can use recursion, doesn't mean we should"
      ]
    },
    {
      "cell_type": "code",
      "metadata": {
        "id": "N320TxskNj9Y",
        "colab": {
          "base_uri": "https://localhost:8080/"
        },
        "outputId": "052598f6-52d1-4538-b64e-972390bf04fc"
      },
      "source": [
        "#Iterative version of Fibonacci\n",
        "\n",
        "def fibonacci(n):\n",
        "    a,b = 0,1\n",
        "    for i in range(n):\n",
        "        a,b = b,a+b\n",
        "    return a\n",
        "\n",
        "%timeit fibonacci(10)"
      ],
      "execution_count": null,
      "outputs": [
        {
          "output_type": "stream",
          "name": "stdout",
          "text": [
            "1000000 loops, best of 5: 920 ns per loop\n"
          ]
        }
      ]
    },
    {
      "cell_type": "markdown",
      "metadata": {
        "id": "N7gRI6llNj9Y"
      },
      "source": [
        "# Further reading\n",
        "\n",
        "- From <a href=\"https://en.wikibooks.org/wiki/Non-Programmer%27s_Tutorial_for_Python_3\" target=\"_blank\">Non-Programmer's Tutorial for Python 3</a> read:\n",
        "    - Defining Functions\n",
        "    - Advanced Functions Example\n",
        "- Functions and Lists: <a href=\"https://dbader.org/blog/python-intro-functions-and-lists\" target=\"_blank\">https://dbader.org/blog/python-intro-functions-and-lists</a> (with some nice examples with turtle)\n",
        "- Chapter 6 of *Python Programming for the Absolute Beginner* by Michael Dawson"
      ]
    },
    {
      "cell_type": "markdown",
      "metadata": {
        "id": "iIPFQUmvNj9Y"
      },
      "source": [
        "# Exercise 1: Write a function that converts a number to Roman Numerals\n",
        "\n",
        "\n",
        "**Hints**\n",
        "\n",
        "- I = 1, V = 5, X = 10, L = 50, C = 100, D = 500, M = 1000\n",
        "- Zero is not represented\n",
        "- Hint: You may be tempted to nest a million ifs. In fact this code can be written entirely without ifs."
      ]
    },
    {
      "cell_type": "markdown",
      "metadata": {
        "id": "ozgq-khhNj9Y"
      },
      "source": [
        "# Exercise 2: The Tower of Hanoi\n",
        "\n",
        "<img style=\"float: right;\" src=\"https://raw.githubusercontent.com/sumitc91/sumitc91.github.io/master/Blogs/c0163425-be46-4869-b182-865969bc6dee_tower-of-hanoi.gif\">\n",
        "\n",
        "\n",
        "Tower of Hanoi is a mathematical puzzle where we have three rods and n disks. The objective of the puzzle is to move the entire stack to another rod, obeying the following simple rules:\n",
        "- Only one disk can be moved at a time.\n",
        "- Each move consists of taking the upper disk from one of the stacks and placing it on top of another stack i.e. a disk can only be moved if it is the uppermost disk on a stack.\n",
        "- No disk may be placed on top of a smaller disk.\n",
        "\n",
        "**Hint**: Use recursion: Break down the problem, identify your base case."
      ]
    }
  ]
}