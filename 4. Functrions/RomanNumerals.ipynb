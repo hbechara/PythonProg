{
  "nbformat": 4,
  "nbformat_minor": 0,
  "metadata": {
    "colab": {
      "name": "RomanNumerals.ipynb",
      "provenance": [],
      "collapsed_sections": [],
      "include_colab_link": true
    },
    "kernelspec": {
      "name": "python3",
      "display_name": "Python 3"
    }
  },
  "cells": [
    {
      "cell_type": "markdown",
      "metadata": {
        "id": "view-in-github",
        "colab_type": "text"
      },
      "source": [
        "<a href=\"https://colab.research.google.com/github/hbechara/HertiePython/blob/main/RomanNumerals.ipynb\" target=\"_parent\"><img src=\"https://colab.research.google.com/assets/colab-badge.svg\" alt=\"Open In Colab\"/></a>"
      ]
    },
    {
      "cell_type": "code",
      "metadata": {
        "id": "vMq_rQ8b-C_C",
        "colab": {
          "base_uri": "https://localhost:8080/",
          "height": 52
        },
        "outputId": "69cfda77-beb4-4488-c078-cf0cae40325e"
      },
      "source": [
        "def int_to_Roman(num):\n",
        " val = [1000, 900, 500, 400,100, 90, 50, 40,10, 9, 5, 4,1]\n",
        " syb = [\"M\", \"CM\", \"D\", \"CD\",\"C\", \"XC\", \"L\", \"XL\",\"X\", \"IX\", \"V\", \"IV\",\"I\"]\n",
        " roman_num = ''\n",
        " i = 0\n",
        " while  num > 0:\n",
        "    for _ in range(num // val[i]):\n",
        "      roman_num += syb[i]\n",
        "      num -= val[i]\n",
        "    i += 1\n",
        " return roman_num\n",
        "\n",
        "print(int_to_Roman(1))\n",
        "print(int_to_Roman(4712))"
      ],
      "execution_count": null,
      "outputs": [
        {
          "output_type": "stream",
          "text": [
            "I\n",
            "MMMMDCCXII\n"
          ],
          "name": "stdout"
        }
      ]
    },
    {
      "cell_type": "code",
      "metadata": {
        "id": "FlWClJJUhO0I"
      },
      "source": [
        "# Tower of Hanoi Solution\n",
        "\n",
        "def TowerOfHanoi(n , from_rod, to_rod, aux_rod): \n",
        "    if n == 1: \n",
        "        print(\"Move disk 1 from rod\",from_rod,\"to rod\",to_rod)\n",
        "        return\n",
        "    TowerOfHanoi(n-1, from_rod, aux_rod, to_rod) \n",
        "    print(\"Move disk\",n,\"from rod\",from_rod,\"to rod\",to_rod)\n",
        "    TowerOfHanoi(n-1, aux_rod, to_rod, from_rod) \n",
        "\n",
        "\n",
        "TowerOfHanoi(3, 'A', 'C', 'B')  "
      ],
      "execution_count": null,
      "outputs": []
    }
  ]
}