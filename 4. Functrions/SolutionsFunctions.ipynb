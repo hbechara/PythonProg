{
  "nbformat": 4,
  "nbformat_minor": 0,
  "metadata": {
    "colab": {
      "name": "SolutionsFunctions.ipynb",
      "provenance": [],
      "collapsed_sections": [],
      "authorship_tag": "ABX9TyOgWurCvCRZ5rpe6K6Tp7GQ",
      "include_colab_link": true
    },
    "kernelspec": {
      "name": "python3",
      "display_name": "Python 3"
    }
  },
  "cells": [
    {
      "cell_type": "markdown",
      "metadata": {
        "id": "view-in-github",
        "colab_type": "text"
      },
      "source": [
        "<a href=\"https://colab.research.google.com/github/hbechara/PythonProg/blob/main/4.%20Functrions/SolutionsFunctions.ipynb\" target=\"_parent\"><img src=\"https://colab.research.google.com/assets/colab-badge.svg\" alt=\"Open In Colab\"/></a>"
      ]
    },
    {
      "cell_type": "markdown",
      "metadata": {
        "id": "dBrOAIIru4O-"
      },
      "source": [
        "Write a function that takes a number and returns a list of all even numbers between 0 and that number.\n"
      ]
    },
    {
      "cell_type": "code",
      "metadata": {
        "id": "bl_mTbixPT92",
        "colab": {
          "base_uri": "https://localhost:8080/",
          "height": 34
        },
        "outputId": "54bffec9-5fbe-428c-e9ae-bd66a26a4f56"
      },
      "source": [
        "def function(num=2):\n",
        "  mylist = []\n",
        "  for i in range(1,num+1):\n",
        "    if i%2==0:\n",
        "      mylist.append(i) \n",
        "  return mylist\n",
        "\n",
        "print(function(6))"
      ],
      "execution_count": null,
      "outputs": [
        {
          "output_type": "stream",
          "text": [
            "[2, 4, 6]\n"
          ],
          "name": "stdout"
        }
      ]
    },
    {
      "cell_type": "markdown",
      "metadata": {
        "id": "Bv7KbT6BwG5N"
      },
      "source": [
        "Write a Python function that checks whether a passed string is palindrome or not. \n",
        "\n",
        "**Note:** A palindrome is a word, phrase, or sequence that reads the same backward as forward. So **isPalindrome(\"hannah\")** should return True.\n",
        "\n",
        "**Bonus**: Rewrite it to ignore spaces and caps, so that \"Red rum sir is murder\" counts as a palindrome."
      ]
    },
    {
      "cell_type": "code",
      "metadata": {
        "id": "vj8umotbvVB9"
      },
      "source": [
        "# Roberto's Solution\n",
        "\n",
        "def isPalindrome(name):\n",
        "  name = name.lower()\n",
        "  name = name.replace(\" \",\"\")\n",
        "  reversedString=\"\"\n",
        "  index = len(name) # calculate length of string and save in index\n",
        "  while index > 0: \n",
        "    reversedString += name[ index - 1 ] # save the value of str[index-1] in reverseString\n",
        "    index = index - 1 # decrement index\n",
        "  if reversedString == name:\n",
        "    return True\n",
        "    \n",
        "if isPalindrome(\"red rum sir is murder\"):\n",
        "  print(\"This is a palindrome\")\n",
        "else:\n",
        "  print(\"This is not a palindrome\")\n"
      ],
      "execution_count": null,
      "outputs": []
    },
    {
      "cell_type": "code",
      "metadata": {
        "id": "sosCQevfQa7w",
        "colab": {
          "base_uri": "https://localhost:8080/",
          "height": 34
        },
        "outputId": "d53d7e79-dfc5-4a52-fd1e-ed16c0108e54"
      },
      "source": [
        "# Adina's Solution\n",
        "\n",
        "def isPalindrome(name):\n",
        "  name = name.lower()\n",
        "  name = name.replace(\" \",\"\")\n",
        "  midpoint = (len(name)//2) # calculate the midpoint of the word (y in kayak, nn in Hannah)\n",
        "  #this foor loop goes through the word until it hits the midpoint, like a mirror, checking each letter \n",
        "  #against the letter mirroring it\n",
        "  for i in range(0,midpoint): \n",
        "    if name[i] != name[len(name)-i-1]: \n",
        "        return False\n",
        "  return True\n",
        "        \n",
        "\n",
        "if isPalindrome(\"Red rum sir is murder\"):\n",
        "  print(\"This is a palindrome\")\n",
        "else:\n",
        "  print(\"This is not a palindrome\")  \n"
      ],
      "execution_count": null,
      "outputs": [
        {
          "output_type": "stream",
          "text": [
            "This is a palindrome\n"
          ],
          "name": "stdout"
        }
      ]
    },
    {
      "cell_type": "code",
      "metadata": {
        "id": "KkvpfmrvR8DT",
        "colab": {
          "base_uri": "https://localhost:8080/",
          "height": 34
        },
        "outputId": "e15e14c1-063a-40ce-bceb-967e5a49597a"
      },
      "source": [
        "#Becca's Solution\n",
        "\n",
        "\n",
        "def isPalindrome(name):\n",
        "  name = name.lower()\n",
        "  name = name.replace(\" \",\"\")\n",
        "  reverse_name=''.join(reversed(name))\n",
        "  if name == reverse_name:\n",
        "    return True\n",
        "        \n",
        "\n",
        "if isPalindrome(\"Red rum sir is murder\"):\n",
        "  print(\"This is a palindrome\")\n",
        "else:\n",
        "  print(\"This is not a palindrome\")  "
      ],
      "execution_count": null,
      "outputs": [
        {
          "output_type": "stream",
          "text": [
            "This is a palindrome\n"
          ],
          "name": "stdout"
        }
      ]
    },
    {
      "cell_type": "markdown",
      "metadata": {
        "id": "0RwlrG0jumiB"
      },
      "source": [
        "The Fibonnaci seqence is a sequence of numbers where the next number in the sequence is the sum of the previous two numbers in the sequence. \n",
        "\n",
        "The sequence looks like this: 1, 1, 2, 3, 5, 8, 13, …\n",
        "\n",
        "The 7th Fibonacci number is 13. What is the Fibonacci(8)?\n",
        "\n",
        "Write a program that calculates the nth number in the Fibonacci sequence.\n",
        "\n",
        "Hint: Start with a flowchart, and take a look at the factorial [example again.](https://www.programiz.com/python-programming/examples/factorial-recursion)\n",
        "\n",
        "**Bonus points:** \n",
        "\n",
        "If you used recursion, rewrite this code using a for loop.\n",
        "Which is faster?\n",
        "\n"
      ]
    },
    {
      "cell_type": "code",
      "metadata": {
        "id": "aAfCGtbgvVaC",
        "colab": {
          "base_uri": "https://localhost:8080/",
          "height": 34
        },
        "outputId": "a14adf82-2817-44c2-cf05-9a8920843094"
      },
      "source": [
        "def recursive_fib(n):  \n",
        "   if n <= 1:  \n",
        "       return n  \n",
        "   else:  \n",
        "       return(recursive_fib(n-1) + recursive_fib(n-2))  \n",
        " \n",
        "print(recursive_fib(8))  "
      ],
      "execution_count": null,
      "outputs": [
        {
          "output_type": "stream",
          "text": [
            "21\n"
          ],
          "name": "stdout"
        }
      ]
    },
    {
      "cell_type": "code",
      "metadata": {
        "id": "OcZy16FKd0_1",
        "colab": {
          "base_uri": "https://localhost:8080/",
          "height": 34
        },
        "outputId": "872fd27b-9cd8-4d57-c66e-89d77342c113"
      },
      "source": [
        "def iterative_fib(n):\n",
        "    a,b = 0,1\n",
        "    for i in range(n): \n",
        "        a,b = b,a+b\n",
        "    return a\n",
        "\n",
        "print(iterative_fib(8))"
      ],
      "execution_count": null,
      "outputs": [
        {
          "output_type": "stream",
          "text": [
            "21\n"
          ],
          "name": "stdout"
        }
      ]
    },
    {
      "cell_type": "markdown",
      "metadata": {
        "id": "INeOjA6irnWY"
      },
      "source": [
        "**Extra Credit**: Write a function that converts a number to Roman Numerals\n",
        "\n",
        "Hints\n",
        "\n",
        "I = 1, V = 5, X = 10, L = 50, C = 100, D = 500, M = 1000\n",
        "\n",
        "Zero is not represented\n",
        "\n",
        "**Hint:** You may be tempted to nest a million ifs. In fact this code can be written entirely without ifs."
      ]
    },
    {
      "cell_type": "code",
      "metadata": {
        "id": "eOVDUV_mrk9f"
      },
      "source": [
        ""
      ],
      "execution_count": null,
      "outputs": []
    }
  ]
}