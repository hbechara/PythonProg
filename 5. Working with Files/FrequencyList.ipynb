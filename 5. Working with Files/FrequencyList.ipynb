{
  "nbformat": 4,
  "nbformat_minor": 0,
  "metadata": {
    "colab": {
      "name": "FrequencyList.ipynb",
      "provenance": []
    },
    "kernelspec": {
      "name": "python3",
      "display_name": "Python 3"
    },
    "language_info": {
      "name": "python"
    }
  },
  "cells": [
    {
      "cell_type": "code",
      "metadata": {
        "id": "vgnuN0JgvlOp"
      },
      "source": [
        "# Dictionaries \n",
        "# Reading from a file\n",
        "\n",
        "from google.colab import drive\n",
        "drive.mount('/content/drive')\n",
        "\n",
        "try:\n",
        " file = open(\"/content/drive/My Drive/Colab Notebooks/mystory\", \"r\")\n",
        " text = file.read() # stores the text file in a string\n",
        " frequencies = {} # this is an empty dictionary\n",
        "\n",
        " words = text.lower().split(\" \") # this is a list of words in the sentence input\n",
        " for word in words: # for every word in the list words\n",
        "  if word not in frequencies: # if the word is not already in the dictionary\n",
        "    frequencies[word] = text.count(word) # add the word to the dictionary\n",
        "\n",
        " print(frequencies)\n",
        "\n",
        "except OSError as e:\n",
        "    print(\"File not found:\", e.errno)\n",
        "\n",
        "drive.flush_and_unmount()"
      ],
      "execution_count": null,
      "outputs": []
    }
  ]
}