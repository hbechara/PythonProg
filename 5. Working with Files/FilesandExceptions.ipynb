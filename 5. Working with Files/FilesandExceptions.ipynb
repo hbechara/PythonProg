{
  "nbformat": 4,
  "nbformat_minor": 0,
  "metadata": {
    "celltoolbar": "Slideshow",
    "kernelspec": {
      "display_name": "Python 3",
      "language": "python",
      "name": "python3"
    },
    "language_info": {
      "codemirror_mode": {
        "name": "ipython",
        "version": 3
      },
      "file_extension": ".py",
      "mimetype": "text/x-python",
      "name": "python",
      "nbconvert_exporter": "python",
      "pygments_lexer": "ipython3",
      "version": "3.6.9"
    },
    "colab": {
      "name": "FilesandExceptions.ipynb",
      "provenance": []
    }
  },
  "cells": [
    {
      "cell_type": "markdown",
      "metadata": {
        "id": "jE7K3h7iPew2"
      },
      "source": [
        "\n",
        "Reading and Writing to Files\n",
        "\n",
        "- Step 1: Open the file\n",
        "- Step 2: Read/write from/to the file\n",
        "- Step 3: Close the file\n",
        "- Step 4: ???\n",
        "- Step 5: Profit!"
      ]
    },
    {
      "cell_type": "markdown",
      "metadata": {
        "id": "wM5aeXTfPew2"
      },
      "source": [
        "# Opening the file\n",
        "\n",
        "- To open a file we call the built-in function ``open(<file name>[, <mode>])``\n",
        "- Modes:\n",
        "   - ``r`` read from the file\n",
        "   - ``w`` write to file (if the file exists, its contents gets overwritten)\n",
        "   - ``a`` appends new data to a file (creates the file if it does not exists)\n",
        "   - ``r+, w+, a+``\n",
        "- the ``open`` function returns a file handle which can be used for reading and writing\n",
        "\n",
        "``file_handle = open(\"my_text.txt\", \"r\")``"
      ]
    },
    {
      "cell_type": "markdown",
      "metadata": {
        "id": "LY26e7H2Pew3"
      },
      "source": [
        "# Reading from a file\n",
        "\n",
        "It is possible to iterate through the file line by line using ``for``\n",
        "\n",
        "```python\n",
        "for line in file_handle:\n",
        "    print(line)\n",
        "```\n",
        "\n",
        "It is possible to read all the lines in a list using ``readlines()``\n",
        "\n",
        "```python\n",
        "lines = file_handle.readlines()\n",
        "for line in lines:\n",
        "    print(line)\n",
        "    ```"
      ]
    },
    {
      "cell_type": "markdown",
      "metadata": {
        "id": "kxPkd-yXPew3"
      },
      "source": [
        "It is possible to read one line from the file using ``readline()``. An empty line is returned when the end of the file is reached.\n",
        "\n",
        "```python\n",
        "while(True):\n",
        "    line = file_handle.readline()\n",
        "    if not line: break\n",
        "    print(line)\n",
        "```\n",
        "\n",
        "The lines read from a text file will have the ``\\n`` character at the end.\n",
        "\n",
        "It is possible to read the whole file as a string using ``read``."
      ]
    },
    {
      "cell_type": "markdown",
      "metadata": {
        "id": "_ihwc4o9Pew3"
      },
      "source": [
        "# Writing to a file\n",
        "\n",
        "- The file needs to be opened with a mode that permits writine\n",
        "- A string can be written using ``write``. New line is not automatically added to the line: eg. ``text_file.write(\"This is a line\\n\")``\n",
        "- It is possible to write several lines at once: ``writelines`` takes a list of strings"
      ]
    },
    {
      "cell_type": "markdown",
      "metadata": {
        "id": "9wV8La_hPew3"
      },
      "source": [
        "# Closing a file\n",
        "\n",
        "- The file is closed using ``close()``: ``file_handle.close()``\n",
        "- It is a good practice to close a file when it is no longer needed"
      ]
    },
    {
      "cell_type": "markdown",
      "metadata": {
        "id": "JV31ozOiPew3"
      },
      "source": [
        "# Exceptions\n",
        "\n",
        "- Errors detected during the execution are called **exceptions**\n",
        "- If an exception is not treated (caught) it is unconditionally fatal (the program stops)\n",
        "- Exceptions are different from **syntax errors**\n",
        "- There are cases where you can capture syntax errors using exception handling\n",
        "- Failing to find a file counts as an exception so you should wrap your file handing in a try/else block"
      ]
    },
    {
      "cell_type": "code",
      "metadata": {
        "id": "FciASmx8Pew3"
      },
      "source": [
        "try:\n",
        "    <block>\n",
        "exception(<ex11>, <ex12>, ...)[as value_1]:\n",
        "    <block_ex_1>\n",
        "exception(<ex21>, <ex22>, ...)[as <value_2>]:\n",
        "    <block_ex_2>\n",
        "...\n",
        "else:\n",
        "    <block_else>\n",
        "finally:\n",
        "    <block finally>\n"
      ],
      "execution_count": null,
      "outputs": []
    },
    {
      "cell_type": "code",
      "metadata": {
        "id": "MqeMz6FAPew3"
      },
      "source": [
        "# Catching an exception\n",
        "s = \"test\"\n",
        "try:\n",
        "    print(s[10])\n",
        "    print(\"After print\")\n",
        "except IndexError as value:\n",
        "    print(\"Exception:\", value)\n",
        "else:\n",
        "    print(\"No error\")\n",
        "    \n",
        "print(\"End of program\")"
      ],
      "execution_count": null,
      "outputs": []
    },
    {
      "cell_type": "markdown",
      "metadata": {
        "id": "p0okJqEGPew3"
      },
      "source": [
        "# Examples of exceptions\n",
        "\n",
        "- **IOError**: an I/O operation fails (e.g. open a file that does not exist)\n",
        "- **IndexError**: when a sequence is indexed with a number of a nonexistent element\n",
        "- **KeyError**: when a dictionary key is not found\n",
        "- **ValueError**: when a built-in operation or function receives an argument that has right type but inappropriate value (e.g. int(“10a”))\n",
        "\n",
        "You can see more exceptions at <a href=\"https://docs.python.org/3.6/library/exceptions.html\" target=\"_blank\">https://docs.python.org/3.6/library/exceptions.html</a>"
      ]
    },
    {
      "cell_type": "markdown",
      "metadata": {
        "id": "zPucToExPew3"
      },
      "source": [
        "## Try it out\n",
        "\n",
        "- Rewrite last week's frequency dictionary to get the words from a document rather than a sentence\n",
        "\n",
        "- You can access the files on your google directory by mounting the drive:\n",
        "\n",
        "```python\n",
        "from google.colab import drive\n",
        "drive.mount('/content/drive')\n",
        "```"
      ]
    }
  ]
}