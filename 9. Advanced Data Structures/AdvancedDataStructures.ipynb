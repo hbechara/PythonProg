{
  "nbformat": 4,
  "nbformat_minor": 0,
  "metadata": {
    "colab": {
      "name": "AdvancedDataStructures.ipynb",
      "provenance": []
    },
    "kernelspec": {
      "name": "python3",
      "display_name": "Python 3"
    },
    "language_info": {
      "name": "python"
    }
  },
  "cells": [
    {
      "cell_type": "markdown",
      "metadata": {
        "id": "SPgicOFqwL2n"
      },
      "source": [
        "# Advanced Data Structures\n"
      ]
    },
    {
      "cell_type": "markdown",
      "metadata": {
        "id": "rpXq1DfzwRA2"
      },
      "source": [
        "Earlier this semester, we covered built-in data structures:\n",
        "\n",
        "1. lists\n",
        "2. dictionaries\n",
        "3. tuples\n",
        "\n",
        "Advanced Data Structures:\n",
        "\n",
        "1. Stacks, Queues and Linked Lists\n",
        "2. Search Trees\n",
        "3. Balanced Search Trees"
      ]
    },
    {
      "cell_type": "markdown",
      "metadata": {
        "id": "X1xkc26UyKE4"
      },
      "source": [
        "# Linked Lists in Python\n",
        "\n",
        "Linked lists are linear structures consisting of nodes and dependecies among each other."
      ]
    },
    {
      "cell_type": "markdown",
      "metadata": {
        "id": "cv-TNtIdy2cK"
      },
      "source": [
        "Start with a single node:"
      ]
    },
    {
      "cell_type": "code",
      "metadata": {
        "id": "p9S8CuIiyqPL"
      },
      "source": [
        "class Node:\n",
        "  # constructor\n",
        "  def __init__(self, data, next=None): \n",
        "    self.data = data\n",
        "    self.next = next"
      ],
      "execution_count": 1,
      "outputs": []
    },
    {
      "cell_type": "code",
      "metadata": {
        "colab": {
          "base_uri": "https://localhost:8080/"
        },
        "id": "HnKyR3UUzB1G",
        "outputId": "d551bd07-3382-4767-fb17-da66dbd7f6b3"
      },
      "source": [
        "# Creating a single node\n",
        "first = Node(3)\n",
        "print(first.data)"
      ],
      "execution_count": 2,
      "outputs": [
        {
          "output_type": "stream",
          "name": "stdout",
          "text": [
            "3\n"
          ]
        }
      ]
    },
    {
      "cell_type": "markdown",
      "metadata": {
        "id": "PEYgIwpmy-C-"
      },
      "source": [
        "Join your nodes together to get a linked list:"
      ]
    },
    {
      "cell_type": "code",
      "metadata": {
        "id": "y96idg_HAF_s"
      },
      "source": [
        "# A Linked List class with a single head node\n",
        "class LinkedList:\n",
        "  def __init__(self):  \n",
        "    self.head = None\n"
      ],
      "execution_count": 4,
      "outputs": []
    },
    {
      "cell_type": "code",
      "metadata": {
        "colab": {
          "base_uri": "https://localhost:8080/"
        },
        "id": "2D82TqM7y8RH",
        "outputId": "fcd78b33-5832-4280-dcd1-7168c8e34391"
      },
      "source": [
        "# Linked List with a single node\n",
        "LL = LinkedList()\n",
        "LL.head = Node(3)\n",
        "print(LL.head.data)"
      ],
      "execution_count": 5,
      "outputs": [
        {
          "output_type": "stream",
          "name": "stdout",
          "text": [
            "3\n"
          ]
        }
      ]
    },
    {
      "cell_type": "markdown",
      "metadata": {
        "id": "3X2kSz9qI2IX"
      },
      "source": [
        "What methods do we think should be associated with this class?\n",
        "\n",
        "- Print method\n",
        "- insertion method"
      ]
    },
    {
      "cell_type": "code",
      "metadata": {
        "id": "XveDMqrmJE55"
      },
      "source": [
        " # print method for the linked list\n",
        "  def printLL(self):\n",
        "    current = self.head\n",
        "    while(current):\n",
        "      print(current.data)\n",
        "      current = current.next"
      ],
      "execution_count": null,
      "outputs": []
    },
    {
      "cell_type": "code",
      "metadata": {
        "id": "Mdg572XaJH9C"
      },
      "source": [
        "  # insertion method for the linked list\n",
        "  def insert(self, data):\n",
        "    newNode = Node(data)\n",
        "    if(self.head):\n",
        "      current = self.head\n",
        "      while(current.next):\n",
        "        current = current.next\n",
        "      current.next = newNode\n",
        "    else:\n",
        "      self.head = newNode"
      ],
      "execution_count": null,
      "outputs": []
    },
    {
      "cell_type": "markdown",
      "metadata": {
        "id": "I3hPEm7RJsGB"
      },
      "source": [
        "[Let's put this all together and test it out.](https://colab.research.google.com/drive/1H_iSJgBZrHsP1zMI4GPP9uXQFbCW49fT?usp=sharing)"
      ]
    },
    {
      "cell_type": "markdown",
      "metadata": {
        "id": "SRWCpaOVwxOU"
      },
      "source": [
        "## Stacks:\n",
        "\n",
        "- A stack is an ordered list that conforms to the principle of Last in First out (LIFO)\n",
        "- Stack values are added to the top of the list.\n",
        "- Stack values are removed from the top of the list."
      ]
    },
    {
      "cell_type": "code",
      "metadata": {
        "id": "HXfYKqt_QYRH"
      },
      "source": [
        "class Stack:\n",
        "   def __init__(self):\n",
        "        self.head = None"
      ],
      "execution_count": null,
      "outputs": []
    },
    {
      "cell_type": "markdown",
      "metadata": {
        "id": "viayiAB5Na65"
      },
      "source": [
        "How would we go about turning this  linked list into a stack? What operations do we think should be available?\n",
        "\n",
        "- Push: Adds an element to the top of the stack\n",
        "- Pop: Removes the element from the top of the stack and returns it."
      ]
    },
    {
      "cell_type": "code",
      "metadata": {
        "id": "ET_EYNp5NjLU"
      },
      "source": [
        "# In a stack, the new element becomes the head\n",
        "# The node then points to the old head as the next node\n",
        "\n",
        "def push(self, value)\n",
        "        self.head = Node(value, self.head)"
      ],
      "execution_count": null,
      "outputs": []
    },
    {
      "cell_type": "code",
      "metadata": {
        "id": "LLcIq37_PB5B"
      },
      "source": [
        "def pop(self):\n",
        "        if self.head is None:\n",
        "            return\n",
        "        # return the current head. \n",
        "        value = self.head.value\n",
        "        # set the new head to the next value\n",
        "        self.head = self.head.next\n",
        "\n",
        "        return value"
      ],
      "execution_count": null,
      "outputs": []
    },
    {
      "cell_type": "markdown",
      "metadata": {
        "id": "VWSvykPLxVGE"
      },
      "source": [
        "## Queues:\n",
        "\n",
        "- A queue is a list that conforms to the principle of First in First out (FIFO)\n",
        "- Queue values are added to the back of the list\n",
        "- Queue values are removed from the front of the list."
      ]
    },
    {
      "cell_type": "code",
      "metadata": {
        "id": "qnc4op1YQSQI"
      },
      "source": [
        "class Queue:    \n",
        "    def __init__(self):\n",
        "        self.front = self.rear = None"
      ],
      "execution_count": null,
      "outputs": []
    },
    {
      "cell_type": "markdown",
      "metadata": {
        "id": "5aBY4vXCPVtW"
      },
      "source": [
        "How would queues be different to stacks?\n",
        "\n",
        "- Enqueue: Adds an item to the queue\n",
        "- Dequeue: Removes an item from the queue in the same order that they were enqueued."
      ]
    },
    {
      "cell_type": "code",
      "metadata": {
        "id": "9lSiQyPwwQzu"
      },
      "source": [
        "# add a new node after read and move rear one node over\n",
        "# have the new rear point to the old rear\n",
        "\n",
        "def EnQueue(self, item):\n",
        "        temp = Node(item)\n",
        "         \n",
        "        if self.rear == None:\n",
        "            self.front = self.rear = temp\n",
        "            return\n",
        "        self.rear.next = temp\n",
        "        self.rear = temp"
      ],
      "execution_count": null,
      "outputs": []
    },
    {
      "cell_type": "code",
      "metadata": {
        "id": "ZVMWLg1aQGIO"
      },
      "source": [
        "# remove the front node and set the next node to front\n",
        "\n",
        "def DeQueue(self):\n",
        "         \n",
        "    if self.isEmpty():\n",
        "          return\n",
        "    temp = self.front\n",
        "    self.front = temp.next\n",
        " \n",
        "    if (self.front == None):\n",
        "        self.rear = None"
      ],
      "execution_count": null,
      "outputs": []
    },
    {
      "cell_type": "markdown",
      "metadata": {
        "id": "IMTH5zgWS9OS"
      },
      "source": [
        "Exercise: \n",
        "- How would you implement isEmpty() for both the stack and the queue.\n",
        "- Implement peek(), a method which retrieves the top value from the stack without removing it.\n",
        "- Implement display(), a method which prints all the elements in a stack.\n",
        "\n"
      ]
    }
  ]
}