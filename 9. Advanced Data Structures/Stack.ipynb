{
  "nbformat": 4,
  "nbformat_minor": 0,
  "metadata": {
    "colab": {
      "name": "Stack.ipynb",
      "provenance": []
    },
    "kernelspec": {
      "name": "python3",
      "display_name": "Python 3"
    },
    "language_info": {
      "name": "python"
    }
  },
  "cells": [
    {
      "cell_type": "code",
      "metadata": {
        "id": "IAD9D1Kjxb3V"
      },
      "source": [
        "# A single node of a singly linked list\n",
        "class Node:\n",
        "  # constructor\n",
        "  def __init__(self, data, next=None): \n",
        "    self.data = data\n",
        "    self.next = next"
      ],
      "execution_count": 1,
      "outputs": []
    },
    {
      "cell_type": "code",
      "metadata": {
        "id": "FGFUA3xhxjLK"
      },
      "source": [
        "class Stack:\n",
        "   def __init__(self):\n",
        "        self.head = None\n",
        "   #utility function to add an element\n",
        "   def push(self, value):\n",
        "        self.head = Node(value, self.head)\n",
        "   #utility function to remove an element\n",
        "   def pop(self):\n",
        "        if self.head is None:\n",
        "            return\n",
        "        # return the current head. \n",
        "        value = self.head.data\n",
        "        # set the new head to the next value\n",
        "        self.head = self.head.next\n",
        "\n",
        "        return value\n",
        "\n",
        "  \n",
        "   def peek(self):\n",
        "        if self.head is None:\n",
        "            return\n",
        "\n",
        "        return self.head.data\n",
        "\n",
        "   def isEmpty(self):\n",
        "        return self.head is None\n",
        "\n",
        "   def display(self):\n",
        "        \n",
        "        temp = node(self)\n",
        "        while temp:\n",
        "          print(temp.data)\n",
        "          temp = temp.next\n",
        "\n"
      ],
      "execution_count": 10,
      "outputs": []
    },
    {
      "cell_type": "code",
      "metadata": {
        "id": "YCBYAva_xxHe"
      },
      "source": [
        "if __name__ == '__main__':\n",
        "    s = Stack()\n",
        "\n",
        "    max_range = 100\n",
        "\n",
        "    for i in range(max_range):\n",
        "        s.push(i)\n",
        "\n",
        "    i = max_range\n",
        "    while not s.isEmpty():\n",
        "        i -= 1\n",
        "        print(s.peek())\n",
        "        assert s.pop() == i\n",
        "\n",
        "   "
      ],
      "execution_count": null,
      "outputs": []
    }
  ]
}