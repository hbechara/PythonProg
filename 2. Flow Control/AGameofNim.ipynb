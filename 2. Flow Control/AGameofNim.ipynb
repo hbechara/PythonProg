{
  "nbformat": 4,
  "nbformat_minor": 0,
  "metadata": {
    "colab": {
      "name": "AGameofNim.ipynb",
      "provenance": [],
      "authorship_tag": "ABX9TyP4pKPf8NvuFUmN2yuDHPMr",
      "include_colab_link": true
    },
    "kernelspec": {
      "name": "python3",
      "display_name": "Python 3"
    }
  },
  "cells": [
    {
      "cell_type": "markdown",
      "metadata": {
        "id": "view-in-github",
        "colab_type": "text"
      },
      "source": [
        "<a href=\"https://colab.research.google.com/github/hbechara/PythonProg/blob/main/2.%20Flow%20Control/AGameofNim.ipynb\" target=\"_parent\"><img src=\"https://colab.research.google.com/assets/colab-badge.svg\" alt=\"Open In Colab\"/></a>"
      ]
    },
    {
      "cell_type": "markdown",
      "metadata": {
        "id": "O_zS7neQks_V"
      },
      "source": [
        "**Extra Problem:** A Game of Nim\n",
        "\n",
        "The game Nim starts out with 12 sticks on the table.\n",
        "Each player takes turns picking up 1, 2 or 3 sticks and cannot pass.\n",
        "Whoever picks up the last stick wins.\n",
        "\n",
        "Hint: The computer should pick sticks at random. Take a look at the random module (import random)\n",
        "\n",
        "Input: \n",
        "* The number of sticks the player is picking up\n",
        "\n",
        "Output:\n",
        "* The number of sticks on the table\n",
        "* Who won (the player or the computer)\n",
        "* Other relevant info? \n",
        "\n",
        "**Extra Credit:**\n",
        "Let's make the computer smarter. Can you make it so the computer always wins?\n",
        "\n",
        "\n",
        "Hints: \n",
        "* Break down the problem into smaller problems.\n",
        "* Think of your problem's flow before you start writing the code.\n",
        "* If you need to visualise it, map out a flow-chart."
      ]
    },
    {
      "cell_type": "code",
      "metadata": {
        "id": "LvIpxK-kxy4g",
        "colab": {
          "base_uri": "https://localhost:8080/"
        },
        "outputId": "c2c6f3de-acc8-47c4-bc15-eb5cf5211437"
      },
      "source": [
        "import random\n",
        "print(\"Let's play Nim\\n\")\n",
        " \n",
        "sticks = 12\n",
        "\n",
        "\n",
        "while sticks:\n",
        "  #Player Turn\n",
        "  print(\"How many sticks would you like to take? \", end='')\n",
        "  take = int(input())\n",
        " \n",
        "  while take < 1 or take > min(3,sticks):\n",
        "\t  print(\"That's too many sticks.\\n\")\n",
        "\t  take = int(input())\n",
        "\n",
        " \n",
        "  sticks = sticks - take\n",
        "  print(\"You take\", take, \"stick(s)\")\n",
        "  print(sticks, \"sticks remain.\\n\")\n",
        "  if not sticks:\n",
        "    print(\"You have taken the last stick. You have won.\")\n",
        "    continue\n",
        "\n",
        "  #Computer Turn, computer chooses at random\n",
        "  if sticks<=3:\n",
        "    take = sticks\n",
        "  else:\n",
        "    take = random.randint(1,3)\n",
        "  sticks = sticks - take\n",
        "  print (\"Computer takes\", take, \"sticks\")\n",
        "  print (sticks, \"sticks remain.\\n\")\n",
        "  if not sticks:\n",
        "    print(\"The computer took the last stick. You have lost.\")\n",
        "    \n",
        "print(\"Game Over\")"
      ],
      "execution_count": null,
      "outputs": [
        {
          "output_type": "stream",
          "name": "stdout",
          "text": [
            "Let's play Nim\n",
            "\n",
            "How many sticks would you like to take? 3\n",
            "You take 3 stick(s)\n",
            "9 sticks remain.\n",
            "\n",
            "Computer takes 3 sticks\n",
            "6 sticks remain.\n",
            "\n",
            "How many sticks would you like to take? 2\n",
            "You take 2 stick(s)\n",
            "4 sticks remain.\n",
            "\n",
            "Computer takes 1 sticks\n",
            "3 sticks remain.\n",
            "\n",
            "How many sticks would you like to take? 3\n",
            "You take 3 stick(s)\n",
            "0 sticks remain.\n",
            "\n",
            "You have taken the last stick. You have won.\n",
            "Game Over\n"
          ]
        }
      ]
    },
    {
      "cell_type": "code",
      "metadata": {
        "id": "O3iFoh6sjwAS",
        "colab": {
          "base_uri": "https://localhost:8080/"
        },
        "outputId": "e34fe9cf-0f4c-4a22-9a90-930cedeaf775"
      },
      "source": [
        "print(\"Let's play Nim, but you always lose.\\n\")\n",
        " \n",
        "sticks = 12\n",
        "\n",
        "\n",
        "while sticks:\n",
        "  #Player Turn\n",
        "  print(\"How many tokens would you like to take? \", end='')\n",
        "  take = int(input())\n",
        " \n",
        "  while take < 1 or take > 3:\n",
        "\t  print(\"Number must be between 1 and 3.\\n\")\n",
        "\t  take = int(input())\n",
        "\n",
        " \n",
        "  sticks = sticks - take\n",
        "  print(\"You take\", take, \"stick(s)\")\n",
        "  print(sticks, \"sticks remain.\\n\")\n",
        "  if not sticks:\n",
        "    print(\"You have taken the last stick. You have won.\")\n",
        "    continue\n",
        "\n",
        "  #Computer Turn, computer always wins\n",
        "  take = sticks % 4\n",
        "  sticks = sticks - take\n",
        "  print (\"Computer takes\", take, \"sticks\")\n",
        "  print (sticks, \"sticks remain.\\n\")\n",
        "  if not sticks:\n",
        "    print(\"The computer took the last stick. You have lost.\")\n",
        " \n",
        "print(\"Game Over\")"
      ],
      "execution_count": 1,
      "outputs": [
        {
          "output_type": "stream",
          "name": "stdout",
          "text": [
            "Let's play Nim, but you always lose.\n",
            "\n",
            "How many tokens would you like to take? 2\n",
            "You take 2 stick(s)\n",
            "10 sticks remain.\n",
            "\n",
            "Computer takes 2 sticks\n",
            "8 sticks remain.\n",
            "\n",
            "How many tokens would you like to take? 4\n",
            "Number must be between 1 and 3.\n",
            "\n",
            "3\n",
            "You take 3 stick(s)\n",
            "5 sticks remain.\n",
            "\n",
            "Computer takes 1 sticks\n",
            "4 sticks remain.\n",
            "\n",
            "How many tokens would you like to take? 3\n",
            "You take 3 stick(s)\n",
            "1 sticks remain.\n",
            "\n",
            "Computer takes 1 sticks\n",
            "0 sticks remain.\n",
            "\n",
            "The computer took the last stick. You have lost.\n",
            "Game Over\n"
          ]
        }
      ]
    }
  ]
}