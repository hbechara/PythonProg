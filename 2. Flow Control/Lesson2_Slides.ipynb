{
  "nbformat": 4,
  "nbformat_minor": 0,
  "metadata": {
    "celltoolbar": "Slideshow",
    "kernelspec": {
      "display_name": "Python 3",
      "language": "python",
      "name": "python3"
    },
    "language_info": {
      "codemirror_mode": {
        "name": "ipython",
        "version": 3
      },
      "file_extension": ".py",
      "mimetype": "text/x-python",
      "name": "python",
      "nbconvert_exporter": "python",
      "pygments_lexer": "ipython3",
      "version": "3.6.9"
    },
    "colab": {
      "name": "Lesson2_Slides.ipynb",
      "provenance": []
    }
  },
  "cells": [
    {
      "cell_type": "markdown",
      "metadata": {
        "id": "KIFAPIDkjnrw"
      },
      "source": [
        "# Flow Control and Data Structures"
      ]
    },
    {
      "cell_type": "markdown",
      "metadata": {
        "id": "AMt_5jORjnrx"
      },
      "source": [
        "# Today\n",
        "\n",
        "- Controlling the Flow\n",
        "    - Conditionals\n",
        "    - For and while Loops\n",
        "    - Program Planning\n",
        "\n"
      ]
    },
    {
      "cell_type": "markdown",
      "metadata": {
        "id": "rTw1el0Tjnrx"
      },
      "source": [
        "# Controlling the Flow"
      ]
    },
    {
      "cell_type": "markdown",
      "metadata": {
        "id": "teTnLt0Qjnry"
      },
      "source": [
        "# Indentation is **NOT OPTIONAL!**\n",
        "\n",
        "- Python does not use ``{`` or ``;`` like the lesser programming languages.\n",
        "- Instead statements that are executed together are blocked together\n",
        "- Python does not impose the amount of indentation for a block \n",
        "- Try not to mix spaces and tabs (recommended to use only spaces). Pay particular attention when you copy code from some other source (e.g. Internet)\n",
        "- Set your IDE to expand to spaces\n",
        "- Makes reading the code easier and it is not optional like in other languages"
      ]
    },
    {
      "cell_type": "markdown",
      "metadata": {
        "id": "YNfg3YR7jnry"
      },
      "source": [
        "# For loops\n",
        "\n",
        "- repeats a block for each element in a sequence\n",
        "\n",
        "```python\n",
        "for variable in sequence:\n",
        "    <block>\n",
        "```\n",
        "\n",
        "- strings are sequences of characters so we can iterate through a string\n",
        "\n",
        "```python\n",
        "word=\"string\"\n",
        "for letter in word:\n",
        "    print(letter)\n",
        "```"
      ]
    },
    {
      "cell_type": "markdown",
      "metadata": {
        "id": "WUNm68Yajnry"
      },
      "source": [
        "# Iterating over numerical values\n",
        "\n",
        "- in some cases it is necessary to iterate over numerical values\n",
        "- ``range(n)`` will generate all the numbers from **0** to **n-1**\n",
        "\n",
        "\n",
        "```python\n",
        "for i in range(5):\n",
        "    print(\"i=\", i, sep=\"\")   \n",
        "```"
      ]
    },
    {
      "cell_type": "markdown",
      "metadata": {
        "id": "emHxBrQojnry"
      },
      "source": [
        "# while structure\n",
        "\n",
        "- repeats a block as long as a condition is true\n",
        "\n",
        "```python\n",
        "while <condition>:\n",
        "    <block>\n",
        "```\n",
        "\n",
        "- at times a *sentry variable* is used in the condition\n",
        "- the sentry variable needs to be initialised before it is used\n",
        "\n",
        "```python\n",
        "answer = \"\"\n",
        "while answer != \"y\":\n",
        "    answer = input(\"Exit (y/n):\")\n",
        "```"
      ]
    },
    {
      "cell_type": "markdown",
      "metadata": {
        "id": "jNsldNxsjnrz"
      },
      "source": [
        "# for vs while\n",
        "\n",
        "- Use ``for`` when you know how many times you need to execute something\n",
        "- Use ``while`` when you need to execute something a number of times but you do not know apriori\n",
        "\n",
        "Example: For how long will Batman fight crime?\n",
        "- **for** 20 years?\n",
        "- **while** crime exists?"
      ]
    },
    {
      "cell_type": "markdown",
      "metadata": {
        "id": "XhqrRMW2jnrz"
      },
      "source": [
        "# If structure\n",
        "\n",
        "- branching is fundamental for programming as it allows us to control what happens in certain conditions\n",
        "- python uses ``if-elif-else`` structure\n",
        "\n",
        "```python\n",
        "if <condition 1>:\n",
        "    <block 1>\n",
        "elif <condition 2>:\n",
        "    <block 2>\n",
        "elif <condition 3>:\n",
        "    <block 3>\n",
        "    \n",
        "elif <condition N>:\n",
        "    <block N>\n",
        "else:\n",
        "    <block else>\n",
        "```\n",
        "\n"
      ]
    },
    {
      "cell_type": "markdown",
      "metadata": {
        "id": "cncf3ls1jnrz"
      },
      "source": [
        "# Controlling for and while\n",
        "\n",
        "- it is possible to check what happens inside a loop using ``break`` and ``continue``\n",
        "- ``break`` interrupts the execution of a block inside the loop and continues the execution after the loop\n",
        "- ``continue`` interrupts the execution of a block inside the loop and continues the execution with the first line of the block\n",
        "- ``break`` can prove very useful if the exit condition for while is very complicated"
      ]
    },
    {
      "cell_type": "markdown",
      "metadata": {
        "id": "Z6XE5uoSjnr0"
      },
      "source": [
        "# Try it out\n",
        "\n",
        "FizzBuzz is a very simple programming task, used in software developer job interviews, to determine whether the job candidate can actually write code.\n",
        "\n",
        "At this stage you can already solve this problem:\n",
        "\n",
        "**Write a program that prints the numbers from 1 to 100. But for multiples of three print \"Fizz\" instead of the number and for the multiples of five print \"Buzz\". For numbers which are multiples of both three and five print \"FizzBuzz\".**"
      ]
    },
    {
      "cell_type": "markdown",
      "metadata": {
        "id": "8-OcVaE8jnr0"
      },
      "source": [
        "# Further reading\n",
        "\n",
        "How to make you loops more pythonic: https://dbader.org/blog/pythonic-loops (a bit more advanced)\n",
        "\n",
        "If structure http://www.python-course.eu/python3_conditional_statements.php\n",
        "\n",
        "While loops http://www.python-course.eu/python3_loops.php\n",
        "\n",
        "For loops http://www.python-course.eu/python3_for_loop.php\n",
        "\n",
        "Read Chapters 3 and 4 of Python Programming for the Absolute Beginner by Michael Dawson\n"
      ]
    },
    {
      "cell_type": "markdown",
      "metadata": {
        "id": "rMNfnrumjnr_"
      },
      "source": [
        "\n",
        "## **Make a Rock-Paper-Scissors game.**\n",
        "   - Ask for player play (using input) \n",
        "   - randomise the computer's pick \n",
        "   - print out a message to the player telling them the computer's pick and if they lost/won\n",
        "   - ask if the player wants to start a new game\n",
        "\n",
        "Remember the rules:\n",
        "- Rock beats scissors\n",
        "- Scissors beats paper\n",
        "- Paper beats rock\n",
        "\n",
        "Extra considerations\n",
        "    - If the player enters an invalid option, tell them to pick again until they have picked a valid one\n",
        "    \n",
        "    \n",
        "\n",
        "\n",
        "   \n",
        "\n"
      ]
    },
    {
      "cell_type": "markdown",
      "metadata": {
        "id": "cOYv9CmDjnr_"
      },
      "source": [
        "##  Write a Python program to sort a list of elements using the bubble sort algorithm.\n",
        "\n",
        "- Bubble Sort is the simplest sorting algorithm that works by repeatedly swapping the adjacent elements in a list if they are in wrong order.\n",
        "\n"
      ]
    },
    {
      "cell_type": "code",
      "metadata": {
        "id": "yJllML6Ijnr_",
        "outputId": "e7fcf82b-d3cb-4255-c227-4afceed0aca2"
      },
      "source": [
        "\n",
        "YouTubeVideo('Cq7SMsQBEUw', width=700, height=525)"
      ],
      "execution_count": null,
      "outputs": [
        {
          "data": {
            "image/jpeg": "[encoded data removed]",
            "text/html": [
              "\n",
              "        <iframe\n",
              "            width=\"700\"\n",
              "            height=\"525\"\n",
              "            src=\"https://www.youtube.com/embed/Cq7SMsQBEUw\"\n",
              "            frameborder=\"0\"\n",
              "            allowfullscreen\n",
              "        ></iframe>\n",
              "        "
            ],
            "text/plain": [
              "<IPython.lib.display.YouTubeVideo at 0x7f8b8443bac8>"
            ]
          },
          "execution_count": 26,
          "metadata": {},
          "output_type": "execute_result"
        }
      ]
    }
  ]
}