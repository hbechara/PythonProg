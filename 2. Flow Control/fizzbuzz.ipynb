{
  "nbformat": 4,
  "nbformat_minor": 0,
  "metadata": {
    "colab": {
      "name": "fizzbuzz.ipynb",
      "provenance": []
    },
    "kernelspec": {
      "name": "python3",
      "display_name": "Python 3"
    }
  },
  "cells": [
    {
      "cell_type": "code",
      "metadata": {
        "id": "wHZCBQ4208Sa"
      },
      "source": [
        "for fizzbuzz in range(50):\n",
        "    if fizzbuzz % 3 == 0 and fizzbuzz % 5 == 0:\n",
        "        print(\"fizzbuzz\")\n",
        "        continue\n",
        "    elif fizzbuzz % 3 == 0:\n",
        "        print(\"fizz\")\n",
        "        continue\n",
        "    elif fizzbuzz % 5 == 0:\n",
        "        print(\"buzz\")\n",
        "        continue\n",
        "    print(fizzbuzz)"
      ],
      "execution_count": null,
      "outputs": []
    },
    {
      "cell_type": "code",
      "metadata": {
        "id": "05ZjzEyD1ndd"
      },
      "source": [
        ""
      ],
      "execution_count": null,
      "outputs": []
    },
    {
      "cell_type": "code",
      "metadata": {
        "id": "_fY_440y1iQr"
      },
      "source": [
        "for num in range(1,100):\n",
        "    string = \"\"\n",
        "    if num % 3 == 0:\n",
        "        string = string + \"Fizz\"\n",
        "    if num % 5 == 0:\n",
        "        string = string + \"Buzz\"\n",
        "    if num % 5 != 0 and num % 3 != 0:\n",
        "        string = string + str(num)\n",
        "    print(string)"
      ],
      "execution_count": null,
      "outputs": []
    }
  ]
}