{
  "nbformat": 4,
  "nbformat_minor": 0,
  "metadata": {
    "colab": {
      "name": "OOPExample1.ipynb",
      "provenance": [],
      "authorship_tag": "ABX9TyPLId+/nYi/lFAjJwVWIAoY",
      "include_colab_link": true
    },
    "kernelspec": {
      "name": "python3",
      "display_name": "Python 3"
    },
    "language_info": {
      "name": "python"
    }
  },
  "cells": [
    {
      "cell_type": "markdown",
      "metadata": {
        "id": "view-in-github",
        "colab_type": "text"
      },
      "source": [
        "<a href=\"https://colab.research.google.com/github/hbechara/PythonProg/blob/main/7.%20Object%20Oriented%20Programming/OOPExample1.ipynb\" target=\"_parent\"><img src=\"https://colab.research.google.com/assets/colab-badge.svg\" alt=\"Open In Colab\"/></a>"
      ]
    },
    {
      "cell_type": "code",
      "metadata": {
        "id": "7QUkVfSwcSb4"
      },
      "source": [
        "class HertieStudent:\n",
        "  #Attributes\n",
        "  def __init__(self, student_number, name, programme=\"N/A\"):\n",
        "    self.__sn = student_number\n",
        "    self.__name = name\n",
        "    self.__programme = programme\n",
        "    self.__fees = False\n",
        "\n",
        "  #methods\n",
        "  def setEmail(self):\n",
        "    self.__email = self.__name + \"@hertie-school.org\"\n",
        "  def getEmail(self):\n",
        "    print(self.__email)\n",
        "  \n",
        "  def payFees(self):\n",
        "    self.__fees = True\n",
        "\n",
        "  def enrollStudent(self, programme):\n",
        "    if self.__fees == True:\n",
        "      self.__programme = programme\n",
        "    else:\n",
        "      print(self.__name + \" needs to cough up the cash first.\")\n",
        "\n",
        "  def checkEnrollment(self):\n",
        "    if self.__programme == \"N/A\":\n",
        "      print(self.__name + \" is not yet enrolled.\")\n",
        "    else:\n",
        "      print(self.__programme)\n"
      ],
      "execution_count": 11,
      "outputs": []
    },
    {
      "cell_type": "code",
      "metadata": {
        "colab": {
          "base_uri": "https://localhost:8080/"
        },
        "id": "qVbF8aEbdxlo",
        "outputId": "df73d0ea-2828-45f4-82fb-59cca4913969"
      },
      "source": [
        "student1 = HertieStudent(1, \"Bob\")\n",
        "student1.enrollStudent(\"MPP\")\n",
        "student1.payFees()\n",
        "student1.enrollStudent(\"MPP\")\n",
        "student1.checkEnrollment()\n",
        "\n",
        "student1.setEmail()\n",
        "student1.getEmail()"
      ],
      "execution_count": 12,
      "outputs": [
        {
          "output_type": "stream",
          "name": "stdout",
          "text": [
            "Bob needs to cough up the cash first.\n",
            "MPP\n",
            "Bob@hertie-school.org\n"
          ]
        }
      ]
    }
  ]
}