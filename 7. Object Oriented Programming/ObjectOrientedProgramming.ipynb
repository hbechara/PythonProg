{
  "nbformat": 4,
  "nbformat_minor": 0,
  "metadata": {
    "celltoolbar": "Slideshow",
    "kernelspec": {
      "display_name": "Python 3",
      "language": "python",
      "name": "python3"
    },
    "language_info": {
      "codemirror_mode": {
        "name": "ipython",
        "version": 3
      },
      "file_extension": ".py",
      "mimetype": "text/x-python",
      "name": "python",
      "nbconvert_exporter": "python",
      "pygments_lexer": "ipython3",
      "version": "3.6.9"
    },
    "colab": {
      "name": "ObjectOrientedProgramming.ipynb",
      "provenance": []
    }
  },
  "cells": [
    {
      "cell_type": "markdown",
      "metadata": {
        "id": "tPG4DaMIOYwf"
      },
      "source": [
        "# Object Oriented Programming\n",
        "\n",
        "- Why\n",
        "- How\n",
        "- When\n",
        "- Do I have to?"
      ]
    },
    {
      "cell_type": "markdown",
      "metadata": {
        "id": "p92UMpAmOYwi"
      },
      "source": [
        "# So which is better? \n",
        "\n",
        "## Many wars have been fought over this disagreement.\n",
        "\n",
        "# My conclusion:  ¯\\\\\\_(ツ)\\_/¯ \n"
      ]
    },
    {
      "cell_type": "markdown",
      "metadata": {
        "id": "KJcL3HxCOYwi"
      },
      "source": [
        "# Class \n",
        "\n",
        "- A class is a blueprint for an object. \n",
        "- A class has attributes and behaviour\n",
        "- For example, I am an object of class human. So are you. (Classes are not like that at all but it helps to think of them way.)\n"
      ]
    },
    {
      "cell_type": "code",
      "metadata": {
        "id": "KuIFtt_YOYwj"
      },
      "source": [
        "# This is an empty class\n",
        "\n",
        "class Wizard:\n",
        "    pass"
      ],
      "execution_count": null,
      "outputs": []
    },
    {
      "cell_type": "markdown",
      "metadata": {
        "id": "8DsQszBxOYwj"
      },
      "source": [
        "# Object\n",
        "\n",
        "- An object (instance) is an instantiation of a class.\n",
        "- When a class is defined, only the description is defined.\n",
        "- So a class does not really exist in memory until it is instantiated.\n",
        "- Kind of like a human doesn't really exist until they are born... \n",
        "- am I stretching the metaphor a bit?\n"
      ]
    },
    {
      "cell_type": "code",
      "metadata": {
        "id": "-mcHyTPPOYwk"
      },
      "source": [
        "# Creating an instance of a class\n",
        "\n",
        "gandalf = Wizard()"
      ],
      "execution_count": null,
      "outputs": []
    },
    {
      "cell_type": "markdown",
      "metadata": {
        "id": "7ymfkRKpOYwk"
      },
      "source": [
        "### Each class has a number of attributes and behaviours associated with it\n"
      ]
    },
    {
      "cell_type": "code",
      "metadata": {
        "id": "4w7R4tSoOYwl"
      },
      "source": [
        "class Wizard:\n",
        "    \n",
        "    beard_colour = \"white\" #this is an attribute\n",
        "    \n",
        "    #class constructor - automatically called when I instantiate a class\n",
        "    def __init__(self, title, age, specialisation):\n",
        "        self.title = title #these are also attributes\n",
        "        self.age = age #these are attributes\n",
        "        self.specialisation = specialisation #these are attributes"
      ],
      "execution_count": null,
      "outputs": []
    },
    {
      "cell_type": "code",
      "metadata": {
        "id": "XOEXtTF7OYwl",
        "outputId": "41922d81-dd1d-460c-9804-36eb605fcc98"
      },
      "source": [
        "# To create a wizard, I have to instantiate one\n",
        "\n",
        "gandalf = Wizard(\"the Grey\",\"5000\",\"taking hobbits on adventures\") # we are specifying the variables for the constructor\n",
        "dumbledore = Wizard(\"Headmaster\",\"150\",\"looking like Gandalf\")\n",
        "\n",
        "\n",
        "print(\"Gandalf is known as\", gandalf.title, \"he is\", gandalf.age, \"years old and his specialty is\", gandalf.specialisation)\n",
        "print(\"Dumbledore is known as\", dumbledore.title, \"he is\", dumbledore.age, \"years old and his specialty is\", dumbledore.specialisation)\n"
      ],
      "execution_count": null,
      "outputs": [
        {
          "name": "stdout",
          "output_type": "stream",
          "text": [
            "Gandalf is known as the Grey he is 5000 years old and his specialty is taking hobbits on adventures\n",
            "Dumbledore is known as Headmaster he is 150 years old and his specialty is looking like Gandalf\n"
          ]
        }
      ]
    },
    {
      "cell_type": "markdown",
      "metadata": {
        "id": "JPriITS9OYwm"
      },
      "source": [
        "## Class vs Instance Variables\n",
        "\n",
        "- In the example above, beard_colour is a class variable\n",
        "    - class variables are owned by the class\n",
        "    - they are shared by all instances in the class\n",
        "    - we usually reserve this status for static variables \n",
        "    \n",
        "- Instance variables: title, age and specialisation in the above example\n",
        "    - these are owned by instances of the class (the object itself)\n",
        "    - we define them we define the object itself"
      ]
    },
    {
      "cell_type": "code",
      "metadata": {
        "id": "hDJo3Ik7OYwn"
      },
      "source": [
        "class Wizard:\n",
        "    \n",
        "    beard_colour = \"white\" #this is an attribute\n",
        "    \n",
        "    #class constructor - automatically called when I instantiate a class\n",
        "    def __init__(self, title, age, specialisation):\n",
        "        self.title = title #these are also attributes\n",
        "        self.age = age #these are attributes\n",
        "        self.specialisation = specialisation #these are attributes"
      ],
      "execution_count": null,
      "outputs": []
    },
    {
      "cell_type": "markdown",
      "metadata": {
        "id": "KNGFFmzwOYwn"
      },
      "source": [
        "## Methods\n",
        "\n",
        "- Methods are functions defined inside the body of a class. \n",
        "- They are used to define the ***behaviours*** of an object."
      ]
    },
    {
      "cell_type": "code",
      "metadata": {
        "id": "4k1S0663OYwn"
      },
      "source": [
        "import random\n",
        "class Wizard:\n",
        "    \n",
        "    #instance attributes\n",
        "    def __init__(self, title, age, specialisation):\n",
        "        self.title = title\n",
        "        self.age = age\n",
        "        self.specialisation = specialisation\n",
        "        \n",
        "    # instance method\n",
        "    def attack(self, spell):\n",
        "        return \"Attacking with \" + spell + \" for \" + str(random.randint(1,6))\n",
        "    "
      ],
      "execution_count": null,
      "outputs": []
    },
    {
      "cell_type": "code",
      "metadata": {
        "id": "l0T1RQRFOYwo",
        "outputId": "5fc68df0-1bd7-44c9-cbab-a12db69e2041"
      },
      "source": [
        "# Instantiate the object\n",
        "\n",
        "gandalf = Wizard(\"the Grey\",\"5000\",\"taking hobbits on adventures\")\n",
        "print(gandalf.attack(\"Firebolt\"))"
      ],
      "execution_count": null,
      "outputs": [
        {
          "name": "stdout",
          "output_type": "stream",
          "text": [
            "Attacking with Firebolt for 5 damage\n"
          ]
        }
      ]
    },
    {
      "cell_type": "markdown",
      "metadata": {
        "id": "NUMWlGWvOYwo"
      },
      "source": [
        "## Types of Methods\n",
        "\n",
        "- Instance Methods: defined on the object, such as the method in the previous example\n",
        "- Class Methods: defined on the class itself\n",
        "     - Cannot modify the object itself, just the class\n",
        "- Static Methods: can access neither class nor object"
      ]
    },
    {
      "cell_type": "code",
      "metadata": {
        "id": "Glurfw78OYwo"
      },
      "source": [
        "class Wizard:\n",
        "    beard_colour = \"white\"\n",
        "    def method(self):\n",
        "        return 'This object is a  ' + self\n",
        "\n",
        "    @classmethod\n",
        "    def classmethod(cls):\n",
        "        return 'All wizard bears are ' + cls.beard_colour\n",
        "\n",
        "    @staticmethod\n",
        "    def staticmethod():\n",
        "        return 'static method called'\n"
      ],
      "execution_count": null,
      "outputs": []
    },
    {
      "cell_type": "code",
      "metadata": {
        "id": "KUX0hzFzOYwo"
      },
      "source": [
        "print(Wizard.classmethod())\n",
        "print(Wizard.staticmethod())\n",
        "print(Wizard.method()) #<== why won't this work?"
      ],
      "execution_count": null,
      "outputs": []
    },
    {
      "cell_type": "markdown",
      "metadata": {
        "id": "1wwe2p60OYwo"
      },
      "source": [
        "## Encapsulation\n",
        "\n",
        "- By using OOP you can restrict access to methods and variables\n",
        "- This prevents data from being directly modified \n",
        "- In Python we do this by using ```__``` to set variables to private\n",
        "- Protected variables can only be accessed by classes and subclasses \n",
        "- In Python we use ``_`` for protected variables"
      ]
    },
    {
      "cell_type": "code",
      "metadata": {
        "id": "qa6U-_oFOYwp"
      },
      "source": [
        "class Encapsulation_Example:\n",
        "    \n",
        "    def __init__(self, a,b):\n",
        "        self.__thisbabyisprivate = a\n",
        "        self.thisbabyispublic = b\n",
        "\n",
        "example1 = Encapsulation_Example(99,99)\n",
        "\n",
        "print(example1.__thisbabyisprivate) #<== what happens if I try to access this variable?\n",
        "print(example1.thisbabyispublic)\n",
        "\n",
        "example1.__thisbabyisprivate = 1#<== what happens if I try to access this variable?\n",
        "example1.thisbabyispublic = 1\n",
        "\n",
        "print(example1.__thisbabyisprivate)#<== what happens if I try to access this variable?\n",
        "print(example1.thisbabyispublic)\n"
      ],
      "execution_count": null,
      "outputs": []
    },
    {
      "cell_type": "markdown",
      "metadata": {
        "id": "sfsf3EMQOYwp"
      },
      "source": [
        "## In order to interact with private variables, we use methods such as getters and setters instead"
      ]
    },
    {
      "cell_type": "code",
      "metadata": {
        "id": "xObSgUWEOYwp",
        "outputId": "4448c1a8-acb2-4afe-801d-aa74f6e88c4a"
      },
      "source": [
        "class Encapsulation_Example:\n",
        "    \n",
        "    def __init__(self, a,b):\n",
        "        self.__thisbabyisprivate = a\n",
        "        self.thisbabyispublic = b\n",
        "        \n",
        "    def setA(self, a):   # this is a setter, it allows us to change the private variable\n",
        "        self.__thisbabyisprivate = a\n",
        "    def getA(self): # this is a getter, it allows us to acces the private variable \n",
        "        return self.__thisbabyisprivate\n",
        "    \n",
        "example1 = Encapsulation_Example(99,99)\n",
        "\n",
        "print(example1.getA())\n",
        "example1.setA(1)\n",
        "print(example1.getA())"
      ],
      "execution_count": null,
      "outputs": [
        {
          "name": "stdout",
          "output_type": "stream",
          "text": [
            "99\n",
            "1\n"
          ]
        }
      ]
    },
    {
      "cell_type": "markdown",
      "metadata": {
        "id": "TBvkmsxbOYwp"
      },
      "source": [
        "## Before we move on to more complex concepts:\n",
        "\n",
        "Write a class ```Monster``` which is a blueprint to spawn scary monsters for the wizard to fight.\n",
        "    - Each Monster should have the following attributes:\n",
        "        - A description\n",
        "        - A name\n",
        "        - A damage rating\n",
        "    - Each Monster should have the following behaviours\n",
        "        - Attack: deal a random amount of damage between 0 and their damage rating.\n",
        "        - Taunt: taunt their enemy with one of a number of taunts\n",
        "        - Tell the time: Monsters are very punctual\n",
        "    - All variables should be private and only accessible through getters and setters\n",
        "    \n",
        "On the next slide is a test for this class. It should run on your class (you can make changes to it)"
      ]
    },
    {
      "cell_type": "code",
      "metadata": {
        "id": "LFL5V3EIOYwq"
      },
      "source": [
        "monster1 = Monster(\"Big and Hairy\", \"Aragog\", 10)\n",
        "monster2 = Monster(\"Mean and Scaly\", \"Smaug\", 12)\n",
        "print(monster1.getName, \"is a\",  monster1.getDescription, \"monster\")\n",
        "print(monster1.attack())\n",
        "print(monster2.taunt())\n",
        "print(monster1.tellMeTheTime())\n"
      ],
      "execution_count": null,
      "outputs": []
    },
    {
      "cell_type": "markdown",
      "metadata": {
        "id": "vbz5oA4GOYwq"
      },
      "source": [
        "# Inheritance\n",
        "\n",
        "- Inheritance is a way of creating a new class using details of an existing class\n",
        "- The new class is called a derived (or child) class\n",
        "- The existing class is a base (or parent) class\n",
        "- The child class has a ```is a(n)``` relationship to the parent class\n",
        "- A wizard, for example, ```is a(n)``` adventurer"
      ]
    },
    {
      "cell_type": "code",
      "metadata": {
        "id": "PLXIHbiEOYwq",
        "outputId": "761dc828-5267-483a-d2ad-b2163503b775"
      },
      "source": [
        "import random\n",
        "# Parent Class\n",
        "class Adventurer:\n",
        "    \n",
        "    def __init__(self, name, weapon, die_type):\n",
        "        self.name=name\n",
        "        self.die_type = die_type\n",
        "        self.weapon = weapon\n",
        "    def attack(self):    \n",
        "        return self.name + \" is attacking with a \" + self.weapon + \" for \" + str(random.randint(1,self.die_type)) + \" damage\"\n",
        "\n",
        "    \n",
        "#Child class \n",
        "class Wizard(Adventurer):\n",
        "    def __init__(self, name, weapon, die_type=12):\n",
        "        super().__init__(name, weapon, die_type)\n",
        "        \n",
        "    \n",
        "conan = Wizard(\"Gandalf\", \"Fireball\")\n",
        "print(conan.attack())"
      ],
      "execution_count": null,
      "outputs": [
        {
          "name": "stdout",
          "output_type": "stream",
          "text": [
            "Gandalf is attacking with a Fireball for 8 damage\n"
          ]
        }
      ]
    },
    {
      "cell_type": "code",
      "metadata": {
        "id": "UysCSyG6OYwq",
        "outputId": "244cf825-ab3d-453c-e27e-ab32f3719a35"
      },
      "source": [
        "#Child class 2 \n",
        "class Fighter(Adventurer):\n",
        "    def __init__(self, name, weapon, die_type=10):\n",
        "        super().__init__(name, weapon, die_type)\n",
        "        \n",
        "  \n",
        "\n",
        "conan = Fighter(\"Conan\", \"Greatsword\")\n",
        "print(conan.attack())"
      ],
      "execution_count": null,
      "outputs": [
        {
          "name": "stdout",
          "output_type": "stream",
          "text": [
            "Conan is attacking with a Greatsword for 9 damage\n"
          ]
        }
      ]
    },
    {
      "cell_type": "markdown",
      "metadata": {
        "id": "mreNzyS1OYwq"
      },
      "source": [
        "## Note on the constructor:\n",
        "\n",
        "- Note that in the previous example, ```__init__()``` exists in both classes\n",
        "- The method in the sublass will override the method in the base class\n",
        "- Therefore we use ```super()``` in order to extend instead of override the previous class"
      ]
    },
    {
      "cell_type": "markdown",
      "metadata": {
        "id": "GtcETYeLOYwq"
      },
      "source": [
        "# Multiple inheritance\n",
        "\n",
        "- You can derive a class from multiple parent classes.\n",
        "- It sounds cool but it can easily get messy so proceed with caution."
      ]
    },
    {
      "cell_type": "code",
      "metadata": {
        "id": "KE3OzX4yOYwq"
      },
      "source": [
        "import random\n",
        "#Parent class 1\n",
        "class Wizard:\n",
        "    def __init__(self, spell_list):\n",
        "        self.__spell_list=spell_list\n",
        "    def addSpell(self,spell):\n",
        "        self.__spell_list.append(spell)\n",
        "    def tossSpell(self):\n",
        "        return random.choice(self.__spell_list)\n",
        "        \n",
        "#Parent class 2\n",
        "class Fighter:\n",
        "    def __init__(self, weapon):\n",
        "        self.__weapon=weapon\n",
        "    def changeWeapon(self,weapon):\n",
        "        self.__weapon=weapon\n",
        "    def swingWeapon(self):\n",
        "        return self.__weapon\n",
        "        \n"
      ],
      "execution_count": null,
      "outputs": []
    },
    {
      "cell_type": "code",
      "metadata": {
        "id": "RysInfiLOYwr",
        "outputId": "d153531b-16fe-43df-dac9-41912ea5ce59"
      },
      "source": [
        "#Child Class \n",
        "class ArcaneWarrior(Wizard,Fighter):\n",
        "    #This class implements an awesome adventurer who is both a fighter and a spell user. Behold, the arcane warrior.\n",
        "    def __init__(self, spell_list, weapon):\n",
        "        Wizard.__init__(self, spell_list)\n",
        "        Fighter.__init__(self, weapon)\n",
        "\n",
        "dave = ArcaneWarrior([\"magic missle\", \"poison spray\", \"toxic cloud\"], \"Greatsword\")\n",
        "print(\"Dave attacks with \" + dave.tossSpell() + \" and with \" + dave.swingWeapon())\n",
        "dave.changeWeapon(\"Staff\")\n",
        "dave.addSpell(\"firebolt\")\n",
        "print(\"Dave attacks with \" + dave.tossSpell() + \" and with \" + dave.swingWeapon())"
      ],
      "execution_count": null,
      "outputs": [
        {
          "name": "stdout",
          "output_type": "stream",
          "text": [
            "Dave attacks with poison spray and with Greatsword\n",
            "Dave attacks with toxic cloud and with Staff\n"
          ]
        }
      ]
    },
    {
      "cell_type": "markdown",
      "metadata": {
        "id": "mamitOHbOYwr"
      },
      "source": [
        "## You can check if a class is a subclass using ```issubclass()```\n",
        "\n",
        "- It returns ```True``` if the first class contains the second class anywhere in its inheritance chain."
      ]
    },
    {
      "cell_type": "code",
      "metadata": {
        "id": "B1eoCyUbOYwr",
        "outputId": "532738cc-295e-4523-ee16-00794223dfbd"
      },
      "source": [
        "print(issubclass(ArcaneWarrior, Wizard))\n",
        "print(issubclass(ArcaneWarrior, Fighter))\n",
        "print(issubclass(Fighter, Wizard))"
      ],
      "execution_count": null,
      "outputs": [
        {
          "name": "stdout",
          "output_type": "stream",
          "text": [
            "True\n",
            "True\n",
            "False\n"
          ]
        }
      ]
    },
    {
      "cell_type": "markdown",
      "metadata": {
        "id": "Y7gqItLOOYwr"
      },
      "source": [
        "## Polymorphism in Python: Method Overriding\n"
      ]
    },
    {
      "cell_type": "code",
      "metadata": {
        "id": "xp3ro6hZOYwr",
        "outputId": "55abc09e-d2e7-4c91-91fb-198d05756603"
      },
      "source": [
        "import random\n",
        "# Parent Class\n",
        "class Adventurer:\n",
        "    \n",
        "    def __init__(self, name, weapon, die_type):\n",
        "        self.name=name\n",
        "        self.die_type = die_type\n",
        "        self.weapon = weapon\n",
        "    def attack(self):    \n",
        "        return self.name + \" is attacking with a \" + self.weapon + \" for \" + str(random.randint(1,self.die_type)) + \" damage\"\n",
        "\n",
        "    \n",
        "#Child class \n",
        "class Wizard(Adventurer):\n",
        "    # This method extends the method in the parent class\n",
        "    def __init__(self, name, spell, die_type=12):\n",
        "        super().__init__(name, spell, die_type)\n",
        "        self.spell = spell\n",
        "    # This method overrides the same method in the parent class\n",
        "    def attack(self):    \n",
        "        return self.name + \" is casting a \" + self.spell + \" for \" + str(random.randint(1,self.die_type)) + \" damage\"\n",
        "   \n",
        "    \n",
        "gandalf = Wizard(\"Gandalf\", \"Fireball\")\n",
        "print(gandalf.attack())"
      ],
      "execution_count": null,
      "outputs": [
        {
          "name": "stdout",
          "output_type": "stream",
          "text": [
            "Gandalf is casting a Fireball for 8 damage\n"
          ]
        }
      ]
    },
    {
      "cell_type": "markdown",
      "metadata": {
        "id": "BYge8O5ROYws"
      },
      "source": [
        "## Duck Typing \n",
        "\n",
        "- Python will simply accept any object that has a particular method.\n"
      ]
    },
    {
      "cell_type": "code",
      "metadata": {
        "id": "LONtbvZhOYws"
      },
      "source": [
        "import random\n",
        "# Class 1\n",
        "class Wizard:\n",
        "    def attack(self):\n",
        "        return \"Wizard tosses spell for \" + str(random.randint(1,6)) + \" damage.\"\n",
        "\n",
        "#Class 2\n",
        "class Ranger:\n",
        "    def attack(self):\n",
        "        return \"Ranger shoots arrow for \" + str(random.randint(1,8)) + \" damage.\"\n",
        "    \n",
        "#Class 3\n",
        "class Fighter:\n",
        "    def attack(self):\n",
        "        return \"Fighter swings sword for \" + str(random.randint(1,10)) + \" damage.\"\n",
        "\n",
        "    \n",
        "legolas = Wizard()\n",
        "aragorn = Ranger()\n",
        "gandalf = Fighter()\n",
        "\n",
        "\n",
        "#duck typing\n",
        "for adventurer in legolas, aragorn, gandalf:\n",
        "      print(adventurer.attack())"
      ],
      "execution_count": null,
      "outputs": []
    },
    {
      "cell_type": "markdown",
      "metadata": {
        "id": "S52AvWbPOYws"
      },
      "source": [
        "## Abstract Classes\n",
        "\n",
        "- The ```Adventurer``` class in the example is made to be inherited and not instantiated. \n",
        "- This concept is known as an ```Abstract Class```\n",
        "- Python has no built-in way to define a class as abstract but the abc module can be used to prevent over-enthusiastic users from creating objects from abstract base classes.\n",
        "\n",
        "\n"
      ]
    },
    {
      "cell_type": "code",
      "metadata": {
        "id": "6bo88Gk2OYws"
      },
      "source": [
        "from abc import ABC, abstractmethod\n",
        "\n",
        "class Adventurer(ABC):\n",
        "    def __init__(self, name, weapon, die_type):\n",
        "        self.name=name\n",
        "        self.die_type = die_type\n",
        "        self.weapon = weapon\n",
        "        \n",
        "    @abstractmethod\n",
        "    def attack(self):\n",
        "        pass\n",
        "    "
      ],
      "execution_count": null,
      "outputs": []
    },
    {
      "cell_type": "markdown",
      "metadata": {
        "id": "ylD5zqBTOYws"
      },
      "source": [
        "- This tells users that objects of type Adventurer cannot be created\n",
        "- It also means that every subclass of Adventurer needs to have an attack method that overrides the abstract method, attack\n",
        "- PS: ```@abstractmethod``` is a decorator. We won't cover decorators in this course but you can read about them [here](https://realpython.com/primer-on-python-decorators/)"
      ]
    },
    {
      "cell_type": "markdown",
      "metadata": {
        "id": "UCsGMK1HOYws"
      },
      "source": [
        "# Composition and Aggregation\n",
        "\n",
        "- Composition is another way of modelling relationships between objects  \n",
        "- If inheritance models an ```is a``` relationship, composition models a ```has a``` relationship\n",
        "- This means a composite can contain an object of another class (component)\n",
        "- Aggregation is a weak form of composition, where the child can exist independently of the parent \n",
        "- Composition is more flexible than inheritance and more suitable to change\n",
        "- ~~You should totally forget everything I taught you about inheritance and use composition instead.~~ "
      ]
    },
    {
      "cell_type": "markdown",
      "metadata": {
        "id": "ZLZo1lHPOYws"
      },
      "source": [
        "## Inner Classes\n",
        "\n",
        "- You can also create a class inside a class\n",
        "- This class can be accessed by methods inside the class"
      ]
    },
    {
      "cell_type": "code",
      "metadata": {
        "id": "uYE5KBiAOYws"
      },
      "source": [
        "import random\n",
        "class Wizard:\n",
        "    class Spell:\n",
        "      def __init__(self, name, damage):\n",
        "        self.name = name\n",
        "        self.damage = damage\n",
        "        \n",
        "      def toss_spell(self):\n",
        "        return random.randint(0,self.damage)\n",
        "    \n",
        "    \n",
        "    \n",
        "    #instance attributes\n",
        "    def __init__(self, title, age, specialisation):\n",
        "        self.title = title\n",
        "        self.age = age\n",
        "        self.specialisation = specialisation\n",
        "        self.spell = self.Spell(\"Fireball\", 8)\n",
        "    def attack(self):\n",
        "       return self.spell.toss_spell()   \n",
        "    "
      ],
      "execution_count": null,
      "outputs": []
    },
    {
      "cell_type": "markdown",
      "metadata": {
        "id": "Z89g19SFOYwt"
      },
      "source": [
        "## Composition without Inner Classes"
      ]
    },
    {
      "cell_type": "code",
      "metadata": {
        "id": "TKf8SZ22OYwt"
      },
      "source": [
        "# Adventurer has a a role\n",
        "\n",
        "class Adventurer:\n",
        "    def __init__(self, role, name):\n",
        "        self.__role = role\n",
        "        self.__name = name\n",
        "    def attack(self):\n",
        "        return self.__name + self.__role.attack()\n",
        "        \n",
        "class Role:\n",
        "    #Role takes a name, attack_type , and an optional spell_list\n",
        "    def __init__(self,name,attack,spell_list=[]):\n",
        "        self.__name = name\n",
        "        self.__attack = attack\n",
        "        self.__spell_list = spell_list\n",
        "    def attack(self):\n",
        "        if len(self.__spell_list) == 0:\n",
        "            return \" attacks for \" + str(random.randint(1,self.__attack))\n",
        "        else:\n",
        "            return \" tosses spell (\" + self.__spell_list[random.randint(1, len(self.__spell_list)-1)] + \") for \" + str(random.randint(1,self.__attack))"
      ],
      "execution_count": null,
      "outputs": []
    },
    {
      "cell_type": "code",
      "metadata": {
        "id": "mFr0MzyoOYwt",
        "outputId": "6eb758fa-85f7-4498-b1c3-d7a0f767d57e"
      },
      "source": [
        "wizard = Role(\"Wizard\", 6, [\"Fireball\", \"Mildly Irritating Itch\"])\n",
        "fighter = Role(Fighter, 10)\n",
        "\n",
        "dave = Adventurer(wizard, \"Dave\")\n",
        "snebulon = Adventurer(fighter, \"Snebulon\")\n",
        "\n",
        "print(snebulon.attack())\n",
        "print(dave.attack())"
      ],
      "execution_count": null,
      "outputs": [
        {
          "name": "stdout",
          "output_type": "stream",
          "text": [
            "Snebulon attacks for 1\n",
            "Dave tosses spell (Mildly Irritating Itch) for 4\n"
          ]
        }
      ]
    },
    {
      "cell_type": "markdown",
      "metadata": {
        "id": "1SBp_R_cOYwt"
      },
      "source": [
        "# Today's Exercise: Python and Dragons\n",
        "\n",
        "- Design a class structure for nerds who want to go on simulated adventures.\n",
        "- The nerd in question should be able specify their role which determines their fighting style: Wizard, Fighter and Ranger. \n",
        "    - Wizards have 50 health points and randomly attack with one of three spells which do d12, d10 and d8 damage.\n",
        "    - A Ranger has 100 health points and shoots arrows for d10 damage.\n",
        "    - A Fighter has 150 health points and attacks for d6 damage.\n",
        "- The nerd should be able to take friends on her adventure\n",
        "    - Create an interface called Party through which all the characters attack and take damage.\n",
        "    - Damage taken by the party should be randomly allocated to one of the party members.\n",
        "\n",
        "(continued on next slide)"
      ]
    },
    {
      "cell_type": "markdown",
      "metadata": {
        "id": "0xIrbKfKOYwt"
      },
      "source": [
        "**Take your Party on an adventure to fight a specific dragon.**\n",
        "\n",
        "There are 3 kinds of dragons: Red, Green and Blue.\n",
        "They should have a randomised number of health points in the following ranges:\n",
        "\n",
        "    - Red: 100-200\n",
        "    - Green 200-300\n",
        "    - Blue 300-400\n",
        "\n",
        "    they should attack with a 3d8, 3d10 and 3d12 respectively.\n",
        "\n",
        "You are free to use composition or inheritance to build relationships between classes.\n",
        "\n",
        "Use the test class on the next slide. It should run on your class, regardless of your architecture.\n",
        "\n",
        "As always feel free to work in groups. You may edit the template below slightly but the major components should still be there."
      ]
    },
    {
      "cell_type": "code",
      "metadata": {
        "id": "_HbT3PywOYwt"
      },
      "source": [
        "adventurer1 = Fighter(\"Jack\")\n",
        "adventurer2 = Ranger(\"Samantha\")\n",
        "adventurer3 = Wizard(\"Daniel\")\n",
        "\n",
        "party1 = Party([adventurer1, adventurer2, adventurer3])\n",
        "\n",
        "dragon1 = Dragon(\"Blue\") # The dragon's health should be randomised but the player can choose the colour\n",
        "\n",
        "counter = 1\n",
        "\n",
        "while dragon1.isAlive() and party1.isAlive():\n",
        "    print(\"Round:\",counter)\n",
        "    partydamage = party1.attack() # only adventurers with positive health points may attack\n",
        "    # the program should print a message when an adventurer falls below 0 hp\n",
        "    dragondamage = dragon1.attack()\n",
        "    \n",
        "    party1.takeDamage(dragondamage)\n",
        "    dragon1.takeDamage(partydamage)\n",
        "    \n",
        "    counter = counter+1\n",
        "    \n",
        "if not dragon1.isAlive():\n",
        "  print(\"You have slain the dragon in\", counter, \"turns!\")\n",
        "if not party1.isAlive():\n",
        "  print(\"You have perished in\", counter, \"turns!\")"
      ],
      "execution_count": null,
      "outputs": []
    },
    {
      "cell_type": "markdown",
      "metadata": {
        "id": "cEZyXZZvOYwu"
      },
      "source": [
        "Sample Output:\n",
        "\n",
        "- Round 1\n",
        "- Jack attacks for 5\n",
        "- Samantha shoots for 6\n",
        "- Daniel casts Magic Missile for 7\n",
        "- Blue Dragon attacks for 30\n",
        "- Samantha has been hit"
      ]
    }
  ]
}