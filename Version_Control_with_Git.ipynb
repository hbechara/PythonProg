{
  "nbformat": 4,
  "nbformat_minor": 0,
  "metadata": {
    "colab": {
      "name": "Version Control with Git.ipynb",
      "provenance": [],
      "authorship_tag": "ABX9TyNOP6fOXoKepJPgrNZKe1uC",
      "include_colab_link": true
    },
    "kernelspec": {
      "name": "python3",
      "display_name": "Python 3"
    }
  },
  "cells": [
    {
      "cell_type": "markdown",
      "metadata": {
        "id": "view-in-github",
        "colab_type": "text"
      },
      "source": [
        "<a href=\"https://colab.research.google.com/github/hbechara/PythonProg/blob/main/Version_Control_with_Git.ipynb\" target=\"_parent\"><img src=\"https://colab.research.google.com/assets/colab-badge.svg\" alt=\"Open In Colab\"/></a>"
      ]
    },
    {
      "cell_type": "markdown",
      "metadata": {
        "id": "3fmHq8lDBnFH"
      },
      "source": [
        "# Why Version Control?"
      ]
    },
    {
      "cell_type": "markdown",
      "metadata": {
        "id": "ALYRy1x2BgXc"
      },
      "source": [
        "An important part of being (or becoming) a professional programmer is learning to use version control. We therefore recommend that everyone experiment with version control even when it doesn't matter - when the projects you deal with are relatively small - so that you have less to learn later when it really matters."
      ]
    },
    {
      "cell_type": "markdown",
      "metadata": {
        "id": "tUgs_K4fBsO9"
      },
      "source": [
        "- System which records snapshots of a project\n",
        "  - Implements branching:\n",
        "    - you can work on several feature branches and switch between them\n",
        "    - different people can work on the same code/project without interfering\n",
        "    - you can experiment with an idea and discard it if it turns out to be a bad idea\n",
        "  - Implements merging:\n",
        "    - tool to merge development branches for you"
      ]
    },
    {
      "cell_type": "markdown",
      "metadata": {
        "id": "f2utGns0CWW0"
      },
      "source": [
        "**Roll-back functionality**\n",
        "  - Mistakes happen - without recorded snapshots you cannot easily undo mistakes and go back to a working version.\n",
        "\n",
        "**Branching**\n",
        "- Often you need to work on several issues/features in one code - without branching this can be messy and confusing.\n",
        "- You can simulate branching by copying the entire code to multiple places but also this will be messy and confusing.\n",
        "\n",
        "**Collaboration**\n",
        "- Work together instead of waiting for your teammate to finish their part\n",
        "- No more asking \"which version did you work on?\"\n",
        "\n",
        "\n",
        "**Reproducibility**\n",
        "- How do you indicate which version of your code you have used in your paper?\n",
        "- When you find a bug, how do you know when precisely this bug was introduced "
      ]
    },
    {
      "cell_type": "markdown",
      "metadata": {
        "id": "L-bwjEICHQID"
      },
      "source": [
        "# How do I use Git?"
      ]
    },
    {
      "cell_type": "markdown",
      "metadata": {
        "id": "dYOn3mDRHY9m"
      },
      "source": [
        "Let's start with some basic tutorials:\n",
        "\n",
        "https://guides.github.com/activities/hello-world/\n",
        "\n",
        "https://towardsdatascience.com/getting-started-with-git-and-github-6fcd0f2d4ac6\n",
        "\n",
        "https://docs.gitlab.com/ee/gitlab-basics/start-using-git.html"
      ]
    },
    {
      "cell_type": "markdown",
      "metadata": {
        "id": "G2HtJBgkH134"
      },
      "source": [
        "**Committing, Pushing and Pulling**\n",
        "\n",
        "\n",
        "**Commit** - committing is the process which records changes in the repository. Think of it as a snapshot of the current status of the project. Commits are done locally.\n",
        "\n",
        "**Push** - pushing sends the recent commit history from your local repository up to GitHub. If you're the only one working on a repository, pushing is fairly simple. If there are others accessing the repository, you may need to pull before you can push.\n",
        "\n",
        "**Pull** - a pull grabs any changes from the GitHub repository and merges them into your local repository.\n",
        "\n",
        "**Sync** - syncing is like pulling, but instead of connecting to your GitHub copy of the forked repo, it goes back to the original repository and brings in any changes. Once you've synced your repository, you need to push those changes back to your GitHub account."
      ]
    },
    {
      "cell_type": "markdown",
      "metadata": {
        "id": "-jIxDvF_H-mN"
      },
      "source": [
        "# Using a GUI"
      ]
    },
    {
      "cell_type": "markdown",
      "metadata": {
        "id": "tHtqUiYBIC6P"
      },
      "source": [
        "**Git Clients for Linux**\n",
        "1. QGit\n",
        "2. Gitg\n",
        "3. Git Force\n",
        "\n",
        "**Git Clients for Windows**\n",
        "1. Sourcetree\n",
        "2. GitHub\n",
        "3. Tortoise Git\n",
        "\n",
        "**Git Clients for Mac**\n",
        "1. GitUp\n",
        "2. GitBox\n",
        "3. GitX-dev\n",
        "\n",
        "**Cross-platform Git Clients**\n",
        "1. GitKraken\n",
        "2. SmartGit\n",
        "3. Git Cola\n",
        "4. Aurees"
      ]
    },
    {
      "cell_type": "markdown",
      "metadata": {
        "id": "rcKxRCK5C_Jd"
      },
      "source": [
        "# Some General Version Control Tips"
      ]
    },
    {
      "cell_type": "markdown",
      "metadata": {
        "id": "wYVdwQ_vDDhi"
      },
      "source": [
        "- **Keep unnecessary files off the repository**\n",
        "- **update** and **commit** to the version control a few times per day. \n",
        "  - Mostly when you have finished the task you are working on and tested it enough so they know that it doesn't contain trivial bugs.\n",
        "  - Test the new feature or bugfix before committing.\n",
        "-  **anyone** should be able to build the project with a single click. \n",
        "  - Document!\n",
        "  - Use the readme files for simple instructions on how to deply\n",
        "  - create a file that specifies dependencies\n",
        "- **Communicate!**\n",
        "  - Set up a slack channel or a telegram group or whatever you kids are using these days.\n",
        "  - \"Hey guys, I just pulled the latest commit and everything broke. I see Skellybob made the latest commit. Going to roll back to the previous version.\"\n",
        "- **Unit testing** is a very good practice that makes testing the basic functionality of your code automatic. Use it if you can! "
      ]
    },
    {
      "cell_type": "markdown",
      "metadata": {
        "id": "054JKINxEaue"
      },
      "source": [
        "# Some General Team Coding Tips"
      ]
    },
    {
      "cell_type": "markdown",
      "metadata": {
        "id": "6AVvaozNEm-p"
      },
      "source": [
        "**Divide the project into tasks**\n",
        "\n",
        "Divide the project into tasks and assign them to team members. It is a good practice to have only one team member responsible for one task. If needed, separate one task into a few smaller ones in order to accomplish this.\n",
        "\n",
        "**Schedule the project**\n",
        "\n",
        "Determining the priority and order of tasks, as well as the deadlines for each task, thus determining the overall project duration.\n",
        "\n",
        "  - You can use project management software for this or wing it (don't wing it)\n",
        "  - Don't underestimate how long you will need to complete a task\n",
        "\n",
        "**Scope the Project**\n",
        "\n",
        "Drop extra features if you run out of time. \n",
        "\n",
        "\n",
        "\n",
        "**Use Pull Requests**\n",
        "\n",
        "- Pull requests let you tell others about changes you've pushed to a branch in a repository on GitHub. \n",
        "- Once a pull request is opened, you can discuss and review the potential changes with collaborators and add follow-up commits before your changes are merged into the base branch.\n",
        "\n",
        "**Consider pair programming** \n",
        "\n",
        "Pair programming is a specific development technique in which two programmers are working at one computer unit. One programmer is the driver, who writes the code, and the other is the navigator, who reviews each line of code. The two programmers switch roles frequently.\n",
        "Note: Not for the faint of heart\n",
        "\n",
        "\n",
        "\n",
        "**Don't work overtime** \n",
        "\n",
        "The crunch is a lie. There is no crunch. Do not believe the propaganda\n",
        "\n",
        "\n"
      ]
    }
  ]
}