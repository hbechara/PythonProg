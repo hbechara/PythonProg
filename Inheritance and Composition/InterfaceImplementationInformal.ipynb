{
  "nbformat": 4,
  "nbformat_minor": 0,
  "metadata": {
    "colab": {
      "name": "InterfaceImplementationInformal.ipynb",
      "provenance": [],
      "authorship_tag": "ABX9TyO4lgZNcdnX4/CwPSg0jnSk",
      "include_colab_link": true
    },
    "kernelspec": {
      "name": "python3",
      "display_name": "Python 3"
    },
    "language_info": {
      "name": "python"
    }
  },
  "cells": [
    {
      "cell_type": "markdown",
      "metadata": {
        "id": "view-in-github",
        "colab_type": "text"
      },
      "source": [
        "<a href=\"https://colab.research.google.com/github/hbechara/PythonProg/blob/main/Inheritance%20and%20Composition/InterfaceImplementationInformal.ipynb\" target=\"_parent\"><img src=\"https://colab.research.google.com/assets/colab-badge.svg\" alt=\"Open In Colab\"/></a>"
      ]
    },
    {
      "cell_type": "code",
      "metadata": {
        "id": "DPIe30XoDToL"
      },
      "source": [
        "class EditDistance:\n",
        "  def calculateDistance(self, s, t):\n",
        "    \"\"\"This method returns nothing. It exists to be implemented\"\"\"\n",
        "    pass\n",
        "\n",
        "  def printDistance(self, distance):\n",
        "    \"\"\"This method returns nothing. It exists to be implemented\"\"\"\n",
        "    pass"
      ],
      "execution_count": null,
      "outputs": []
    },
    {
      "cell_type": "code",
      "metadata": {
        "id": "TPlWpysOD0Wd"
      },
      "source": [
        "class Levenshtein(EditDistance):\n",
        "  def __init__(self, printoutput):\n",
        "    self.po = printoutput\n",
        "\n",
        "  def calculateDistance(self, s, t):\n",
        "        ''' From Wikipedia article; Iterative with two matrix rows. '''\n",
        "        if s == t: return 0\n",
        "        elif len(s) == 0: return len(t)\n",
        "        elif len(t) == 0: return len(s)\n",
        "        v0 = [None] * (len(t) + 1)\n",
        "        v1 = [None] * (len(t) + 1)\n",
        "        for i in range(len(v0)):\n",
        "            v0[i] = i\n",
        "        for i in range(len(s)):\n",
        "            v1[0] = i + 1\n",
        "            for j in range(len(t)):\n",
        "                cost = 0 if s[i] == t[j] else 1\n",
        "                v1[j + 1] = min(v1[j] + 1, v0[j + 1] + 1, v0[j] + cost)\n",
        "            for j in range(len(v0)):\n",
        "                v0[j] = v1[j]\n",
        "               \n",
        "        return v1[len(t)]\n",
        "\n",
        "  def printDistance(self, distance):\n",
        "      print(self.po + str(distance))"
      ],
      "execution_count": null,
      "outputs": []
    },
    {
      "cell_type": "code",
      "metadata": {
        "id": "1K_KzSh_D6dq"
      },
      "source": [
        "class LongestCommonSubsequence(EditDistance):\n",
        "  def __init__ (self, printoption):\n",
        "    self.po = printoption\n",
        "\n",
        "  def calculateDistance(self, s, t):\n",
        "\n",
        "     \n",
        "    # find the length of the strings\n",
        "    m = len(s)\n",
        "    n = len(t)\n",
        "  \n",
        "    # declaring the array for storing the dp values\n",
        "    L = [[None]*(n + 1) for i in range(m + 1)]\n",
        "  \n",
        "    \"\"\"Following steps build L[m + 1][n + 1] in bottom up fashion\n",
        "    Note: L[i][j] contains length of LCS of X[0..i-1]\n",
        "    and Y[0..j-1]\"\"\"\n",
        "    for i in range(m + 1):\n",
        "        for j in range(n + 1):\n",
        "            if i == 0 or j == 0 :\n",
        "                L[i][j] = 0\n",
        "            elif s[i-1] == t[j-1]:\n",
        "                L[i][j] = L[i-1][j-1]+1\n",
        "            else:\n",
        "                L[i][j] = max(L[i-1][j], L[i][j-1])\n",
        "  \n",
        "    # L[m][n] contains the length of LCS of X[0..n-1] & Y[0..m-1]\n",
        "    return L[m][n]\n",
        "\n",
        "  \n",
        "  def printDistance(self, distance):\n",
        "      print(self.po + str(distance))"
      ],
      "execution_count": null,
      "outputs": []
    },
    {
      "cell_type": "code",
      "metadata": {
        "colab": {
          "base_uri": "https://localhost:8080/"
        },
        "id": "D-NBLIFPEABl",
        "outputId": "a064f2d6-c9ec-4d9e-e7df-1d641e5a6325"
      },
      "source": [
        "str1 = 'But I have promises to keep, and miles to go before I sleep.'\n",
        "str2 = 'But I have many promises to keep, and miles to run before sleep.'\n",
        "d = []\n",
        "d.append(Levenshtein(\"\"))\n",
        "d.append(LongestCommonSubsequence(\"\"))\n",
        "for elem in d:\n",
        "  elem.printDistance(elem.calculateDistance(str1, str2))"
      ],
      "execution_count": null,
      "outputs": [
        {
          "output_type": "stream",
          "name": "stdout",
          "text": [
            "10\n",
            "56\n"
          ]
        }
      ]
    },
    {
      "cell_type": "code",
      "metadata": {
        "id": "FYtZonEquFtB"
      },
      "source": [
        "def printDistances(segments1, segments2,EditDistanceAlgorithm):\n",
        "  distances = []\n",
        "  for i in range(len(segments1)):\n",
        "    distances.append(EditDistanceAlgorithm.calculateDistance(segments1[i], segments2[i]))\n",
        "\n",
        "  for elem in distances:\n",
        "    EditDistanceAlgorithm.printDistance(elem)"
      ],
      "execution_count": null,
      "outputs": []
    },
    {
      "cell_type": "code",
      "metadata": {
        "colab": {
          "base_uri": "https://localhost:8080/"
        },
        "id": "OPcW9PA2vgTv",
        "outputId": "2ca4e9ac-57ad-4ff6-8be0-411cffed425e"
      },
      "source": [
        "segments1 = ['But I have promises to keep, and miles to go before I sleep.',\n",
        "             'The quick fox jumped over the sexy lion']\n",
        "segments2 = ['But I have many promises to keep, and miles to run before sleep.',\n",
        "             'The quick fox jumped over the lazy dog' ]\n",
        "\n",
        "\n",
        "l=Levenshtein(\"Levenshtein is: \")\n",
        "printDistances(segments1, segments2, l)\n",
        "\n",
        "lcs=LongestCommonSubsequence(\"LCS is: \")\n",
        "printDistances(segments1, segments2, lcs)"
      ],
      "execution_count": null,
      "outputs": [
        {
          "output_type": "stream",
          "name": "stdout",
          "text": [
            "Levenshtein is: 10\n",
            "Levenshtein is: 6\n",
            "LCS is: 56\n",
            "LCS is: 33\n"
          ]
        }
      ]
    }
  ]
}