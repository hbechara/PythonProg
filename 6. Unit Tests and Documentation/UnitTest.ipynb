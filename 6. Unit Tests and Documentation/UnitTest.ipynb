{
  "nbformat": 4,
  "nbformat_minor": 0,
  "metadata": {
    "celltoolbar": "Slideshow",
    "kernelspec": {
      "display_name": "Python 3",
      "language": "python",
      "name": "python3"
    },
    "language_info": {
      "codemirror_mode": {
        "name": "ipython",
        "version": 3
      },
      "file_extension": ".py",
      "mimetype": "text/x-python",
      "name": "python",
      "nbconvert_exporter": "python",
      "pygments_lexer": "ipython3",
      "version": "3.6.9"
    },
    "colab": {
      "name": "UnitTest.ipynb",
      "provenance": []
    }
  },
  "cells": [
    {
      "cell_type": "markdown",
      "metadata": {
        "id": "eBsjF8YsO8Nr"
      },
      "source": [
        "# Today\n",
        "\n",
        "\n",
        "### Part I:\n",
        "\n",
        "1. A general guide to writing tests\n",
        "2. Writing your first unit test\n",
        "3. Stubbing and Mocking\n",
        "4. Organising your tests\n",
        "\n",
        "\n",
        "### Part II:\n",
        "\n",
        "1. Dragons again. This time with tests."
      ]
    },
    {
      "cell_type": "markdown",
      "metadata": {
        "id": "d4vRPy1VO8Ns"
      },
      "source": [
        "## How would we go about testing if our Fibonacci code from Lesson 3 works?"
      ]
    },
    {
      "cell_type": "code",
      "metadata": {
        "id": "qzQ0y22JO8Ns"
      },
      "source": [
        "def fibonacci(n):\n",
        "    a,b = 0,1\n",
        "    for i in range(n): \n",
        "        a,b = b,a+b\n",
        "    return a"
      ],
      "execution_count": null,
      "outputs": []
    },
    {
      "cell_type": "code",
      "metadata": {
        "id": "h8Ll2QWdO8Nt"
      },
      "source": [
        "print(fibonacci(10))"
      ],
      "execution_count": null,
      "outputs": []
    },
    {
      "cell_type": "code",
      "metadata": {
        "id": "AqGSZFAiO8Nt"
      },
      "source": [
        "if fibonacci(1)==1 and fibonacci(2)==1 and fibonacci(3)==2:\n",
        "  print(\"Test Passed!\")"
      ],
      "execution_count": null,
      "outputs": []
    },
    {
      "cell_type": "markdown",
      "metadata": {
        "id": "IYWWhSkLO8Nt"
      },
      "source": [
        "## The Art of Unit Testing\n",
        "\n",
        "- **Unit Test** a small test that checks that a single component operates in the right way. \n",
        "- A unit test helps you to isolate what is broken in your application and fix it faster.\n",
        "- A piece of code that invokes another piece of code and checks the correctness of some assumptions. \n",
        "    - If the assumption turns out to be wrong, the unit test has failed.\n",
        "    \n",
        "**A Good Unit Test**\n",
        "\n",
        "- Should be automated and repeatable\n",
        "- Should be easy to implement\n",
        "- Anyone should be able to run it, at a push of a button\n",
        "- It should run quickly\n",
        "\n"
      ]
    },
    {
      "cell_type": "markdown",
      "metadata": {
        "id": "x2ca3KxCO8Nu"
      },
      "source": [
        "## Writing unit tests\n",
        "\n",
        "- Python has a number of packages designed for testing.\n",
        "- Some of them don't work so well with colab so we're going to use ```unittest``` for the purpose of this class\n",
        "- However I encourage you to look into other packages for your projects (e.g. [PyTest](https://docs.pytest.org/en/latest/contents.html), [DocTest](https://docs.python.org/3/library/doctest.html))"
      ]
    },
    {
      "cell_type": "markdown",
      "metadata": {
        "id": "xpPyGs-AO8Nu"
      },
      "source": [
        "## The Unit testing Framework: [```unittest``` ](https://docs.python.org/3/library/unittest.html)\n",
        "\n",
        "```unittest``` supports:\n",
        "    - test automation\n",
        "    - sharing of setup and shutdown code for tests\n",
        "    - aggregation of tests into collections\n",
        "    - independence of the tests from the reporting framework.\n",
        "\n",
        "```unittest``` supports some important concepts:\n",
        "\n",
        "```test fixture```: represents the preparation needed to perform one or more tests, and any associated cleanup actions. This may involve, for example, creating temporary or proxy databases, directories, or starting a server process.\n",
        "\n",
        "```test case```: A test case is the individual unit of testing. It checks for a specific response to a particular set of inputs. \n",
        "\n",
        "```test suite```: a collection of test cases, test suites, or both. It is used to aggregate tests that should be executed together.\n",
        "\n",
        "\n",
        "```test runner```: A test runner is a component which orchestrates the execution of tests and provides the outcome to the user. "
      ]
    },
    {
      "cell_type": "markdown",
      "metadata": {
        "id": "diogumbAO8Nu"
      },
      "source": [
        "## Example 1: Writing a Unit Test for Fibonacci"
      ]
    },
    {
      "cell_type": "code",
      "metadata": {
        "id": "Uz_uSOpLO8Nu"
      },
      "source": [
        "import unittest as ut\n",
        "\n",
        "class TestFibonacci(ut.TestCase):\n",
        "    # all the tests within this class need to start with test so the test runner knows what to call\n",
        "    def testFib(self):\n",
        "        self.assertEqual(fibonacci(10),55)"
      ],
      "execution_count": null,
      "outputs": []
    },
    {
      "cell_type": "code",
      "metadata": {
        "id": "yW19-6NsO8Nv"
      },
      "source": [
        "#calling our test runner\n",
        "if __name__ == '__main__':\n",
        "    ut.main()"
      ],
      "execution_count": null,
      "outputs": []
    },
    {
      "cell_type": "markdown",
      "metadata": {
        "id": "LJAvq7plO8Nv"
      },
      "source": [
        "## Standard Testing Flow:\n",
        "\n",
        "1. You define your own class derived from ```unittest.TestCase```.\n",
        "2. Figure out what you want to test.\n",
        "3. Fill it with methods that start with ```test_```. Other methods will be ignored.\n",
        "4. Run the tests by placing ```unittest.main()``` in your file, usually at the bottom.\n",
        "\n",
        "General Tips:\n",
        "1. Create separate files for your tests, (unless you're using colab)\n",
        "2. You can place test runners inside your main code to invoke all your tests through:\n",
        "\n",
        "```python3 -m unittest main.py```\n",
        "3. Alternately you can run individual tests:\n",
        "\n",
        "\n",
        "```python3 test.py```"
      ]
    },
    {
      "cell_type": "markdown",
      "metadata": {
        "id": "dlSwmiDGO8Nv"
      },
      "source": [
        "## How to write assertions\n",
        "\n",
        "- ```assertEqual(a, b)```: \ta == b\n",
        "- ```assertTrue(x)```: \tbool(x) is True\n",
        "- ```assertFalse(x)```: \tbool(x) is False\n",
        "- ```assertIs(a, b)```: \ta is b\n",
        "- ```assertIsNone(x)```: \tx is None\n",
        "- ```assertIn(a, b)```: \ta in b\n",
        "- ```assertIsInstance(a, b)``` a is instance of b"
      ]
    },
    {
      "cell_type": "markdown",
      "metadata": {
        "id": "hfpA7VluO8Nv"
      },
      "source": [
        "## Try it out: Write a test for the code [here](https://colab.research.google.com/drive/1J399Bu1eg0Q6JZGx8GxfT1zfid3_MvRS)"
      ]
    },
    {
      "cell_type": "markdown",
      "metadata": {
        "id": "xR8ZuMZcO8Nv"
      },
      "source": [
        "## Using Stubs to break dependencies\n",
        "\n",
        "Let us once again take a look at last session's [exercise](https://colab.research.google.com/drive/1-cTBCHdZ1TV8-NbwYxi-hMMRpd8yOdAK)\n",
        "    \n",
        "    1. What if I wanted to write all that output to a log file instead of the console?\n",
        "    2. What if I wanted to test my code but I don't have access to Colab's system files?\n",
        "    3. Or maybe I just can't be bothered to mount the drive and authenticate every single time I change something?\n",
        "    "
      ]
    },
    {
      "cell_type": "markdown",
      "metadata": {
        "id": "US9rfyTeO8Nw"
      },
      "source": [
        "```A stub is a controllable replacement for an existing dependency in the system. By using your stub, you can test your code without dealing with the dependency directly.``` \n",
        "\n",
        "the art of Unit Testing (Roy Osherove)"
      ]
    },
    {
      "cell_type": "markdown",
      "metadata": {
        "id": "SmZMm5qrO8Nw"
      },
      "source": [
        "## Steps for Stubbing:\n",
        "\n",
        "1. Identify the class or object that the method under test works against. In our case it is the system file manager.\n",
        "2. If the interface is directly connected to our method under test, make the code testable by adding a layer of indirection. \n",
        "3. Replace the underlying implementation of the instance of the class that our method calls. <-- How would you do this in Python?"
      ]
    },
    {
      "cell_type": "code",
      "metadata": {
        "id": "zyg4GO5MO8Nw"
      },
      "source": [
        "## In Python, all I need to do is create a class that has the same method as the class I want to override\n",
        "\n",
        "class TestCase(ut.TestCase):\n",
        "    def test_case1(self):\n",
        "        class stub_object():\n",
        "            def __init__(self):\n",
        "                pass # this doesn't even have to do anything but make happy noises\n",
        "            def writeToFile(self):\n",
        "                pass # this just needs to match the method that we want to test\n",
        "    "
      ],
      "execution_count": null,
      "outputs": []
    },
    {
      "cell_type": "markdown",
      "metadata": {
        "id": "jPZ5K72jO8Nw"
      },
      "source": [
        "## Now you try it: Write a test for the Adventurer class [here](https://colab.research.google.com/drive/1cYhzXgl_P30jFJ1EGBD-G9rt3C2GZnVV):\n",
        "\n",
        "## Write a stub that overrides the logfile object instead of writing to file."
      ]
    },
    {
      "cell_type": "markdown",
      "metadata": {
        "id": "VyOXVDc8O8Nw"
      },
      "source": [
        "## Interaction Testing using Mock Objects\n",
        "\n",
        "A lot of you have been using scraping tools as part of your projects:\n",
        "\n",
        "    1. What if you wanted to test your code without calling the screen scraper every time?\n",
        "    2. What if you want to check if your code works correctly but someone else was coding the screen scraper and you don't want to wait?\n",
        "    3. What if, hear me out, you are testing without an internet connection!!!\n",
        "    "
      ]
    },
    {
      "cell_type": "markdown",
      "metadata": {
        "id": "cDH7IUkkO8Nx"
      },
      "source": [
        "## Interaction Testing using Mock Objects\n",
        "\n",
        "- ```Interaction Testing```: testing how an object sends input to or receives input from other objects.\n",
        "- ```A mock object```: is a fake object in the system that decides whether the unit test has passed or failed.\n",
        "    - It does this by verifying whether the object under test interacted as expected with the fake object.\n",
        "    - There is usually no more than one mock per test.\n",
        "    - Unlike a stub, a mock will save the history of the communication for verification."
      ]
    },
    {
      "cell_type": "markdown",
      "metadata": {
        "id": "XNg8CqkkO8Nx"
      },
      "source": [
        "<img src=\"https://www.automatetheplanet.com/wp-content/uploads/2019/07/mock-diagram.png\">"
      ]
    },
    {
      "cell_type": "markdown",
      "metadata": {
        "id": "aQEaVRi_O8Nx"
      },
      "source": [
        "<img src=\"http://www.automatetheplanet.com/wp-content/uploads/2019/07/stub-diagram.png\">"
      ]
    },
    {
      "cell_type": "code",
      "metadata": {
        "id": "Ukb8jjdyO8Nx"
      },
      "source": [
        "class TestCase(ut.TestCase):\n",
        "    def test_case2(self):\n",
        "        class mock_object():\n",
        "            def __init__(self):\n",
        "                pass # this doesn't even have to do anything but make happy noises\n",
        "            def doSomething(self):\n",
        "                return whatwewant \n",
        "            \n",
        "        assertEqual(testmethod(mock_object), 1) "
      ],
      "execution_count": null,
      "outputs": []
    },
    {
      "cell_type": "markdown",
      "metadata": {
        "id": "HcroZLzCO8Nx"
      },
      "source": [
        "## Try it yourself. Write a mock object to test the class  [here](https://colab.research.google.com/drive/1VCJA8DIysyuOiCGbG5LLlltq9svYD27o):"
      ]
    },
    {
      "cell_type": "markdown",
      "metadata": {
        "id": "n97iGP15O8Nx"
      },
      "source": [
        "## The Mock Object Library\n",
        "\n",
        "- [unittest.mock](https://docs.python.org/3/library/unittest.mock.html) \n",
        "- provides a core ```Mock``` class, removing the need to create a host of stubs throughout your test suite. \n",
        "- After performing an action, you can make assertions about which methods/attributes were used and arguments they were called with. \n",
        "- You can also specify return values and set needed attributes \n",
        "\n",
        " "
      ]
    },
    {
      "cell_type": "markdown",
      "metadata": {
        "id": "-JFlxCJ4O8Nx"
      },
      "source": [
        "## The Patch() decorator\n",
        "\n",
        "- @patch(target, newobject) is a function decorator, class decorator or a context manager. \n",
        "- Inside the body of the function or with statement, the target is patched with a new object. \n",
        "- When the function/with statement exits the patch is undone.\n"
      ]
    },
    {
      "cell_type": "code",
      "metadata": {
        "id": "rP-upOCoO8Ny"
      },
      "source": [
        "from unittest.mock import Mock\n",
        "from unittest import TestCase\n",
        "from unittest.mock import patch\n",
        "\n",
        "class TestCalculator(TestCase):\n",
        "    @patch('__main__.sum', return_value=9)\n",
        "    def test_sum(self, sum):\n",
        "        self.assertEqual(sum(2,3), 9)"
      ],
      "execution_count": null,
      "outputs": []
    },
    {
      "cell_type": "markdown",
      "metadata": {
        "id": "R4duAovCO8Ny"
      },
      "source": [
        "## Try it out: change the manual mock [here](https://colab.research.google.com/drive/1VCJA8DIysyuOiCGbG5LLlltq9svYD27o#scrollTo=jrGq5eqtC9Cr) to a patch. You can refactor if you want, but you won't need to."
      ]
    },
    {
      "cell_type": "markdown",
      "metadata": {
        "id": "VskIRr9zO8Ny"
      },
      "source": [
        "## Side Effects\n",
        "\n",
        "- These are the things that you want to happen when your mock function is called. \n",
        "- Common examples are calling another function or raising exceptions."
      ]
    },
    {
      "cell_type": "code",
      "metadata": {
        "id": "7l5XUY1CO8Ny"
      },
      "source": [
        "from unittest import TestCase\n",
        "from unittest.mock import patch\n",
        "\n",
        "def mock_sum(a, b):\n",
        "    # mock sum function\n",
        "    return a + b\n",
        "\n",
        "class TestCalculator(TestCase):\n",
        "    @patch('__main__.sum', side_effect=mock_sum)\n",
        "    def test_sum(self, sum):\n",
        "        self.assertEqual(sum(2,3), 5)\n",
        "        self.assertEqual(sum(7,3), 10)"
      ],
      "execution_count": null,
      "outputs": []
    },
    {
      "cell_type": "markdown",
      "metadata": {
        "id": "eyNWI4i8O8Ny"
      },
      "source": [
        "## Organising Test Code"
      ]
    },
    {
      "cell_type": "markdown",
      "metadata": {
        "id": "yAFqhSyXO8Ny"
      },
      "source": [
        "## SetUp and TearDown\n",
        "\n",
        "1. ```setUp()``` Method called to prepare the test fixture. \n",
        "    - allows you to factor out code that you need to set up for every test, so you don't have to repeat it.\n",
        "    \n",
        "    \n",
        "2. ```tearDown()```Method called immediately after the test method has been called and the result recorded.\n",
        "    - allows you to factor out code that you need at the end of each test."
      ]
    },
    {
      "cell_type": "code",
      "metadata": {
        "id": "dP_N__LQO8Ny"
      },
      "source": [
        "import unittest as ut\n",
        "from dragon import Dragon\n",
        "\n",
        "\n",
        "class DragonTestCase(ut.TestCase):\n",
        "\n",
        "    def test_attack(self):\n",
        "        dragon = Dragon(\"red\")\n",
        "        self.assertTrue(3<=dragon.attack()<=24)\n",
        "\n",
        "    def test_takeDamage(self):\n",
        "        dragon = Dragon(\"red\")\n",
        "        thishp = dragon.gethp()\n",
        "        dragon.takeDamage(10)\n",
        "        self.assertEqual(dragon.gethp(),thishp-10)\n",
        "\n",
        "    def test_isAlive(self):\n",
        "        dragon = Dragon(\"red\")\n",
        "        dragon.takeDamage(dragon.gethp())\n",
        "        self.assertFalse(dragon.isAlive())"
      ],
      "execution_count": null,
      "outputs": []
    },
    {
      "cell_type": "code",
      "metadata": {
        "id": "B58DocwAO8Ny"
      },
      "source": [
        "import unittest as ut\n",
        "from dragon import Dragon\n",
        "\n",
        "\n",
        "class DragonTestCase(ut.TestCase):\n",
        "\n",
        "    def test_attack(self):\n",
        "        dragon = Dragon(\"red\") # This code is repeated in every test for dragon\n",
        "        self.assertTrue(3<=dragon.attack()<=24)\n",
        "\n",
        "    def test_takeDamage(self):\n",
        "        dragon = Dragon(\"red\") # This code is repeated in every test for dragon\n",
        "        thishp = dragon.gethp()\n",
        "        dragon.takeDamage(10) \n",
        "        self.assertEqual(dragon.gethp(),thishp-10)\n",
        "\n",
        "    def test_isAlive(self):\n",
        "        dragon = Dragon(\"red\") # This code is repeated in every test for dragon\n",
        "        dragon.takeDamage(dragon.gethp())\n",
        "        self.assertFalse(dragon.isAlive())"
      ],
      "execution_count": null,
      "outputs": []
    },
    {
      "cell_type": "code",
      "metadata": {
        "id": "ZV0H3lZEO8Nz"
      },
      "source": [
        "import unittest as ut\n",
        "from dragon import Dragon\n",
        "\n",
        "\n",
        "class DragonTestCase(ut.TestCase):\n",
        "\n",
        "    def setUp(self):\n",
        "        dragon = Dragon(\"red\")\n",
        "    def test_attack(self):\n",
        "        \n",
        "        self.assertTrue(3<=dragon.attack()<=24)\n",
        "\n",
        "    def test_takeDamage(self):\n",
        "        thishp = dragon.gethp()\n",
        "        dragon.takeDamage(10) \n",
        "        self.assertEqual(dragon.gethp(),thishp-10)\n",
        "\n",
        "    def test_isAlive(self):\n",
        "        dragon.takeDamage(dragon.gethp())\n",
        "        self.assertFalse(dragon.isAlive())"
      ],
      "execution_count": null,
      "outputs": []
    },
    {
      "cell_type": "code",
      "metadata": {
        "id": "EoRrL-ElO8Nz"
      },
      "source": [
        "import unittest as ut\n",
        "from dragon import Dragon\n",
        "\n",
        "\n",
        "class DragonTestCase(ut.TestCase):\n",
        "\n",
        "    def setUp(self):\n",
        "        self.dragon = Dragon(\"red\")\n",
        "\n",
        "    def test_attack(self):\n",
        "        self.setUp()\n",
        "        self.assertTrue(3<=self.dragon.attack()<=24)\n",
        "\n",
        "    def test_takeDamage(self):\n",
        "        self.setUp()\n",
        "        thishp = self.dragon.gethp()\n",
        "        self.dragon.takeDamage(10)\n",
        "        self.assertEqual(self.dragon.gethp(),thishp-10)\n",
        "\n",
        "    def test_isAlive(self):\n",
        "        self.setUp()\n",
        "        self.dragon.takeDamage(self.dragon.gethp())\n",
        "        self.assertFalse(self.dragon.isAlive())"
      ],
      "execution_count": null,
      "outputs": []
    },
    {
      "cell_type": "markdown",
      "metadata": {
        "id": "SPdKPIhQO8Nz"
      },
      "source": [
        "## Suites and Runners\n",
        "\n",
        "- ```testsuite``` will collect all the module’s test cases for you and execute them.\n",
        "- However you can customise your own testsuite through the class ```testsuite```\n",
        "- You can then tell your test runner which test suite to run."
      ]
    },
    {
      "cell_type": "code",
      "metadata": {
        "id": "gIsltwjEO8Nz"
      },
      "source": [
        "def suite():\n",
        "    suite = unittest.TestSuite()\n",
        "    suite.addTest(DragonTestCase('test_attack'))\n",
        "    suite.addTest(DragonTestCase('test_takeDamage'))\n",
        "    return suite\n",
        "\n",
        "\n",
        "if __name__ == '__main__':\n",
        "    runner = unittest.TextTestRunner()\n",
        "    runner.run(suite())\n",
        "\n"
      ],
      "execution_count": null,
      "outputs": []
    },
    {
      "cell_type": "markdown",
      "metadata": {
        "id": "3J6-QD-vO8N0"
      },
      "source": [
        "## Further Reading\n",
        "\n",
        "- The bible of unit testing: The Art of Unit Testing by Roy Oshore\n",
        "- Check out PyTest and DocTest for more ways to test\n",
        "- For more fun things you can do with Mock, take a look at the [documentation](https://docs.python.org/3/library/unittest.mock.html#module-unittest.mock)"
      ]
    },
    {
      "cell_type": "markdown",
      "metadata": {
        "id": "6ljqOKD0O8N0"
      },
      "source": [
        "# Part II: Revisiting Dragons"
      ]
    },
    {
      "cell_type": "markdown",
      "metadata": {
        "id": "l0STYY-TO8N0"
      },
      "source": [
        "### Let us revisit our code from the OOP [session](https://colab.research.google.com/drive/1cYhzXgl_P30jFJ1EGBD-G9rt3C2GZnVV): \n",
        "- You'll note some small changes like the log file.\n",
        "\n",
        "### Your mission, should you choose to accept it:\n",
        "\n",
        "1. Refactor this code with unit testing in mind.\n",
        "    - Think of how you can make small changes to facilitate fast and reusable tests.\n",
        "2. Decide what you want to test.\n",
        "    - You will probably not want to test every single method. simple methods like getters and setters don't need to be tested. \n",
        "    - However, getters and setters can be useful for your tests\n",
        "3. Speed up your tests by using a stub \n",
        "    - Do not copy the stub we wrote here. Instead use unittest.mock\n",
        "4. Have fun. And remember: Happiness is mandatory.  "
      ]
    },
    {
      "cell_type": "code",
      "metadata": {
        "id": "AaiM8U9sO8N0"
      },
      "source": [
        ""
      ],
      "execution_count": null,
      "outputs": []
    }
  ]
}