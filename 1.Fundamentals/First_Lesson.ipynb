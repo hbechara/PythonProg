{
  "nbformat": 4,
  "nbformat_minor": 0,
  "metadata": {
    "celltoolbar": "Slideshow",
    "colab": {
      "name": "First_Lesson.ipynb",
      "provenance": []
    },
    "kernelspec": {
      "display_name": "Python 3",
      "language": "python",
      "name": "python3"
    },
    "language_info": {
      "codemirror_mode": {
        "name": "ipython",
        "version": 3
      },
      "file_extension": ".py",
      "mimetype": "text/x-python",
      "name": "python",
      "nbconvert_exporter": "python",
      "pygments_lexer": "ipython3",
      "version": "3.6.9"
    }
  },
  "cells": [
    {
      "cell_type": "markdown",
      "metadata": {
        "id": "CfcY9G4G1Rah"
      },
      "source": [
        "# Getting started with Python \n"
      ]
    },
    {
      "cell_type": "markdown",
      "metadata": {
        "id": "VzAlkO6R1Ra2"
      },
      "source": [
        "# What we will use in this module\n",
        "\n",
        "- [Google Colab](https://colab.research.google.com/): a free cloud service (with a free GPU!!).\n",
        "- Python 3.6\n",
        "- Jupyter Notebooks\n",
        "- If you want to install Python at home: https://realpython.com/installing-python/\n",
        "- If you prefer an IDE: I recommend [Spyder](https://www.spyder-ide.org/)\n",
        "\n"
      ]
    },
    {
      "cell_type": "markdown",
      "metadata": {
        "id": "dCbHjtG-d0FY"
      },
      "source": [
        "# Some Tips for this Module\n",
        "\n",
        "- Always bring a laptop\n",
        "- Try out all the examples in Google Colab (as we go along)\n",
        "- Ask questions when they come up\n",
        "- Try to solve all the exercises in class\n",
        "- Ask for help if you need it"
      ]
    },
    {
      "cell_type": "markdown",
      "metadata": {
        "id": "fV61IoQs1Ra4"
      },
      "source": [
        "# Further reading\n",
        "\n",
        "- Chapter 1 of *Python Programming for the Absolute Beginner* by Michael Dawson\n",
        "- [Introduction to Python 3](https://realpython.com/python-introduction/)\n",
        "- [Why Learn Python? Here Are 8 Data-Driven Reasons](https://dbader.org/blog/why-learn-python)\n",
        "- A tutorial how to install and use Anaconda go to https://youtu.be/Q0jGAZAdZqM (it refers to an older version of Anaconda and discusses also Jupyter notebooks)\n",
        "- [Python developers profiled: What you use, what you do](https://www-javaworld-com.cdn.ampproject.org/c/s/www.javaworld.com/article/3270727/python/python-developers-profiled-what-you-use-what-you-do.amp.html)\n",
        "- An introduction to IDLE, the IDE which is distributed with Python. https://www.hashcollision.org/hkn/python/idle_intro/. Be aware that this tutorial uses a very old version of Python. \n",
        "- More about problem solving: [10 Steps to Solving a Programming Problem](https://codeburst.io/10-steps-to-solving-a-programming-problem-8a32d1e96d74)\n",
        "- Understand the interactive shell <a href=\"http://www.python-course.eu/python3_interactive.php\" target=\"_blank\">http://www.python-course.eu/python3_interactive.php</a>\n",
        "- Understand how executing a script works <a href=\"http://www.python-course.eu/python3_execute_script.php\" target=\"_blank\">http://www.python-course.eu/python3_execute_script.php</a>\n"
      ]
    },
    {
      "cell_type": "markdown",
      "metadata": {
        "id": "q14G0T7g3O08"
      },
      "source": [
        "# Google Colab\n",
        "\n",
        "- Step 1: Set up your **Drive**\n",
        "  - Create a New Folder on [Google Drive](https://drive.google.com/). \n",
        "  - You can share this folder with me for ease of access if you want to ask questions or have trouble debugging your code (hjbechara@gmail.com)\n",
        "  - In this folder, create a new Colab Notebook: Click __New__ and drop the menu down to __More__. Then select __Colaboratory__. Now we're good to go!\n",
        "  - You can rename your Notebook by clicking on the name of the Notebook or by dropping the __File__ menu down to __Rename__.\n",
        "- Step 2: Set up your **Free GPU**\n",
        "  - Go to the __Runtime__ dropdown menu and select __change runtime type__.\n",
        "  - Select __GPU__ in the __Hardware Accelerator__ dropdown menu. \n",
        "- Step 3: Get Coding!\n"
      ]
    },
    {
      "cell_type": "markdown",
      "metadata": {
        "id": "juT5T7k9d0FZ"
      },
      "source": [
        "# Python Basics: Standard Input and Output\n",
        "\n",
        "When using computers quite often we talk about **standard input** and **standard output**. Usually they correspond to keyboard and screen, respectively."
      ]
    },
    {
      "cell_type": "markdown",
      "metadata": {
        "id": "cNswciZ2d0FZ"
      },
      "source": [
        "# Print Function\n",
        "\n",
        "``print(expr1, expr2, ..., exprn, sep=' ', end='\\n')`` prints the values of ``expr1``, ``expr2``, ..., ``exprn`` to the standard output. \n",
        "\n",
        "- ``sep`` controls the string inserted between values. Default is space\n",
        "- ``end`` controls the string printed after the last value. Default new line\n"
      ]
    },
    {
      "cell_type": "code",
      "metadata": {
        "id": "07bIt1ohd0FZ"
      },
      "source": [
        "print(\"One\",\"string\",\"to\",\"rule\",\"them\",\"all\",sep=' ',end='\\n')\n",
        "print(\"One\",\"string\",\"to\",\"find\",\"them\", sep=',',end='!')\n",
        "print(\"One\",\"string\",\"to\",\"bring\",\"them\",\"all\",sep='\\n',end=':)')\n",
        "print(\"And\",\"in\",\"the\",\"darkness\",\"bind\",\"them\",sep='\\t',end='\\n')"
      ],
      "execution_count": null,
      "outputs": []
    },
    {
      "cell_type": "markdown",
      "metadata": {
        "id": "X6EOwRCcd0Fa"
      },
      "source": [
        "# Input function\n",
        "\n",
        "``input(prompt=None)`` reads a string from the standard input. The trailing newline is stripped. \n",
        "- The execution of the program stops till the users types something followed by the ENTER key (or just the ENTER key)\n",
        "- Returns the string entered."
      ]
    },
    {
      "cell_type": "code",
      "metadata": {
        "id": "H7xBZdJ6d0Fa"
      },
      "source": [
        "#input from keyboard\n",
        "print(input(\"What is your name?\"))"
      ],
      "execution_count": null,
      "outputs": []
    },
    {
      "cell_type": "markdown",
      "metadata": {
        "id": "M3Y-EdeSd0Fa"
      },
      "source": [
        "# Data types and variables in Python"
      ]
    },
    {
      "cell_type": "markdown",
      "metadata": {
        "id": "Sq_2ZdEid0Fa"
      },
      "source": [
        "# Types in python\n",
        "\n",
        "- types represents the kind of value we are dealing with and determines how the value can be used (i.e. what operations can be applied to the value)\n",
        "- types are similar to part of speech in natural language (e.g. what operations can you apply to a verb?)\n",
        "\n",
        "`type` built-in function gives the type of \"something\"\n",
        "\n",
        "`isinstance` built-in function which tests where \"something\" is of a given type"
      ]
    },
    {
      "cell_type": "markdown",
      "metadata": {
        "id": "B-1t-Dsxd0Fa"
      },
      "source": [
        "# Built-in types in Python\n",
        "\n",
        "- Numeric Types: int, float, complex\n",
        "- Sequence Types: list, tuple, range\n",
        "- Text Sequence Type: strings\n",
        "- Binary Sequence Types: bytes, bytearray, memoryview\n",
        "- Set Types: set, frozenset\n",
        "- Mapping Types: dictionaries\n",
        "- Other Build-in Types: functions, classes, etc. \n",
        "\n",
        "Very detailed information about built-in types from the official documentation <a href=\"https://docs.python.org/3.6/library/stdtypes.html\" target=\"_blank\">https://docs.python.org/3.6/library/stdtypes.html</a>"
      ]
    },
    {
      "cell_type": "markdown",
      "metadata": {
        "id": "vQKE1UGmd0Fb"
      },
      "source": [
        "# Variables\n",
        "\n",
        "- Variables are used to give names to values (number, characters, strings, etc.)\n",
        "- A memory location where a programmer can store a value\n",
        "- The value of a variable can be changed\n",
        "- The name of a variable can contain letters, numbers and _\n",
        "- The name of a variable starts with a letter or _\n",
        "- It is case sensitive (``Test`` and ``test`` are different variables)"
      ]
    },
    {
      "cell_type": "markdown",
      "metadata": {
        "id": "lnXvHxMAd0Fb"
      },
      "source": [
        "# Assigning Variables\n",
        "\n",
        "```\n",
        "mygreeting = \"hi\"\n",
        "myinteger = 1\n",
        "myfloat = 1.0\n",
        "```  "
      ]
    },
    {
      "cell_type": "code",
      "metadata": {
        "id": "hkK90PeJd0Fb"
      },
      "source": [
        "mygreeting = \"Greetings, Earthlings!\"\n",
        "print(mygreeting)\n",
        "\n",
        "#What happens if you try to use a variable without initialising it?\n",
        "print(notmygreeting)"
      ],
      "execution_count": null,
      "outputs": []
    },
    {
      "cell_type": "markdown",
      "metadata": {
        "id": "BfgVMc03d0Fb"
      },
      "source": [
        "# Try it Out!\n",
        "\n",
        "Prompt the user for their name. Print to the screen: Your name is: Gandalf"
      ]
    },
    {
      "cell_type": "code",
      "metadata": {
        "id": "tl7--30Sd0Fb"
      },
      "source": [
        "#Solution\n",
        "\n",
        "yourname = input(\"What is your name?\")\n",
        "print(\"Your name is: \" + yourname)"
      ],
      "execution_count": null,
      "outputs": []
    },
    {
      "cell_type": "code",
      "metadata": {
        "id": "2JLKPWhWd0Fb"
      },
      "source": [
        "#Of course in Python you can shortcut:\n",
        "\n",
        "print(\"Your name is \" + input(\"What is your name?\"))"
      ],
      "execution_count": null,
      "outputs": []
    },
    {
      "cell_type": "markdown",
      "metadata": {
        "id": "r4nWAbo-d0Fb"
      },
      "source": [
        "# Some Tips on Variables\n",
        "\n",
        "- Use meaningful variable names\n",
        "  - `x`, `a`, `b` not very meaningful\n",
        "  - `population_size` or `PopulationSize` much better\n",
        "- Don't overdo it when you name variables `numberOfInstructorsIMetTodayWhoAreObsessedWithLoTR`\n",
        "- Use short names for variables that are used only locally (e.g. in loops or temporary variables in functions)\n",
        "- Variables in python do not need to be declared, **but a variable cannot be used in the right hand side of an expression unless it was assigned a value**\n",
        "\n",
        "Read more at: \n",
        "\n",
        "http://www.developer.com/lang/other/article.php/626321/Learn-to-Program-Using-Python-Variables-and-Identifiers.htm\n"
      ]
    },
    {
      "cell_type": "markdown",
      "metadata": {
        "id": "Bardg9z5d0Fc"
      },
      "source": [
        "# Let's use type() to explore some variables"
      ]
    },
    {
      "cell_type": "code",
      "metadata": {
        "id": "qziqENB0d0Fc"
      },
      "source": [
        "type(57)"
      ],
      "execution_count": null,
      "outputs": []
    },
    {
      "cell_type": "code",
      "metadata": {
        "id": "1TcRMEFyd0Fc"
      },
      "source": [
        "type(1.1)"
      ],
      "execution_count": null,
      "outputs": []
    },
    {
      "cell_type": "code",
      "metadata": {
        "id": "U3Cet5Hyd0Fc"
      },
      "source": [
        "type('python')"
      ],
      "execution_count": null,
      "outputs": []
    },
    {
      "cell_type": "code",
      "metadata": {
        "id": "n_U4LaG-d0Fc"
      },
      "source": [
        "type(['Python','C', 'Java'])"
      ],
      "execution_count": null,
      "outputs": []
    },
    {
      "cell_type": "markdown",
      "metadata": {
        "id": "MkNBuca0d0Fc"
      },
      "source": [
        "# How do we swap the values of two variables?\n",
        "\n",
        "`a = 1` and `b = 2`\n",
        "\n",
        "Write the lines of code which will make `a = 2` and `b = 1`, without making the direct assignment"
      ]
    },
    {
      "cell_type": "code",
      "metadata": {
        "id": "la661S2Xd0Fc"
      },
      "source": [
        "# how to swap the values of two variables\n",
        "a = int(input(\"Enter the first number:\"))\n",
        "b = int(input(\"Enter the second number:\"))\n",
        "print(\"Before swap: a=\", a, \" b=\", b, sep=\"\")\n",
        "tmp = a\n",
        "a = b\n",
        "b = tmp\n",
        "print(\"After swap a=\", a, \" b=\", b, sep=\"\")"
      ],
      "execution_count": null,
      "outputs": []
    },
    {
      "cell_type": "code",
      "metadata": {
        "id": "zA_fC9_0d0Fd"
      },
      "source": [
        "#Python-specific solution (aka the reason python is awesome)\n",
        "\n",
        "a,b = b,a"
      ],
      "execution_count": null,
      "outputs": []
    },
    {
      "cell_type": "markdown",
      "metadata": {
        "id": "GNO7qQNGd0Fd"
      },
      "source": [
        "# Boolean values\n",
        "\n",
        "Subtype of integer which represent True and False logical values\n",
        "\n",
        "**False** values:\n",
        "- constants defined to be false: `None` and `False`\n",
        "- zero of any numeric type: `0`, `0.0`, `0j`, `Decimal(0)`, `Fraction(0, 1)`\n",
        "- empty sequences and collections: `''`, `()`, `[]`, `{}`, `set()`, `range(0)`\n",
        "- an object whose  `__bool__()` method that returns `False` or `__len__()` method that returns zero\n",
        "\n",
        "**Anything** else is considered `True`\n",
        "\n",
        "This approach gives lots of flexibility when writing conditions."
      ]
    },
    {
      "cell_type": "markdown",
      "metadata": {
        "id": "yTPTqFi0d0Fd"
      },
      "source": [
        "# Operations with Boolean values\n",
        "\n",
        "Boolean operations are `and`, `or` and `not`"
      ]
    },
    {
      "cell_type": "code",
      "metadata": {
        "id": "zIA72jJLd0Fd",
        "outputId": "4e7fb7de-361e-429e-f1d0-758880cbaece"
      },
      "source": [
        "# initialise two variables\n",
        "condition_1 = True\n",
        "condition_2 = False\n",
        "\n",
        "# x or y: if x is false, then y, else x\n",
        "condition_1 or condition_2\n",
        "\n",
        "# x and y: if x is false, then x, else y\n",
        "condition_1 and condition_2\n",
        "\n",
        "# not x: if x is false, then True, else False\n",
        "not condition_1"
      ],
      "execution_count": null,
      "outputs": [
        {
          "data": {
            "text/plain": [
              "False"
            ]
          },
          "execution_count": 7,
          "metadata": {},
          "output_type": "execute_result"
        }
      ]
    },
    {
      "cell_type": "markdown",
      "metadata": {
        "id": "IJiuE6RQd0Fd"
      },
      "source": [
        "# Comparators\n",
        "\n",
        "`<`\tstrictly less than\n",
        "\n",
        "`<=` less than or equal\n",
        "\n",
        "`>` strictly greater than \n",
        "\n",
        "`>=` greater than or equal\n",
        "\n",
        "`==` equal\n",
        "\n",
        "`!=` not equal\n",
        "\n",
        "`is` object identity\n",
        "\n",
        "`is not` negated object identity"
      ]
    },
    {
      "cell_type": "markdown",
      "metadata": {
        "id": "edyCxUL8d0Fe"
      },
      "source": [
        "# Operations with numerical values\n",
        "\n",
        "`x + y`\tsum of x and y\n",
        "\n",
        "`x - y`\tdifference of x and y\n",
        "\n",
        "`x * y`\tproduct of x and y\n",
        "\n",
        "`x / y`\tquotient of x and y\n",
        "\n",
        "`x // y` floored quotient of x and y\n",
        "\n",
        "`x % y`\tremainder of x / y\n",
        "\n",
        "`x ** y` x at power y"
      ]
    },
    {
      "cell_type": "markdown",
      "metadata": {
        "id": "8tVA5ULgd0Fe"
      },
      "source": [
        "# Augmented assignment operators\n",
        "\n",
        "``a = a + 1`` can be written as ``a += 1`` (**Note**: pay particular attention to where you place the +)\n",
        "\n",
        "Other augmented assignment operators are ``-=``, ``*=``, ``/=``, ``%=``"
      ]
    },
    {
      "cell_type": "markdown",
      "metadata": {
        "id": "lwtAjUjVd0Fe"
      },
      "source": [
        "# Try it out\n",
        "\n",
        "Take 2 numbers\n",
        "- Add them\n",
        "- Subtract them\n",
        "- Multiply them\n",
        "- Divide them\n",
        "- Power them\n",
        "- Find the remainder"
      ]
    },
    {
      "cell_type": "code",
      "metadata": {
        "id": "zrhwkZ9hd0Fe",
        "outputId": "86358315-bb7f-4825-f335-84e5e99b25e8"
      },
      "source": [
        "x = 12\n",
        "y = 12\n",
        "#Add them\n",
        "print(x+y)\n",
        "#Subtract them\n",
        "print(x-y)\n",
        "#Subtract them\n",
        "print(x*y)\n",
        "#Divide them\n",
        "print(x/y)\n",
        "#Power them\n",
        "print(x**y)\n",
        "#Find the remainder\n",
        "print(x%y)\n"
      ],
      "execution_count": null,
      "outputs": [
        {
          "name": "stdout",
          "output_type": "stream",
          "text": [
            "24\n",
            "0\n",
            "144\n",
            "1.0\n",
            "8916100448256\n",
            "0\n"
          ]
        }
      ]
    },
    {
      "cell_type": "markdown",
      "metadata": {
        "id": "oCXoizjGd0Fe"
      },
      "source": [
        "# Strings\n",
        "\n",
        "A string is a **sequence** of characters. Are used to represent a piece of text.\n",
        "\n",
        "```python\n",
        "s = \"this is a string\"\n",
        "s = \"\"\"this is\n",
        "a text\n",
        "on several\n",
        "lines\"\"\"\n",
        "s = 'this is another test'\n",
        "s = \"John's dog\"\n",
        "s = \"This is an invalid string'\n",
        "\n",
        "```\n",
        "\n",
        "- strings can contain escape sequences in order to contain special characters\n",
        "- an escape sequence is marked by \\ (backslash) followed by a letter (\\n new line, \\t tab, \\\\ for \\)\n",
        "\n",
        "\n",
        "\n"
      ]
    },
    {
      "cell_type": "markdown",
      "metadata": {
        "id": "IxEGAkyhd0Fe"
      },
      "source": [
        "# Reading an integer from Input\n",
        "\n",
        "We can use ``input`` to read an integer, but we need to convert the output to ``int``\n",
        "\n",
        "```python\n",
        "stringVariable = input(\"Enter an integer:\")\n",
        "numericVariable = int(stringVariable)\n",
        "```\n",
        "- we can convert a string to an integer using ``int(string)``. If ``string`` is not a valid integer an exception is thrown\n",
        "- ``float(string)`` is used to convert a string to float\n",
        "- ``str(numeric_value)`` converts a numeric value to string\n",
        "\n",
        "Read more about this on page 42 of *Python Programming for the Absolute Beginner* by Michael Dawson"
      ]
    },
    {
      "cell_type": "markdown",
      "metadata": {
        "id": "rTlyc8WQd0Fe"
      },
      "source": [
        "# String methods\n",
        "\n",
        "- there are large number of methods that implement various important string processing \n",
        "   - for changing capitalisation: ``capitalize``, ``casefold``, ``lower``, ``swapcase``, ``title``, ``upper``\n",
        "   - alignment: ``center``, ``ljust``, ``rjust``, ``zfill``\n",
        "   - counting and finding: ``count``, ``endswith``, ``find``, ``index``, ``rfind``, ``rindex``, ``startswith``\n",
        "   - transformation: ``encode``, ``expandtabs``, ``format``, ``join``, ``lstrip``, ``partition``, ``replace``, ``rpartition``, ``rsplit``, ``rstrip``, ``split``, ``splitlines``, ``strip``, ``translate``\n",
        "   - testing: ``isalnum``, ``isalpha``, ``isdecimal``, ``isdigit``, ``isidentifier``, ``islower``, ``isnumeric``, ``isprintable``, ``isspace``, ``istitle``, ``isupper``\n",
        "   \n",
        "- in many cases the names are quite suggestive to guess what they mean\n",
        "- full details are available at <a href=\"https://docs.python.org/3.6/library/stdtypes.html#string-methods\" target=\"_blank\">https://docs.python.org/3.6/library/stdtypes.html#string-methods</a>"
      ]
    },
    {
      "cell_type": "markdown",
      "metadata": {
        "id": "dj2QI0i1d0Ff"
      },
      "source": [
        "# Try it out\n",
        "\n",
        "Create a program that asks the user to enter their name and their age. Print out a message addressed to them that tells them the year that they will turn 100 years old."
      ]
    },
    {
      "cell_type": "code",
      "metadata": {
        "id": "BVTyKDeid0Ff"
      },
      "source": [
        "#Solution\n",
        "\n",
        "name = input(\"What is your name: \")\n",
        "age = int(input(\"How old are you: \"))\n",
        "year = str((2020 - age)+100)\n",
        "print(name + \" will be 100 years old in the year \" + year)"
      ],
      "execution_count": null,
      "outputs": []
    },
    {
      "cell_type": "markdown",
      "metadata": {
        "id": "Gyyh_EGfd0Ff"
      },
      "source": [
        "# Exercise 2: Spell Checker\n",
        "\n",
        "Write a program that presents this sentence to the user:\n",
        "`This sentens has a spelling error in it`\n",
        "Prompt the user to correct the sentence word by word by typing in the word they want corrected, followed by the correct version. E.g. `sentens sentence`\n",
        "Echo the corrected sentence back to the user."
      ]
    },
    {
      "cell_type": "code",
      "metadata": {
        "id": "6Yjkd_qqd0Ff"
      },
      "source": [
        "correct = \"this sentens has a spelling error\"\n",
        "correction = input(\"Which word would you like to correct?\")\n",
        "x=correction.split()\n",
        "print(correct.replace(x[0], x[1]))"
      ],
      "execution_count": null,
      "outputs": []
    },
    {
      "cell_type": "markdown",
      "metadata": {
        "id": "C1XbggrS5oPC"
      },
      "source": [
        "# Python Basics: Importing Modules\n",
        "\n",
        "- Modules are \"files that contain code meant to be used in other programs\" (Dawson 2010, p. 52)\n",
        "- Usually group together \"resources\" related to each other that perform a specific task\n",
        "- You can create modules for future reuse or install modules written by others\n",
        "- <a href=\"https://pypi.python.org/pypi\" target=\"_blank\">https://pypi.python.org/pypi</a> is a repository of packages (i.e. they can contain one or several modules) that you can install on your computers\n",
        "- **Be Careful** when installing software from external sources\n",
        "\n",
        "\n"
      ]
    },
    {
      "cell_type": "markdown",
      "metadata": {
        "id": "leaUVgMMd0Ff"
      },
      "source": [
        "## Some libraries you will find useful\n",
        "\n",
        "- **Numpy/Scipy** fundamental packages for scientific computing\n",
        "- **Scrapy** designed for web scraping\n",
        "- **Matplotlib** A plotting library\n",
        "- **Scikit-learn** classic machine learning toolkit\n",
        "- **NLTK/SpaCy** NLP toolkits\n",
        "- **PyTorch** Deep Learning and NLP"
      ]
    },
    {
      "cell_type": "code",
      "metadata": {
        "id": "W48Kq9HSbIC7"
      },
      "source": [
        "import torch\n",
        "print(torch.__version__)"
      ],
      "execution_count": null,
      "outputs": []
    },
    {
      "cell_type": "markdown",
      "metadata": {
        "id": "P73Mb6h0d0Ff"
      },
      "source": [
        "# Exercise 1: Password Generator\n",
        "\n",
        "Write a password generator in Python. Be creative with how you generate passwords - strong passwords have a mix of lowercase letters, uppercase letters, numbers, and symbols. The passwords should be random."
      ]
    },
    {
      "cell_type": "markdown",
      "metadata": {
        "id": "4PiT2DRed0Fg"
      },
      "source": [
        "Hint: You will have to use the [random](https://docs.python.org/3/library/random.html) package.\n",
        "\n"
      ]
    },
    {
      "cell_type": "code",
      "metadata": {
        "id": "G84wJQIcd0Fg",
        "outputId": "da0e07a4-0b15-463a-ec8b-83467e3d1e75"
      },
      "source": [
        "#Don't forget to import\n",
        "import random\n",
        "random.choice(\"!qwertyuiop\")"
      ],
      "execution_count": null,
      "outputs": [
        {
          "data": {
            "text/plain": [
              "'p'"
            ]
          },
          "execution_count": 6,
          "metadata": {},
          "output_type": "execute_result"
        }
      ]
    },
    {
      "cell_type": "code",
      "metadata": {
        "id": "P4BVqF_sd0Fg",
        "outputId": "3ece5fd5-65bd-42e1-f47c-79c83bb23420"
      },
      "source": [
        "#Sample Solution\n",
        "\n",
        "import random\n",
        "\n",
        "s = \"abcdefghijklmnopqrstuvwxyz01234567890ABCDEFGHIJKLMNOPQRSTUVWXYZ!@#$%^&*()?\"\n",
        "passlen = 8\n",
        "p =  \"\".join(random.sample(s,passlen ))\n",
        "print(p)\n"
      ],
      "execution_count": null,
      "outputs": [
        {
          "name": "stdout",
          "output_type": "stream",
          "text": [
            "9hbx5DJ(\n"
          ]
        }
      ]
    },
    {
      "cell_type": "markdown",
      "metadata": {
        "id": "ZJw_nTgid0Fg"
      },
      "source": [
        "# Debugging Syntax and Logic Errors\n",
        "\n",
        "- A Syntax Error is an error that will cause your program not to run \n",
        "    - It usually means you are not conforming to Python grammar\n",
        "    - The compiler will complain and tell you something is wrong\n",
        "- A Logic Error occurs when a program does not do what you want it to do\n",
        "    - Much more frustrating than Syntax errors\n",
        "    - The program might run, but not do what you intend it to do"
      ]
    },
    {
      "cell_type": "markdown",
      "metadata": {
        "id": "SF1KL-vpd0Fg"
      },
      "source": [
        "# Example\n",
        "\n",
        "Try to run this code. Why doesn't it run. What is wrong with it?\n"
      ]
    },
    {
      "cell_type": "code",
      "metadata": {
        "id": "Y6IPbk6ad0Fg"
      },
      "source": [
        "print(\"I told him not to put on the ring but he was like \"nah it's cool man, i got this.\"\")"
      ],
      "execution_count": null,
      "outputs": []
    },
    {
      "cell_type": "markdown",
      "metadata": {
        "id": "77RsFuy3d0Fg"
      },
      "source": [
        "We can fix this by escaping the characters inside the string:"
      ]
    },
    {
      "cell_type": "code",
      "metadata": {
        "id": "Kk9u3J-zd0Fg"
      },
      "source": [
        "print(\"I told him not to put on the ring but he was like \\\"nah it\\'s cool man, I got this.\\\"\")"
      ],
      "execution_count": null,
      "outputs": []
    },
    {
      "cell_type": "markdown",
      "metadata": {
        "id": "EA7EHsJhd0Fh"
      },
      "source": [
        "# What is going wrong with this code?"
      ]
    },
    {
      "cell_type": "code",
      "metadata": {
        "id": "-Blg8vBUd0Fh"
      },
      "source": [
        "elves = \"3 Rings for the Elven-kings under the sky\"\n",
        "dwarves =\"7 for the Dwarf-lords in their halls of stone\"\n",
        "men = \"9 for Mortal Men doomed to die\"\n",
        "lord = \"1 for the Dark Lord on his dark throne\"\n",
        "total = elves[1:] + dwarves[1:] + men[1:] + lord[1:]\n",
        "print(\"There were \" + Total + \"rings in Middle Earth\")"
      ],
      "execution_count": null,
      "outputs": []
    },
    {
      "cell_type": "markdown",
      "metadata": {
        "id": "f2_9CFLFd0Fh"
      },
      "source": [
        "# What is going wrong with this code?\n"
      ]
    },
    {
      "cell_type": "code",
      "metadata": {
        "id": "d4mzoeI0d0Fh"
      },
      "source": [
        "x = float(input('Enter a number: '))\n",
        "y = float(input('Enter a number: '))\n",
        "\n",
        "z = x+y/2\n",
        "print ('The average of the two numbers you have entered is:',z)"
      ],
      "execution_count": null,
      "outputs": []
    },
    {
      "cell_type": "markdown",
      "metadata": {
        "id": "v20N9KhBd0Fh"
      },
      "source": [
        "# Further readings\n",
        "\n",
        "- Variables and Data types: <a href=\"https://www.programiz.com/python-programming/variables-datatypes\" target=\"_blank\">https://www.programiz.com/python-programming/variables-datatypes</a>\n",
        "\n",
        "- Variables: <a href=\"http://www.w3resource.com/python/python-variable.php\" target=\"_blank\">http://www.w3resource.com/python/python-variable.php</a>\n",
        "\n",
        "- Try examples from <a href=\"https://en.wikibooks.org/wiki/Non-Programmer%27s_Tutorial_for_Python_3/Hello,_World\" target=\"_blank\">https://en.wikibooks.org/wiki/Non-Programmer%27s_Tutorial_for_Python_3/Hello,_World</a> and <a href=\"https://en.wikibooks.org/wiki/Non-Programmer%27s_Tutorial_for_Python_3/Who_Goes_There%3F\" target=\"_blank\">https://en.wikibooks.org/wiki/Non-Programmer%27s_Tutorial_for_Python_3/Who_Goes_There%3F</a>\n",
        "\n",
        "- Read Chapter 2 of *Python Programming for the Absolute Beginner* by Michael Dawson"
      ]
    },
    {
      "cell_type": "markdown",
      "metadata": {
        "id": "GCIcZyhtd0Fh"
      },
      "source": [
        "# Extra Exercises\n",
        "\n",
        "- Write a program that asks for the templerature in Celsius and converts it to Fahrenheit.\n",
        "- Write a program that asks for the type of die to roll and rolls it\n",
        "- Write a program that solves pythagoras theorem (look into the [math](https://docs.python.org/3/library/math.html) library). \n",
        "\n",
        "(Solutions are available [here](https://colab.research.google.com/drive/1BXBW9Vw-mrw99XguA0kJFxRNXcL6JJuD)) "
      ]
    }
  ]
}