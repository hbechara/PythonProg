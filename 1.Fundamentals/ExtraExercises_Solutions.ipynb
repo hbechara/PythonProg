{
  "nbformat": 4,
  "nbformat_minor": 0,
  "metadata": {
    "colab": {
      "name": "Lesson 1 Solutions.ipynb",
      "provenance": []
    },
    "kernelspec": {
      "name": "python3",
      "display_name": "Python 3"
    }
  },
  "cells": [
    {
      "cell_type": "code",
      "metadata": {
        "id": "FTJLGjIPcIzN",
        "colab": {
          "base_uri": "https://localhost:8080/",
          "height": 51
        },
        "outputId": "0fb22d5b-c3e4-4355-d972-66e10a94a653"
      },
      "source": [
        "# Write a program that asks for the templerature in Celsius and converts it to Fahrenheit.\n",
        "\n",
        "celsius = float(input(\"Enter temperature in celsius: \"))\n",
        "fahrenheit = (celsius * 9/5) + 32\n",
        "print(fahrenheit)"
      ],
      "execution_count": null,
      "outputs": [
        {
          "output_type": "stream",
          "text": [
            "Enter temperature in celsius: 4\n",
            "39.2\n"
          ],
          "name": "stdout"
        }
      ]
    },
    {
      "cell_type": "code",
      "metadata": {
        "id": "7XojQyUxdKi_",
        "colab": {
          "base_uri": "https://localhost:8080/",
          "height": 68
        },
        "outputId": "b8c91a81-f3b4-4086-97f1-0b40c73e81da"
      },
      "source": [
        "#Write a program that asks for the type of die to roll and rolls it\n",
        "import random\n",
        "min = 1\n",
        "max = int(input(\"How many sides does the die have? \"))\n",
        "\n",
        "print(\"Roll'em bones...\") #This is just me adding fluff\n",
        "print(random.randint(min, max)) # This generates a number between 1 and the number of sides the die has"
      ],
      "execution_count": null,
      "outputs": [
        {
          "output_type": "stream",
          "text": [
            "How many sides does the die have? 12\n",
            "Roll'em bones...\n",
            "5\n"
          ],
          "name": "stdout"
        }
      ]
    },
    {
      "cell_type": "code",
      "metadata": {
        "id": "gynfXkRbfx3f",
        "colab": {
          "base_uri": "https://localhost:8080/"
        },
        "outputId": "fcc68b42-d091-47bc-bcc2-01e73a52913d"
      },
      "source": [
        " #Write a program that solves pythagoras theorem\n",
        " import math\n",
        " a = int(input(\"Enter the length of side a: \"))\n",
        " b = int(input(\"Enter the length of side b: \"))\n",
        " c = math.sqrt(a *a + b*b)\n",
        " print(c)"
      ],
      "execution_count": 1,
      "outputs": [
        {
          "output_type": "stream",
          "name": "stdout",
          "text": [
            "Enter the length of side a: 5\n",
            "Enter the length of side b: 4\n",
            "6.4031242374328485\n"
          ]
        }
      ]
    },
    {
      "cell_type": "code",
      "metadata": {
        "id": "PuIj5P42Mvpx",
        "colab": {
          "base_uri": "https://localhost:8080/",
          "height": 68
        },
        "outputId": "f1faaf45-e20b-47fc-8fcf-54409aa39895"
      },
      "source": [
        "# Alternate solution for using pythagorean theorem to calculate the hypotenuse of a triangle (Allison)\n",
        "\n",
        "import math\n",
        "from math import hypot \n",
        "\n",
        "p = int(input(\"Enter the length of side a: \"))\n",
        "b = int(input(\"Enter the length of side b: \"))\n",
        "  \n",
        "print(\"Hypotenuse is:\", hypot(p, b)) \n"
      ],
      "execution_count": null,
      "outputs": [
        {
          "output_type": "stream",
          "text": [
            "Enter the length of side a: 2\n",
            "Enter the length of side b: 4\n",
            "Hypotenuse is: 4.47213595499958\n"
          ],
          "name": "stdout"
        }
      ]
    }
  ]
}