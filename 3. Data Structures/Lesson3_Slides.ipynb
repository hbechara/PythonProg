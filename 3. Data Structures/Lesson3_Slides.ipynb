{
  "nbformat": 4,
  "nbformat_minor": 0,
  "metadata": {
    "celltoolbar": "Slideshow",
    "kernelspec": {
      "display_name": "Python 3",
      "language": "python",
      "name": "python3"
    },
    "language_info": {
      "codemirror_mode": {
        "name": "ipython",
        "version": 3
      },
      "file_extension": ".py",
      "mimetype": "text/x-python",
      "name": "python",
      "nbconvert_exporter": "python",
      "pygments_lexer": "ipython3",
      "version": "3.6.9"
    },
    "colab": {
      "name": "Lesson3_Slides.ipynb",
      "provenance": []
    }
  },
  "cells": [
    {
      "cell_type": "markdown",
      "metadata": {
        "id": "42HlF4-2ryb7"
      },
      "source": [
        "# Lists, Tuples and Dictionaries\n"
      ]
    },
    {
      "cell_type": "markdown",
      "metadata": {
        "id": "KWYFgtWDryb8"
      },
      "source": [
        "# Creating a list\n",
        "\n",
        "- A list is a data structure in Python\n",
        "- It is a sequence of elements\n",
        "- A list is mutable, or changeable\n",
        "\n",
        "The markers of a list are ``[]``\n"
      ]
    },
    {
      "cell_type": "code",
      "metadata": {
        "id": "vtMmuCu1ryb8"
      },
      "source": [
        "# create an empty list\n",
        "empty_list = []\n",
        "\n",
        "# create a list of strings\n",
        "summer_months = [\"June\", \"July\", \"August\"]\n",
        "\n",
        "# create a mixed list\n",
        "mixed_list = [\"a string\", 1, 1.2]"
      ],
      "execution_count": null,
      "outputs": []
    },
    {
      "cell_type": "markdown",
      "metadata": {
        "id": "I_2oEE_Cryb8"
      },
      "source": [
        "# Creating a tuple\n",
        "\n",
        "- tuples are sequences, just like lists, but cannot be changed\n",
        "- tuples are marked using (), but comma is the one which creates a tuple"
      ]
    },
    {
      "cell_type": "code",
      "metadata": {
        "id": "AkfErTX4ryb8"
      },
      "source": [
        "# creates an empty tuple\n",
        "empty_tuple = ()\n",
        "\n",
        "# creates a tuple with one element\n",
        "one_t = (1, )\n",
        "\n",
        "# creates a tuple with several elements\n",
        "values = (1, 2, \"a\", 3.4)"
      ],
      "execution_count": null,
      "outputs": []
    },
    {
      "cell_type": "markdown",
      "metadata": {
        "id": "akQLzWroryb9"
      },
      "source": [
        "# Accessing elements of a list\n",
        "\n",
        "An element can be accessed using the [<position>] operator. The first element in the sequence is at **position 0**"
      ]
    },
    {
      "cell_type": "code",
      "metadata": {
        "id": "icBmINFpryb9",
        "outputId": "b9be2898-ec94-418d-89e8-1649f40fd9a8"
      },
      "source": [
        "wizards = [\"Gandalf the Grey\", \"Saruman the White\", \"Radagast the Brown\"]\n",
        "print(wizards[1])"
      ],
      "execution_count": null,
      "outputs": [
        {
          "name": "stdout",
          "output_type": "stream",
          "text": [
            "Saruman the White\n"
          ]
        }
      ]
    },
    {
      "cell_type": "code",
      "metadata": {
        "id": "wdjLdYjtryb9",
        "outputId": "d4c51fac-96f9-4a4a-d431-784cd7de0ed3"
      },
      "source": [
        "# lists are sequences so we can iterate \n",
        "for wizard in wizards:\n",
        "    print(wizard, \"is a wizard\")"
      ],
      "execution_count": null,
      "outputs": [
        {
          "name": "stdout",
          "output_type": "stream",
          "text": [
            "Gandalf the Grey is a wizard\n",
            "Saruman the White is a wizard\n",
            "Radagast the Brown is a wizard\n"
          ]
        }
      ]
    },
    {
      "cell_type": "markdown",
      "metadata": {
        "id": "MlCXsMICryb-"
      },
      "source": [
        "We can get the index of the elements using ``enumerate``"
      ]
    },
    {
      "cell_type": "code",
      "metadata": {
        "id": "3vGSKOu2ryb-",
        "outputId": "7d7a5cb5-0ef3-418b-a34c-159865f37e1d"
      },
      "source": [
        "for index, wizard in enumerate(wizards):\n",
        "    print(wizard, \"is a wizard\", index+1)"
      ],
      "execution_count": null,
      "outputs": [
        {
          "name": "stdout",
          "output_type": "stream",
          "text": [
            "Gandalf the Grey is a wizard 1\n",
            "Saruman the White is a wizard 2\n",
            "Radagast the Brown is a wizard 3\n"
          ]
        }
      ]
    },
    {
      "cell_type": "markdown",
      "metadata": {
        "id": "03cnEPBhryb-"
      },
      "source": [
        "# Fun with Lists"
      ]
    },
    {
      "cell_type": "code",
      "metadata": {
        "id": "pB9_AyIiryb-",
        "outputId": "4daf8964-b32a-4b21-f245-7753365ac125"
      },
      "source": [
        "# get the length of the list (works on any sequence)\n",
        "print(len(wizards))"
      ],
      "execution_count": null,
      "outputs": [
        {
          "name": "stdout",
          "output_type": "stream",
          "text": [
            "3\n"
          ]
        }
      ]
    },
    {
      "cell_type": "code",
      "metadata": {
        "id": "gBgueg_Lryb-",
        "outputId": "915fbe1d-c5ca-44c1-9a6d-070f4b9fee57"
      },
      "source": [
        "# append an element to the list\n",
        "wizards.append(\"Albus Dumbledore\")\n",
        "print(wizards)"
      ],
      "execution_count": null,
      "outputs": [
        {
          "name": "stdout",
          "output_type": "stream",
          "text": [
            "['Gandalf the Grey', 'Saruman the White', 'Radagast the Brown', 'Albus Dumbledore']\n"
          ]
        }
      ]
    },
    {
      "cell_type": "code",
      "metadata": {
        "id": "ObvXpJWlryb-",
        "outputId": "1981c845-db97-487b-de81-78df908d3639"
      },
      "source": [
        "# remove an element from the list\n",
        "wizards.remove(\"Albus Dumbledore\") \n",
        "print(wizards)"
      ],
      "execution_count": null,
      "outputs": [
        {
          "name": "stdout",
          "output_type": "stream",
          "text": [
            "['Gandalf the Grey', 'Saruman the White', 'Radagast the Brown']\n"
          ]
        }
      ]
    },
    {
      "cell_type": "markdown",
      "metadata": {
        "id": "0ZSCLZ3cryb_"
      },
      "source": [
        "# Try it out!\n",
        "\n",
        "Let’s say I give you a list saved in a variable: population_ages = `[81, 100, 1, 49, 64, 4, 9, 16, 25, 36]`.\n",
        "\n",
        "Can you calculate:\n",
        "    - The Mean\n",
        "    - The Mode\n",
        "    - The Median\n",
        "Of this population's age?\n",
        "\n",
        "**Hint:** Take a look at more list operations [here](https://docs.python.org/3/tutorial/datastructures.html) \n",
        "\n"
      ]
    },
    {
      "cell_type": "markdown",
      "metadata": {
        "id": "dxFbmKjxryb_"
      },
      "source": [
        "## Dictionaries\n",
        "\n",
        "- Are data structures which store information in pairs\n",
        "- Work very much like dictionaries: there is a word (referred to as key) and a definition (referred as value)\n",
        "- A (key, value) pair is called entry\n",
        "- Dictionaries are created using ``{}``\n",
        "\n",
        "```python\n",
        "list_of_titles = {\"Gandalf\":\"Grey\", \"Saruman\":\"White\", \"Radagast\":\"Brown\"} \n",
        "personal_details = {\"name\":\"Albus Dumbledore\", \"age\":116, \"status\":\"deceased\"}\n",
        "```"
      ]
    },
    {
      "cell_type": "markdown",
      "metadata": {
        "id": "8ZqqfgUpryb_"
      },
      "source": [
        "## Dictionaries\n",
        "\n",
        "- Cannot have the same key more than once\n",
        "- Keys are immutable (cannot be changed)\n",
        "- The values don’t have to be unique and can have different types in the same dictionary\n",
        "\n",
        "## Accessing dictionary values\n",
        "\n",
        "- accessing a value is done using ``dictionary[<key>]``\n",
        "- trying to access a value that does not exist throws an exception"
      ]
    },
    {
      "cell_type": "code",
      "metadata": {
        "id": "ET_yTe3zryb_"
      },
      "source": [
        "personal_details[\"status\"]"
      ],
      "execution_count": null,
      "outputs": []
    },
    {
      "cell_type": "code",
      "metadata": {
        "id": "Yv1J99YOryb_",
        "outputId": "1fb9091a-f7af-4180-e524-b943f8b6ffcc"
      },
      "source": [
        "personal_details[\"title\"]"
      ],
      "execution_count": null,
      "outputs": [
        {
          "ename": "NameError",
          "evalue": "name 'personal_details' is not defined",
          "output_type": "error",
          "traceback": [
            "\u001b[0;31m---------------------------------------------------------------------------\u001b[0m",
            "\u001b[0;31mNameError\u001b[0m                                 Traceback (most recent call last)",
            "\u001b[0;32m<ipython-input-22-93604fc7cb30>\u001b[0m in \u001b[0;36m<module>\u001b[0;34m\u001b[0m\n\u001b[0;32m----> 1\u001b[0;31m \u001b[0mpersonal_details\u001b[0m\u001b[0;34m[\u001b[0m\u001b[0;34m\"title\"\u001b[0m\u001b[0;34m]\u001b[0m\u001b[0;34m\u001b[0m\u001b[0;34m\u001b[0m\u001b[0m\n\u001b[0m",
            "\u001b[0;31mNameError\u001b[0m: name 'personal_details' is not defined"
          ]
        }
      ]
    },
    {
      "cell_type": "markdown",
      "metadata": {
        "id": "hl5BTDPWrycA"
      },
      "source": [
        "A dictionary value can also be accessed using ``dictionary.get(<key>[, <default value>])``\n",
        "- it returns the value associated to key if it exists in the dictionary \n",
        "- if the key does not exists returns ``<default value>``. If no value is specified it returns ``None``\n",
        "- elegant way to avoid exceptions"
      ]
    },
    {
      "cell_type": "code",
      "metadata": {
        "id": "DysCO1OorycA"
      },
      "source": [
        "list_of_wizards.get(\"Tom Bombadil\", \"not an wizard\")"
      ],
      "execution_count": null,
      "outputs": []
    },
    {
      "cell_type": "markdown",
      "metadata": {
        "id": "8eDzEw-WrycA"
      },
      "source": [
        "# Adding a value to a dictionary\n",
        "\n",
        "- adding a value is achieved by assigning the value to a key ``dictionary[<key>] = <value>``\n",
        "- when adding a value if the key exists the value corresponding to it is overwritten"
      ]
    },
    {
      "cell_type": "code",
      "metadata": {
        "id": "rAcJRJg3rycA"
      },
      "source": [
        "list_of_titles[\"Albus Dumbledore\"] = \"Lost\"\n",
        "print(list_of_titles)"
      ],
      "execution_count": null,
      "outputs": []
    },
    {
      "cell_type": "markdown",
      "metadata": {
        "id": "CaJiO9cDrycA"
      },
      "source": [
        "# Removing a value from a dictionary\n",
        "- ``del dictionary[<key>]`` removes the key and the value associated to the key\n",
        "- if the key does not exist it throws an exception"
      ]
    },
    {
      "cell_type": "code",
      "metadata": {
        "id": "XbWzPfN-rycA"
      },
      "source": [
        "del list_of_titles[\"Albus Dumbledore\"]\n",
        "print(list_of_titles)"
      ],
      "execution_count": null,
      "outputs": []
    },
    {
      "cell_type": "code",
      "metadata": {
        "id": "S26uanlHrycA"
      },
      "source": [
        "del list_of_titles[\"Dave\"]\n",
        "print(list_of_titles)"
      ],
      "execution_count": null,
      "outputs": []
    },
    {
      "cell_type": "markdown",
      "metadata": {
        "id": "DdM_Tm8GrycA"
      },
      "source": [
        "# Testing whether a key exists\n",
        "\n",
        "``in`` operator tests whether a dictionary has a key\n"
      ]
    },
    {
      "cell_type": "code",
      "metadata": {
        "id": "Nygywu_8rycB"
      },
      "source": [
        "\"Tom Bombadil\" in list_of_wizards"
      ],
      "execution_count": null,
      "outputs": []
    },
    {
      "cell_type": "markdown",
      "metadata": {
        "id": "RyThkhKSrycB"
      },
      "source": [
        "## Try it out: \n",
        "\n",
        "- Write a program which uses dictionaries to produce a frequency list of words in a given string\n",
        "\n"
      ]
    },
    {
      "cell_type": "markdown",
      "metadata": {
        "id": "4tPrh8wVrycC"
      },
      "source": [
        "# Classroom Exercises\n",
        "\n",
        "## A quick note about classroom exercises:\n",
        "\n",
        "- Feel free to work in groups\n",
        "    - Call me over if you have any questions\n",
        "    - Look up solutions if you have to, but try to understand the code that you are copying\n",
        "    - You can find all the solutions to today's exercises [here](https://colab.research.google.com/drive/1SxNkDfTaC4n3cpQDtmhpA0AdBtdlxPG6)\n",
        "   "
      ]
    },
    {
      "cell_type": "markdown",
      "metadata": {
        "id": "HpDQWaJxrycC"
      },
      "source": [
        "\n",
        "## **Make a Rock-Paper-Scissors game.**\n",
        "   - Ask for player play (using input) \n",
        "   - randomise the computer's pick \n",
        "   - print out a message to the player telling them the computer's pick and if they lost/won\n",
        "   - ask if the player wants to start a new game\n",
        "\n",
        "Remember the rules:\n",
        "- Rock beats scissors\n",
        "- Scissors beats paper\n",
        "- Paper beats rock\n",
        "\n",
        "Extra considerations\n",
        "    - If the player enters an invalid option, tell them to pick again until they have picked a valid one\n",
        "    \n",
        "    \n",
        "\n",
        "\n",
        "   \n",
        "\n"
      ]
    },
    {
      "cell_type": "markdown",
      "metadata": {
        "id": "kGG8_pQyrycC"
      },
      "source": [
        "##  Write a Python program to sort a list of elements using the bubble sort algorithm.\n",
        "\n",
        "- Bubble Sort is the simplest sorting algorithm that works by repeatedly swapping the adjacent elements in a list if they are in wrong order.\n",
        "\n"
      ]
    },
    {
      "cell_type": "code",
      "metadata": {
        "id": "XOZtZwTerycC",
        "outputId": "d9f41f4b-ce7b-4f66-bfef-e8765e000b42"
      },
      "source": [
        "\n",
        "YouTubeVideo('Cq7SMsQBEUw', width=700, height=525)"
      ],
      "execution_count": null,
      "outputs": [
        {
          "data": {
            "image/jpeg": "[encoded data removed]",
            "text/html": [
              "\n",
              "        <iframe\n",
              "            width=\"700\"\n",
              "            height=\"525\"\n",
              "            src=\"https://www.youtube.com/embed/Cq7SMsQBEUw\"\n",
              "            frameborder=\"0\"\n",
              "            allowfullscreen\n",
              "        ></iframe>\n",
              "        "
            ],
            "text/plain": [
              "<IPython.lib.display.YouTubeVideo at 0x7f8b8443bac8>"
            ]
          },
          "execution_count": 26,
          "metadata": {},
          "output_type": "execute_result"
        }
      ]
    }
  ]
}