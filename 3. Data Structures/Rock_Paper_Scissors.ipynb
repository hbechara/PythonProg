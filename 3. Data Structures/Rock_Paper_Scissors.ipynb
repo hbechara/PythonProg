{
  "nbformat": 4,
  "nbformat_minor": 0,
  "metadata": {
    "colab": {
      "name": "Rock_Paper_Scissors.ipynb",
      "provenance": []
    },
    "kernelspec": {
      "name": "python3",
      "display_name": "Python 3"
    },
    "language_info": {
      "name": "python"
    }
  },
  "cells": [
    {
      "cell_type": "code",
      "metadata": {
        "id": "sVB_fQIHsZQo"
      },
      "source": [
        "# Rock Paper Scissors Solution\n",
        "\n",
        "\n",
        "import random\n",
        "throwList = [\"rock\", \"paper\", \"scissors\"] \n",
        "resultList = [\"tie\", \"lose\", \"win\"]\n",
        "inputVal = \"none\"\n",
        "while inputVal not in throwList:\n",
        "    print(\"input a throw, possible options are:\")\n",
        "    for throw in throwList:\n",
        "        print(throw)\n",
        "    inputVal = input()\n",
        "throw = throwList.index(inputVal)\n",
        "result = random.randint(0,2)\n",
        "aiThrow = (throw + result) % 3\n",
        "print(\"they throw\",  throwList[aiThrow], \"you\", resultList[result])"
      ],
      "execution_count": null,
      "outputs": []
    }
  ]
}