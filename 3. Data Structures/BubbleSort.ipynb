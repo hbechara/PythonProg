{
  "nbformat": 4,
  "nbformat_minor": 0,
  "metadata": {
    "colab": {
      "name": "BubbleSort.ipynb",
      "provenance": []
    },
    "kernelspec": {
      "name": "python3",
      "display_name": "Python 3"
    },
    "language_info": {
      "name": "python"
    }
  },
  "cells": [
    {
      "cell_type": "code",
      "metadata": {
        "id": "kgbzD1v1s4M2"
      },
      "source": [
        "# Bubble sort\n",
        "\n",
        "nlist = [14,46,43,27,57,41,45,21,70] # here is our list of random numbers\n",
        "for passnum in range(len(nlist)-1,0,-1): #\n",
        " for i in range(passnum):\n",
        "   if nlist[i]>nlist[i+1]:\n",
        "     temp = nlist[i]\n",
        "     nlist[i] = nlist[i+1]\n",
        "     nlist[i+1] = temp\n",
        "print(nlist)"
      ],
      "execution_count": null,
      "outputs": []
    }
  ]
}