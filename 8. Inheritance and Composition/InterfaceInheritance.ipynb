{
  "nbformat": 4,
  "nbformat_minor": 0,
  "metadata": {
    "colab": {
      "name": "InterfaceInheritance.ipynb",
      "provenance": [],
      "collapsed_sections": [],
      "authorship_tag": "ABX9TyMjIaBB9hjhgPEUKjxhNrgS",
      "include_colab_link": true
    },
    "kernelspec": {
      "name": "python3",
      "display_name": "Python 3"
    },
    "language_info": {
      "name": "python"
    }
  },
  "cells": [
    {
      "cell_type": "markdown",
      "metadata": {
        "id": "view-in-github",
        "colab_type": "text"
      },
      "source": [
        "<a href=\"https://colab.research.google.com/github/hbechara/PythonProg/blob/main/8.%20Inheritance%20and%20Composition/InterfaceInheritance.ipynb\" target=\"_parent\"><img src=\"https://colab.research.google.com/assets/colab-badge.svg\" alt=\"Open In Colab\"/></a>"
      ]
    },
    {
      "cell_type": "markdown",
      "metadata": {
        "id": "euqre7dB_KXe"
      },
      "source": [
        "**Levenshtein**\n",
        "\n",
        "The Levenshtein distance is a string metric for measuring the difference between two sequences. Informally, the Levenshtein distance between two words is the minimum number of single-character edits (insertions, deletions or substitutions) required to change one word into the other. \n",
        "\n",
        "Below is a dynamic programming algorithm to calculate Levenshtein distance between two texts:"
      ]
    },
    {
      "cell_type": "code",
      "metadata": {
        "id": "5R2Z0V0sXOkQ"
      },
      "source": [
        "class EditDistance"
      ],
      "execution_count": null,
      "outputs": []
    },
    {
      "cell_type": "code",
      "metadata": {
        "id": "U1FkUgCJ6rr3"
      },
      "source": [
        "class Levenshtein:\n",
        "  def __init__(self, printoutput=\"Levenshtein: \"):\n",
        "    self.po = printoutput\n",
        "\n",
        "  def calculateDistance(self, s, t):\n",
        "        ''' From Wikipedia article; Iterative with two matrix rows. '''\n",
        "        if s == t: return 0\n",
        "        elif len(s) == 0: return len(t)\n",
        "        elif len(t) == 0: return len(s)\n",
        "        v0 = [None] * (len(t) + 1)\n",
        "        v1 = [None] * (len(t) + 1)\n",
        "        for i in range(len(v0)):\n",
        "            v0[i] = i\n",
        "        for i in range(len(s)):\n",
        "            v1[0] = i + 1\n",
        "            for j in range(len(t)):\n",
        "                cost = 0 if s[i] == t[j] else 1\n",
        "                v1[j + 1] = min(v1[j] + 1, v0[j + 1] + 1, v0[j] + cost)\n",
        "            for j in range(len(v0)):\n",
        "                v0[j] = v1[j]\n",
        "               \n",
        "        return v1[len(t)]\n",
        "\n",
        "  def printDistance(self, distance):\n",
        "      print(self.po + str(distance))"
      ],
      "execution_count": 4,
      "outputs": []
    },
    {
      "cell_type": "code",
      "metadata": {
        "colab": {
          "base_uri": "https://localhost:8080/"
        },
        "id": "J4hZSCDlVHxF",
        "outputId": "e3a09c5e-6eac-4eaf-b470-f87e8613f7b3"
      },
      "source": [
        "lv = Levenshtein(\"Bird becomes birb in this many steps:  \")\n",
        "lv.printDistance(lv.calculateDistance(\"bird\", \"birb\"))"
      ],
      "execution_count": 15,
      "outputs": [
        {
          "output_type": "stream",
          "name": "stdout",
          "text": [
            "Bird becomes birb in this many steps:  5\n"
          ]
        }
      ]
    },
    {
      "cell_type": "markdown",
      "metadata": {
        "id": "opBjQTrC_j5D"
      },
      "source": [
        "**Longest Common Substring:**\n",
        "\n",
        "In NLP, LCS is another way to calculate the edit distance between two strings. The longest common substring problem is to find the longest string that is a substring of two or more strings. The problem may have multiple solutions.\n",
        "\n",
        "Below is an algorithm that calculates the length of the longest common substring between two strings as a way of edit distance."
      ]
    },
    {
      "cell_type": "code",
      "metadata": {
        "id": "xnJ04j4k-M1u"
      },
      "source": [
        "class LongestCommonSubsequence:\n",
        "  def __init__ (self, printoption):\n",
        "    self.po = printoption\n",
        "\n",
        "  def calculateDistance(self, s, t):\n",
        "\n",
        "     \n",
        "    # find the length of the strings\n",
        "    m = len(s)\n",
        "    n = len(t)\n",
        "  \n",
        "    # declaring the array for storing the dp values\n",
        "    L = [[None]*(n + 1) for i in range(m + 1)]\n",
        "  \n",
        "    \"\"\"Following steps build L[m + 1][n + 1] in bottom up fashion\n",
        "    Note: L[i][j] contains length of LCS of X[0..i-1]\n",
        "    and Y[0..j-1]\"\"\"\n",
        "    for i in range(m + 1):\n",
        "        for j in range(n + 1):\n",
        "            if i == 0 or j == 0 :\n",
        "                L[i][j] = 0\n",
        "            elif s[i-1] == t[j-1]:\n",
        "                L[i][j] = L[i-1][j-1]+1\n",
        "            else:\n",
        "                L[i][j] = max(L[i-1][j], L[i][j-1])\n",
        "  \n",
        "    # L[m][n] contains the length of LCS of X[0..n-1] & Y[0..m-1]\n",
        "    return L[m][n]\n",
        "\n",
        "  \n",
        "  def printDistance(self, distance):\n",
        "      print(self.po + str(distance))"
      ],
      "execution_count": 5,
      "outputs": []
    },
    {
      "cell_type": "markdown",
      "metadata": {
        "id": "CBoCjAI9ACH1"
      },
      "source": [
        "**Interface Inheritance**\n",
        "\n",
        "Consider the two algorithms above. You don't have to fully understand the algorithms for the next part, though if you are interested I have some links at the end of this colab file.\n",
        "\n",
        "Currently, this is how I would expect to instantiate each of these objects:\n"
      ]
    },
    {
      "cell_type": "code",
      "metadata": {
        "colab": {
          "base_uri": "https://localhost:8080/"
        },
        "id": "RR3H8nWz7nRK",
        "outputId": "0db595ea-6e9c-4c5c-e8f0-ef4be46f1e10"
      },
      "source": [
        "str1 = 'But I have promises to keep, and miles to go before I sleep.'\n",
        "str2 = 'But I have many promises to keep, and miles to run before sleep.'\n",
        "d1 = Levenshtein(\"LV is \")\n",
        "d2 = LongestCommonSubsequence(\"LCS is \")\n",
        "d1.printDistance(d1.calculateDistance(str1, str2))\n",
        "d2.printDistance(d2.calculateDistance(str1, str2))"
      ],
      "execution_count": 16,
      "outputs": [
        {
          "output_type": "stream",
          "name": "stdout",
          "text": [
            "LV is 10\n",
            "LCS is 56\n"
          ]
        }
      ]
    },
    {
      "cell_type": "markdown",
      "metadata": {
        "id": "_k7t1LrQA4BI"
      },
      "source": [
        "\n",
        "**Task 1**: Create an interface class called \"EditDistance\" that both LCS and Levenshtein implement. To do this, you’ll create an informal interface that defines the contract that users of the interface are expected to use.\n",
        "- EditDistance needs to have a methods called calculateDistance printDistance that both concrete classes (LV and LCS) implement. IE these methods don't need to do anything and are just overwritten in the child classes.\n",
        "- EditDistance is not a concrete class, but in this case you do not need to use the ABC package yet."
      ]
    },
    {
      "cell_type": "markdown",
      "metadata": {
        "id": "MZjljx-JCOPK"
      },
      "source": [
        "**Task 2**: The program below opens two lists and calculates the Levenshtein distance between each respective line in the two lists.\n",
        "\n",
        "Modify it so that the Edit Distance algorithm can be passed as an argument."
      ]
    },
    {
      "cell_type": "code",
      "metadata": {
        "id": "sGEOl4L9tISo"
      },
      "source": [
        "def printDistances(segments1, segments2, EditAlgorithm):\n",
        "  distances = []\n",
        "  for i in range(len(segments1)):\n",
        "    \n",
        "    distances.append(l.calculateDistance(segments1[i], segments2[i]))\n",
        "\n",
        "  for elem in distances:\n",
        "    print(elem)"
      ],
      "execution_count": 17,
      "outputs": []
    },
    {
      "cell_type": "code",
      "metadata": {
        "colab": {
          "base_uri": "https://localhost:8080/"
        },
        "id": "_j9Md7QSuexq",
        "outputId": "03020815-7242-4cac-8c20-69b835584b12"
      },
      "source": [
        "segments1 = ['But I have promises to keep, and miles to go before I sleep.',\n",
        "             'The quick fox jumped over the sexy lion']\n",
        "segments2 = ['But I have many promises to keep, and miles to run before sleep.',\n",
        "             'The quick fox jumped over the lazy dog' ]\n",
        "\n",
        "l=Levenshtein(\"Levenshtein is \")\n",
        "printDistances(segments1, segments2, LongestCommonSubsequence)"
      ],
      "execution_count": 18,
      "outputs": [
        {
          "output_type": "stream",
          "name": "stdout",
          "text": [
            "10\n",
            "6\n"
          ]
        }
      ]
    },
    {
      "cell_type": "markdown",
      "metadata": {
        "id": "rBF0etfCDH69"
      },
      "source": [
        "- Solutions are [here](https://colab.research.google.com/drive/1Ts0F8hHev6jOvJHeYZ3URZ1Kbr-81V5j?usp=sharing).\n"
      ]
    }
  ]
}