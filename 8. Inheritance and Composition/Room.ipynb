{
  "nbformat": 4,
  "nbformat_minor": 0,
  "metadata": {
    "colab": {
      "name": "Room.ipynb",
      "provenance": [],
      "collapsed_sections": [],
      "include_colab_link": true
    },
    "kernelspec": {
      "name": "python3",
      "display_name": "Python 3"
    }
  },
  "cells": [
    {
      "cell_type": "markdown",
      "metadata": {
        "id": "view-in-github",
        "colab_type": "text"
      },
      "source": [
        "<a href=\"https://colab.research.google.com/github/hbechara/PythonProg/blob/main/8.%20Inheritance%20and%20Composition/Room.ipynb\" target=\"_parent\"><img src=\"https://colab.research.google.com/assets/colab-badge.svg\" alt=\"Open In Colab\"/></a>"
      ]
    },
    {
      "cell_type": "markdown",
      "metadata": {
        "id": "KJ5zfpwFsBZh"
      },
      "source": [
        ""
      ]
    },
    {
      "cell_type": "markdown",
      "metadata": {
        "id": "dNv2Z3FsCbqr"
      },
      "source": [
        "Write your own Room class with the following specifications:\n",
        "\n",
        "Each Room should have the following attributes:\n",
        "- a name, a description, and a list of items \n",
        "- getters and setters for all the attributes. the attributes should be private\n",
        "- each room should have the following behaviours:\n",
        "  - look around: prints a description of the room and a list of items in the room\n",
        "  - take item: removes the item from the list of items in the room. If the user tries to take an item that isn't there, it should tell them that\n",
        "\n",
        "  (You can give them the stuff in cell 3, let them write the stuff in cell 2.)"
      ]
    },
    {
      "cell_type": "code",
      "metadata": {
        "id": "U3foLJvC13u8"
      },
      "source": [
        "Class Door"
      ],
      "execution_count": null,
      "outputs": []
    },
    {
      "cell_type": "code",
      "metadata": {
        "id": "criGdF7JyO8w"
      },
      "source": [
        "#This is a class\n",
        "class Room:\n",
        "    #class variables:\n",
        "    __helptip = \"A room is a location in the manor\"\n",
        "    \n",
        "    #class constructor: \n",
        "    #It takes 3 parameters\n",
        "    #It returns nothing\n",
        "    def __init__(self, name, is_Open, items):\n",
        "        #instance variables\n",
        "        self.__name = name\n",
        "        self.__items = items\n",
        "        self.__door = Door(is_Open)\n",
        "    \n",
        "   \n",
        "    def setName(self,name):\n",
        "        self.__name = name\n",
        "    def getName(self):\n",
        "        return self.__name\n",
        "\n",
        "class Door(self, open = TRUE)\n",
        "  def __init__(self, is_Open):\n",
        "    self.__is_Open = is_Open\n",
        "    \n",
        "\n",
        "  def openDoor(self):\n",
        "    if self.__is_Open:\n",
        "      return \"Door is already open\"\n",
        "    else\n",
        "      self.__is_Open = True\n",
        "      return \"You open the door. It is now cold.\"\n",
        "       \n",
        "  def closeDoor(self):\n",
        "    if not self.__is_Open:\n",
        "      return \"Door is already closed\"\n",
        "    else\n",
        "      self.__is_Open = False\n",
        "      return \"You close the door. \"\n",
        "\n",
        "  \n",
        "    \n",
        "    @classmethod\n",
        "    def helptp(cls):\n",
        "        return cls.__helptip\n",
        "    \n",
        "\n",
        "    def lookAround(self):\n",
        "        description = \"this is a \" + self.__name + \".\"\n",
        "        for i in self.__items:\n",
        "          description += \" There is a(n) \" + i + \" in the room. \"\n",
        "        return description\n",
        "    \n",
        "    def takeItem(self, item):\n",
        "      if item in self.__items:\n",
        "        print(\"You take the \" + self.__items.pop(self.__items.index(item)))\n",
        "      else:\n",
        "        print(\"There is no  \" + item + \" in this room\")\n",
        "    \n"
      ],
      "execution_count": null,
      "outputs": []
    },
    {
      "cell_type": "code",
      "metadata": {
        "id": "hKyoypvER8Na"
      },
      "source": [
        "class Lecture_Hall(Room):\n",
        "  def __init__(self, room_number, size):\n",
        "    super().__init__(name=\"forum\", doors=1, items=[])\n",
        "    self.__size = size\n",
        "    self.__room_number = room_number\n",
        "\n",
        "  def setRoom_number(self, room_number):\n",
        "    self.__room_number = room_number\n",
        "  def setSize(self, size):\n",
        "    self.__size = size\n",
        "  \n",
        "  def getSize(self):\n",
        "    return self.__size\n",
        "  def getRroom_number(self):\n",
        "    return self.__room_number\n"
      ],
      "execution_count": null,
      "outputs": []
    },
    {
      "cell_type": "code",
      "metadata": {
        "id": "I_7JlHZm0a1T"
      },
      "source": [
        "class inClassSupport():\n",
        "    def __init__(self, name, speciality):\n",
        "      self.__name = name\n",
        "      self.__speciality = speciality\n",
        "    def getName():\n",
        "      pass\n",
        "    def setName():\n",
        "      pass"
      ],
      "execution_count": null,
      "outputs": []
    },
    {
      "cell_type": "code",
      "metadata": {
        "id": "FXd4m7Qu15kC"
      },
      "source": [
        "class door():\n",
        "  def __init__(self, open = T)\n",
        "\n",
        "  def "
      ],
      "execution_count": null,
      "outputs": []
    },
    {
      "cell_type": "code",
      "metadata": {
        "colab": {
          "base_uri": "https://localhost:8080/"
        },
        "id": "gCDADcwPuEew",
        "outputId": "cb94af7e-53e5-475d-e32f-d18e6cfc649b"
      },
      "source": [
        "forum = Lecture_Hall( \"1.18\", 40)\n",
        "forum.getSize()"
      ],
      "execution_count": null,
      "outputs": [
        {
          "output_type": "execute_result",
          "data": {
            "text/plain": [
              "40"
            ]
          },
          "metadata": {},
          "execution_count": 19
        }
      ]
    },
    {
      "cell_type": "code",
      "metadata": {
        "id": "zJKMpalDTWv3",
        "colab": {
          "base_uri": "https://localhost:8080/",
          "height": 35
        },
        "outputId": "95932c7a-9b46-42f8-9fc1-0a185fe25d3b"
      },
      "source": [
        "forum = Lecture_Hall( 40, \"1.18\")\n",
        "forum.getSize()"
      ],
      "execution_count": null,
      "outputs": [
        {
          "output_type": "execute_result",
          "data": {
            "application/vnd.google.colaboratory.intrinsic+json": {
              "type": "string"
            },
            "text/plain": [
              "'1.18'"
            ]
          },
          "metadata": {},
          "execution_count": 18
        }
      ]
    },
    {
      "cell_type": "code",
      "metadata": {
        "id": "HrDRw11VyaKk",
        "colab": {
          "base_uri": "https://localhost:8080/",
          "height": 136
        },
        "outputId": "b61b7791-ca31-496f-a3fe-ccc22b2808b8"
      },
      "source": [
        "\n",
        "library = Room(\"library\",1, [\"sword\", \"book of shadows\", \"mouse\"])\n",
        "print(Room.helptp())\n",
        "print(library.lookAround())\n",
        "library.takeItem(\"mouse\")\n",
        "print(library.lookAround())\n",
        "library.takeItem(\"book of shadows\")\n",
        "print(library.lookAround())\n",
        "library.takeItem(\"bazooka\")"
      ],
      "execution_count": null,
      "outputs": [
        {
          "output_type": "stream",
          "text": [
            "A room is a location in the manor\n",
            "this is a library. There is a(n) sword in the room.  There is a(n) book of shadows in the room.  There is a(n) mouse in the room. \n",
            "You take the mouse\n",
            "this is a library. There is a(n) sword in the room.  There is a(n) book of shadows in the room. \n",
            "You take the book of shadows\n",
            "this is a library. There is a(n) sword in the room. \n",
            "There is no  bazooka in this room\n"
          ],
          "name": "stdout"
        }
      ]
    }
  ]
}