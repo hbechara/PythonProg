{
  "nbformat": 4,
  "nbformat_minor": 0,
  "metadata": {
    "celltoolbar": "Slideshow",
    "kernelspec": {
      "display_name": "Python 3",
      "language": "python",
      "name": "python3"
    },
    "language_info": {
      "codemirror_mode": {
        "name": "ipython",
        "version": 3
      },
      "file_extension": ".py",
      "mimetype": "text/x-python",
      "name": "python",
      "nbconvert_exporter": "python",
      "pygments_lexer": "ipython3",
      "version": "3.6.9"
    },
    "colab": {
      "name": "AlgorithmAnalysis.ipynb",
      "provenance": [],
      "include_colab_link": true
    }
  },
  "cells": [
    {
      "cell_type": "markdown",
      "metadata": {
        "id": "view-in-github",
        "colab_type": "text"
      },
      "source": [
        "<a href=\"https://colab.research.google.com/github/hbechara/PythonProg/blob/main/11.%20Algorithm%20Analysis%20and%20Big-O/AlgorithmAnalysis.ipynb\" target=\"_parent\"><img src=\"https://colab.research.google.com/assets/colab-badge.svg\" alt=\"Open In Colab\"/></a>"
      ]
    },
    {
      "cell_type": "markdown",
      "metadata": {
        "id": "yixV4PM3pCGx"
      },
      "source": [
        "# Big O Notation and Algorithm Analysis \n",
        "\n"
      ]
    },
    {
      "cell_type": "markdown",
      "metadata": {
        "id": "vZtuOU9TpCGx"
      },
      "source": [
        "## Today's main concepts:\n",
        "\n",
        "* An ***algorithm*** can be thought of a procedure or formula to solve a particular problem. \n",
        "* Which algorithm should we use to solve a specific problem when multiple solutions to the problem exist?\n",
        "\n",
        "* ***Algorithm analysis*** refers to the analysis of the complexity of different algorithms and finding the most efficient algorithm to solve the problem at hand. \n",
        "* ***Big-O Notation*** is a statistical measure, used to describe the complexity of the algorithm."
      ]
    },
    {
      "cell_type": "markdown",
      "metadata": {
        "id": "uESLGW8apCGy"
      },
      "source": [
        "## Recall the Fibonacci solutions from Session 3:"
      ]
    },
    {
      "cell_type": "code",
      "metadata": {
        "id": "f-wJ-uuTpCGy"
      },
      "source": [
        "\n",
        "def recursive_fib(n):\n",
        " if n <= 1:\n",
        "  return n\n",
        " else:\n",
        "  return(fib(n-1) + fib(n-2))"
      ],
      "execution_count": 1,
      "outputs": []
    },
    {
      "cell_type": "code",
      "metadata": {
        "id": "pmWrgt0ppCGz"
      },
      "source": [
        "def iterative_fib(n):\n",
        "    a,b = 0,1\n",
        "    for i in range(n): \n",
        "        a,b = b,a+b\n",
        "    return a"
      ],
      "execution_count": 2,
      "outputs": []
    },
    {
      "cell_type": "markdown",
      "metadata": {
        "id": "GtZffRbppCGz"
      },
      "source": [
        "## How do we know which algorithm is better?"
      ]
    },
    {
      "cell_type": "markdown",
      "metadata": {
        "id": "siYQa25rpCGz"
      },
      "source": [
        "## Try it out:\n",
        "\n",
        "use the ```%timeit``` literal followed by the function to find which runs faster"
      ]
    },
    {
      "cell_type": "code",
      "metadata": {
        "colab": {
          "base_uri": "https://localhost:8080/"
        },
        "id": "tnNLLlbWpCGz",
        "outputId": "212766ff-bf04-4fe8-e234-060f1deed8a2"
      },
      "source": [
        "def recursive_fib(n):\n",
        " if n <= 1:\n",
        "  return n\n",
        " else:\n",
        "  return(recursive_fib(n-1) + recursive_fib(n-2))\n",
        "\n",
        "%timeit recursive_fib(5)"
      ],
      "execution_count": 5,
      "outputs": [
        {
          "output_type": "stream",
          "name": "stdout",
          "text": [
            "100000 loops, best of 5: 2 µs per loop\n"
          ]
        }
      ]
    },
    {
      "cell_type": "code",
      "metadata": {
        "colab": {
          "base_uri": "https://localhost:8080/"
        },
        "id": "UK1WkIpzpCG0",
        "outputId": "b112f4fc-f4ed-4560-d0a1-2fe46169a2ac"
      },
      "source": [
        "def iterative_fib(n):\n",
        "    a,b = 0,1\n",
        "    for i in range(n): \n",
        "        a,b = b,a+b\n",
        "    return a\n",
        "\n",
        "%timeit iterative_fib(5)"
      ],
      "execution_count": 6,
      "outputs": [
        {
          "output_type": "stream",
          "name": "stdout",
          "text": [
            "The slowest run took 6.13 times longer than the fastest. This could mean that an intermediate result is being cached.\n",
            "1000000 loops, best of 5: 638 ns per loop\n"
          ]
        }
      ]
    },
    {
      "cell_type": "markdown",
      "metadata": {
        "id": "ndeOZBL3pCG0"
      },
      "source": [
        "## Can you foresee problems with using execution time to find which algorithm is better?"
      ]
    },
    {
      "cell_type": "markdown",
      "metadata": {
        "id": "f7Man-ptpCG0"
      },
      "source": [
        "## Calculating Complexity Using Big O\n",
        "\n",
        "\n",
        "| Name   |      Big O      |  \n",
        "|----------|:-------------:|\n",
        "| Constant |  O(c) | \n",
        "| Linear |    O(n)   |  \n",
        "| Quadratic | O(n^2) |  \n",
        "| Cubic | O(n^3) |\n",
        "| Exponential | O(2^n) |\n",
        "| Logarithmic | O(log(n)) |\n",
        "| Log Linear | O(nlog(n)) |\n"
      ]
    },
    {
      "cell_type": "markdown",
      "metadata": {
        "id": "-l_uMgmqpCG0"
      },
      "source": [
        "## Constant Algorithms - O(c)\n",
        "\n",
        "* The complexity of an algorithm is constant if the steps required to complete the execution of an algorithm remain constant, irrespective of the number of inputs.\n",
        "\n",
        "<img src=\"https://i.imgur.com/xNBXXmt.png\">"
      ]
    },
    {
      "cell_type": "code",
      "metadata": {
        "colab": {
          "base_uri": "https://localhost:8080/"
        },
        "id": "rGstAw2MpCG0",
        "outputId": "0c1549e2-0f6b-4805-b7e2-7e686e4e9e97"
      },
      "source": [
        "# Example of a constant algorithm\n",
        "\n",
        "def constant(items):\n",
        "    result = items[0] * items[0]\n",
        "    return result\n",
        "\n",
        "%timeit constant([4, 5, 6, 8])"
      ],
      "execution_count": 7,
      "outputs": [
        {
          "output_type": "stream",
          "name": "stdout",
          "text": [
            "The slowest run took 8.40 times longer than the fastest. This could mean that an intermediate result is being cached.\n",
            "1000000 loops, best of 5: 219 ns per loop\n"
          ]
        }
      ]
    },
    {
      "cell_type": "markdown",
      "metadata": {
        "id": "Oy0zn4xqpCG1"
      },
      "source": [
        "## Linear Complexity (O(n))\n",
        "\n",
        "* The complexity of an algorithm is linear if the steps required to complete the execution of an algorithm increase or decrease linearly with the number of inputs.\n",
        "\n",
        "<img src=\"https://i.imgur.com/Aj26QOc.png\">"
      ]
    },
    {
      "cell_type": "code",
      "metadata": {
        "colab": {
          "base_uri": "https://localhost:8080/"
        },
        "id": "vk1DWyOUpCG1",
        "outputId": "f229a0b0-99f0-4674-a5ea-6bc23acb060b"
      },
      "source": [
        "# Example of a linear algorithm\n",
        "\n",
        "def constant(items):\n",
        "    result = 0\n",
        "    for i in items:\n",
        "        result = result + i\n",
        "    return result\n",
        "    \n",
        "%timeit constant([4, 5, 6, 8])"
      ],
      "execution_count": 8,
      "outputs": [
        {
          "output_type": "stream",
          "name": "stdout",
          "text": [
            "The slowest run took 5.04 times longer than the fastest. This could mean that an intermediate result is being cached.\n",
            "1000000 loops, best of 5: 385 ns per loop\n"
          ]
        }
      ]
    },
    {
      "cell_type": "markdown",
      "metadata": {
        "id": "QJndLY-RpCG1"
      },
      "source": [
        "## Quadratic Complexity\n",
        "\n",
        "* The complexity of an algorithm is quadratic when the steps required to execute an algorithm are a quadratic function of the number of items in the input."
      ]
    },
    {
      "cell_type": "code",
      "metadata": {
        "colab": {
          "base_uri": "https://localhost:8080/"
        },
        "id": "WIRxLl7TpCG1",
        "outputId": "5d0aa743-7833-4752-862d-620f2fb809da"
      },
      "source": [
        "# Example of a quadratic algorithm\n",
        "\n",
        "def quadratic(items):\n",
        "    quad = 0\n",
        "    for item in items:\n",
        "        for item2 in items:\n",
        "            quad += item*item2\n",
        "\n",
        "%timeit quadratic([4, 5, 6, 8])"
      ],
      "execution_count": 9,
      "outputs": [
        {
          "output_type": "stream",
          "name": "stdout",
          "text": [
            "1000000 loops, best of 5: 1.67 µs per loop\n"
          ]
        }
      ]
    },
    {
      "cell_type": "markdown",
      "metadata": {
        "id": "V_Xc_Z08pCG2"
      },
      "source": [
        "## Calculating Complexity\n",
        "\n",
        "#### Let us revisit the iterative fibonacci solution:"
      ]
    },
    {
      "cell_type": "code",
      "metadata": {
        "id": "3ANlINVcpCG2"
      },
      "source": [
        "def fibonacci(n):\n",
        "    a,b = 0,1\n",
        "    for i in range(n): \n",
        "        a,b = b,a+b\n",
        "    return a"
      ],
      "execution_count": 10,
      "outputs": []
    },
    {
      "cell_type": "markdown",
      "metadata": {
        "id": "zQUpZ_V4pCG2"
      },
      "source": [
        "#### Let's calculate the complexity of this code."
      ]
    },
    {
      "cell_type": "markdown",
      "metadata": {
        "id": "Gf43rquNpCG2"
      },
      "source": [
        "#### Let's calculate complexity of a slightly less straightforward example:"
      ]
    },
    {
      "cell_type": "code",
      "metadata": {
        "colab": {
          "base_uri": "https://localhost:8080/"
        },
        "id": "m0ATvKHmpCG2",
        "outputId": "8db5e1ec-843f-47f6-a4ec-9d7d69cac76b"
      },
      "source": [
        "def example1(items):\n",
        "\n",
        "    for i in range(5):\n",
        "        print (\"Filthy Hobbitses\")\n",
        "\n",
        "    for item in items:\n",
        "        print(item)\n",
        "\n",
        "    for item in items:\n",
        "        print(item)\n",
        "\n",
        "    print(\"I will take the ring to Mordor\")\n",
        "   \n",
        "example1([\"Frodo\", \"Sam\", \"Merry\",\"Pippin\" ])"
      ],
      "execution_count": 11,
      "outputs": [
        {
          "output_type": "stream",
          "name": "stdout",
          "text": [
            "Filthy Hobbitses\n",
            "Filthy Hobbitses\n",
            "Filthy Hobbitses\n",
            "Filthy Hobbitses\n",
            "Filthy Hobbitses\n",
            "Frodo\n",
            "Sam\n",
            "Merry\n",
            "Pippin\n",
            "Frodo\n",
            "Sam\n",
            "Merry\n",
            "Pippin\n",
            "I will take the ring to Mordor\n"
          ]
        }
      ]
    },
    {
      "cell_type": "markdown",
      "metadata": {
        "id": "zysUwjA8pCG3"
      },
      "source": [
        "#### Let's calculate complexity of a slightly less straightforward example:"
      ]
    },
    {
      "cell_type": "code",
      "metadata": {
        "colab": {
          "base_uri": "https://localhost:8080/"
        },
        "id": "0vU8PCLcpCG3",
        "outputId": "6bb5cd1d-45a7-43cb-83aa-8aaf7d4d6220"
      },
      "source": [
        "def example1(items):\n",
        "\n",
        "    for i in range(5):\n",
        "        print (\"Filthy Hobbitses\") # The Complexity of this loop is O(5)\n",
        "\n",
        "    for item in items:\n",
        "        print(item) #  The Complexity of this loop is O(n)\n",
        "\n",
        "    for item in items:\n",
        "        print(item) # The Complexity of this loop is O(n)\n",
        "\n",
        "    print(\"I will take the ring to Mordor\") # The Complexity of this loop is O(1)\n",
        "   \n",
        "example1([\"Frodo\", \"Sam\", \"Merry\",\"Pippin\" ])"
      ],
      "execution_count": 12,
      "outputs": [
        {
          "output_type": "stream",
          "name": "stdout",
          "text": [
            "Filthy Hobbitses\n",
            "Filthy Hobbitses\n",
            "Filthy Hobbitses\n",
            "Filthy Hobbitses\n",
            "Filthy Hobbitses\n",
            "Frodo\n",
            "Sam\n",
            "Merry\n",
            "Pippin\n",
            "Frodo\n",
            "Sam\n",
            "Merry\n",
            "Pippin\n",
            "I will take the ring to Mordor\n"
          ]
        }
      ]
    },
    {
      "cell_type": "markdown",
      "metadata": {
        "id": "By27yTVSpCG3"
      },
      "source": [
        "Final Complexity: O(5) + O(n) + O(n) + O(1)"
      ]
    },
    {
      "cell_type": "markdown",
      "metadata": {
        "id": "6WVTbffgpCG3"
      },
      "source": [
        "= O(6) + 2O(n)"
      ]
    },
    {
      "cell_type": "markdown",
      "metadata": {
        "id": "VKXl1zPVpCG3"
      },
      "source": [
        "However, when n tends towards really large numbers, the constants here become insignificant. So we can ignore them."
      ]
    },
    {
      "cell_type": "markdown",
      "metadata": {
        "id": "Cog2oxHwpCG3"
      },
      "source": [
        "Final Complexity: O(n)"
      ]
    },
    {
      "cell_type": "markdown",
      "metadata": {
        "id": "MaGQTv5BpCG3"
      },
      "source": [
        "## Worst vs Best Case Complexity\n",
        "\n",
        "* Usually, when someone asks you about the complexity of the algorithm they are asking you about the worst case complexity. \n"
      ]
    },
    {
      "cell_type": "code",
      "metadata": {
        "id": "ThUOX4lSpCG3"
      },
      "source": [
        "def is_hobbit(num, items):\n",
        "    for item in items:\n",
        "        if item == num:\n",
        "            return True\n",
        "        else:\n",
        "            return False\n",
        "hobbits = [\"Frodo\", \"Sam\", \"Merry\",\"Pippin\" ]\n",
        "\n"
      ],
      "execution_count": 13,
      "outputs": []
    },
    {
      "cell_type": "code",
      "metadata": {
        "colab": {
          "base_uri": "https://localhost:8080/"
        },
        "id": "WX4YDSvapCG4",
        "outputId": "bc6080c5-ebbe-4c6d-d2e9-c979743ad86c"
      },
      "source": [
        "print(is_hobbit(\"Frodo\", hobbits))\n",
        "print(is_hobbit(\"Pippin\", hobbits))"
      ],
      "execution_count": 14,
      "outputs": [
        {
          "output_type": "stream",
          "name": "stdout",
          "text": [
            "True\n",
            "False\n"
          ]
        }
      ]
    },
    {
      "cell_type": "code",
      "metadata": {
        "colab": {
          "base_uri": "https://localhost:8080/"
        },
        "id": "dST7c4JopCG4",
        "outputId": "594a0625-0439-4736-a835-c41ff4ad6f3e"
      },
      "source": [
        "print(is_hobbit(\"Frodo\", hobbits)) #best case: complexity is O(c)\n",
        "print(is_hobbit(\"Pippin\", hobbits)) # worst case: complexity is O(n)"
      ],
      "execution_count": 15,
      "outputs": [
        {
          "output_type": "stream",
          "name": "stdout",
          "text": [
            "True\n",
            "False\n"
          ]
        }
      ]
    },
    {
      "cell_type": "markdown",
      "metadata": {
        "id": "CutDuHNRpCG4"
      },
      "source": [
        "## Space Complexity\n",
        "\n",
        "* Space complexity refers to the number of spaces you need to allocate in the memory space during the execution of a program.\n",
        "* Space complexity also plays a crucial role in determining the efficiency of an algorithm/program. \n",
        "* If an algorithm takes up a lot of time, you can still wait, run/execute it to get the desired output. \n",
        "* But, if a program takes up a lot of memory space, ~everything will break and the world will collapse~ the compiler will not let you run it."
      ]
    },
    {
      "cell_type": "code",
      "metadata": {
        "colab": {
          "base_uri": "https://localhost:8080/"
        },
        "id": "Aw07YfkkpCG4",
        "outputId": "e670793f-6f5b-4419-8613-47b6fbfcfcde"
      },
      "source": [
        "def squares(n):\n",
        "    square_list = []\n",
        "    for num in n:\n",
        "        square_list.append(num * num)\n",
        "\n",
        "    return square_list\n",
        "\n",
        "nums = [2, 4, 6, 8, 10]\n",
        "print(squares(nums))"
      ],
      "execution_count": 16,
      "outputs": [
        {
          "output_type": "stream",
          "name": "stdout",
          "text": [
            "[4, 16, 36, 64, 100]\n"
          ]
        }
      ]
    },
    {
      "cell_type": "markdown",
      "metadata": {
        "id": "R6rdJl6RpCG4"
      },
      "source": [
        "## Let's Calculate Time Complexity for recursive_fib"
      ]
    },
    {
      "cell_type": "code",
      "metadata": {
        "id": "kjUE_50MpCG4"
      },
      "source": [
        "\n",
        "def recursive_fib(n):\n",
        " if n <= 1:\n",
        "  return n\n",
        " else:\n",
        "  return(fib(n-1) + fib(n-2))"
      ],
      "execution_count": 17,
      "outputs": []
    },
    {
      "cell_type": "markdown",
      "metadata": {
        "id": "fMvBaSYBpCG4"
      },
      "source": [
        "## We are going to calculate the worst case complexity:\n",
        "\n",
        "For n>1:\n",
        "\n",
        "O(n) = O(n-1) + O(n-2) + c\n",
        "\n",
        "* For worse case complexity, we can approximate that T(n-1) =  T(n-2) as  T(n-2) ≤ T(n-1)\n",
        "\n",
        "O(n) = 2O(n-1) + c\n",
        "\n",
        "O(n) = 2(2O(n-2) + c) + c\n",
        "\n",
        "O(n) = 4O(n-3) + 3c\n",
        "\n",
        "O(n) = 8O(n-4) + 7c\n",
        "\n",
        "* and so forth until we reach O(0)\n",
        "\n",
        "O(n) = 2^k * O(n-k) + (2^k - 1)c"
      ]
    },
    {
      "cell_type": "markdown",
      "metadata": {
        "id": "vQ5N9pInpCG9"
      },
      "source": [
        "## * at O(0): k = n\n",
        "\n",
        "O(n) =  2^n * O(0) + (2^n - 1)*c\n",
        "\n",
        "O(n) = 2^n * c + 2^n * c - c\n",
        "\n",
        "* we can ignore the constants \n",
        "\n",
        "O(n) = 2^n"
      ]
    },
    {
      "cell_type": "markdown",
      "metadata": {
        "id": "YeJIC4SmpCG9"
      },
      "source": [
        "## Exercise:\n",
        "\n",
        "## Let's choose the best sorting algorithm from the following:\n",
        "\n",
        "* ***Bubble Sort***, ***Insertion Sort*** and ***Merge Sort***\n",
        "* Which algorithm has the best worst-case O?\n",
        " \n",
        " (Code from StackAbuse)"
      ]
    },
    {
      "cell_type": "markdown",
      "metadata": {
        "id": "D9sBPZoHpCG9"
      },
      "source": [
        "## Bubble Sort"
      ]
    },
    {
      "cell_type": "code",
      "metadata": {
        "id": "HWKY_-ZwpCG9"
      },
      "source": [
        "def bubbleSort(list):\n",
        "    for i in range(len(list)):\n",
        "        for j in range(0, n-i-1):\n",
        "            if list[j] > list[j+1]:\n",
        "                list[j], list[j+1] = list[j+1], list[j]\n",
        "   "
      ],
      "execution_count": 18,
      "outputs": []
    },
    {
      "cell_type": "markdown",
      "metadata": {
        "id": "LbGf0hldpCG9"
      },
      "source": [
        "## Insertion Sort"
      ]
    },
    {
      "cell_type": "code",
      "metadata": {
        "id": "vOOy3F30pCG9"
      },
      "source": [
        "def insertion_sort(mylist):\n",
        "   for i in range(1, len(mylist)):\n",
        "        currentValue = mylist[i]\n",
        "        currentPosition = i\n",
        "        while currentPosition > 0 and mylist[currentPosition - 1] > currentValue:\n",
        "            mylist[currentPosition] = mylist[currentPosition -1]\n",
        "            currentPosition = currentPosition - 1\n",
        "\n",
        "        mylist[currentPosition] = currentValue"
      ],
      "execution_count": 19,
      "outputs": []
    },
    {
      "cell_type": "markdown",
      "metadata": {
        "id": "95v3ZOEypCG9"
      },
      "source": [
        "## Merge Sort"
      ]
    },
    {
      "cell_type": "code",
      "metadata": {
        "id": "A1LjDOC_pCG-"
      },
      "source": [
        "def merge_sort(array, left_index, right_index):\n",
        "    if left_index >= right_index:\n",
        "        return\n",
        "\n",
        "    middle = (left_index + right_index)//2\n",
        "    merge_sort(array, left_index, middle)\n",
        "    merge_sort(array, middle + 1, right_index)\n",
        "    merge(array, left_index, right_index, middle)"
      ],
      "execution_count": 20,
      "outputs": []
    },
    {
      "cell_type": "code",
      "metadata": {
        "id": "iKV8GMabpCG-"
      },
      "source": [
        "def merge(array, left_index, right_index, middle):\n",
        "    left_copy = array[left_index:middle + 1]\n",
        "    right_copy = array[middle+1:right_index+1]\n",
        "\n",
        "    left_copy_index = 0\n",
        "    right_copy_index = 0\n",
        "    sorted_index = left_index\n",
        "\n",
        "    while left_copy_index < len(left_copy) and right_copy_index < len(right_copy):\n",
        "       if left_copy[left_copy_index] <= right_copy[right_copy_index]:\n",
        "            array[sorted_index] = left_copy[left_copy_index]\n",
        "            left_copy_index = left_copy_index + 1\n",
        "       else:\n",
        "            array[sorted_index] = right_copy[right_copy_index]\n",
        "            right_copy_index = right_copy_index + 1\n",
        "       sorted_index = sorted_index + 1\n",
        "\n",
        "    while left_copy_index < len(left_copy):\n",
        "        array[sorted_index] = left_copy[left_copy_index]\n",
        "        left_copy_index = left_copy_index + 1\n",
        "        sorted_index = sorted_index + 1\n",
        "\n",
        "    while right_copy_index < len(right_copy):\n",
        "        array[sorted_index] = right_copy[right_copy_index]\n",
        "        right_copy_index = right_copy_index + 1\n",
        "        sorted_index = sorted_index + 1"
      ],
      "execution_count": 23,
      "outputs": []
    },
    {
      "cell_type": "markdown",
      "metadata": {
        "id": "-VZKYqlApCG-"
      },
      "source": [
        "<img src=\"https://stackabuse.s3.amazonaws.com/media/merge-sort-in-python-1.png\" width=\"400\">\n",
        "\n",
        "(image from StackAbuse)"
      ]
    },
    {
      "cell_type": "markdown",
      "metadata": {
        "id": "xI5VZ20zpCG-"
      },
      "source": [
        "* O = O($\\frac{n}{2}$) + O($\\frac{n}{2}$) + n"
      ]
    },
    {
      "cell_type": "markdown",
      "metadata": {
        "id": "kU1kLxi2pCG-"
      },
      "source": [
        "* O = 2O($\\frac{n}{2}$) + n"
      ]
    },
    {
      "cell_type": "markdown",
      "metadata": {
        "id": "W1t23G-kpCG-"
      },
      "source": [
        "* So what is O($\\frac{n}{2}$)?"
      ]
    },
    {
      "cell_type": "markdown",
      "metadata": {
        "id": "5LPyEdTRpCG-"
      },
      "source": [
        "* We can represent O($\\frac{n}{2}$) as:\n",
        "\n",
        "O($\\frac{n}{2*2}$) + O($\\frac{n}{2*2}$) + $\\frac{n}{2}$\n",
        "\n",
        "2 O($\\frac{n}{2*2}$) + $\\frac{n}{2}$"
      ]
    },
    {
      "cell_type": "markdown",
      "metadata": {
        "id": "l46FArMdpCG-"
      },
      "source": [
        "* Let's plug that back into the first equation:\n",
        "\n",
        "* $O = 2*2 O(\\frac{n}{2*2}) + 2n$"
      ]
    },
    {
      "cell_type": "markdown",
      "metadata": {
        "id": "3tVKOCp0pCG-"
      },
      "source": [
        "* What is going to happen when I expand $O(\\frac{n}{2*2})$ again?"
      ]
    },
    {
      "cell_type": "markdown",
      "metadata": {
        "id": "Cb8IhMEOpCG_"
      },
      "source": [
        "* $O = 2^3 O(\\frac{n}{2^3}) + 3n$"
      ]
    },
    {
      "cell_type": "markdown",
      "metadata": {
        "id": "wcxRP1XFpCG_"
      },
      "source": [
        "* So for an arbitrary value of k:\n",
        "\n",
        "* $O = 2^k O(\\frac{n}{2^k}) + kn$"
      ]
    },
    {
      "cell_type": "markdown",
      "metadata": {
        "id": "rg9Ul40MpCG_"
      },
      "source": [
        "* O(1) happens when n = 2^k\n",
        "* -> k = log_2 n"
      ]
    },
    {
      "cell_type": "markdown",
      "metadata": {
        "id": "Uc8ZVVNZpCG_"
      },
      "source": [
        "* So let's plug that back into our equation for O\n",
        "\n",
        "* $O = 2^k O(\\frac{n}{2^k}) + kn$\n",
        "* $O = 2^{log_2 n} O(1) + logn(n)$\n"
      ]
    },
    {
      "cell_type": "markdown",
      "metadata": {
        "id": "fmin_9l5pCG_"
      },
      "source": [
        "* $O = n + logn(n)$"
      ]
    },
    {
      "cell_type": "markdown",
      "metadata": {
        "id": "G3SCBOpypCG_"
      },
      "source": [
        "<img src = \"https://encrypted-tbn3.gstatic.com/imageshttps://encrypted-tbn3.gstatic.com/images?q=tbn:ANd9GcSc5rIUWyr5BrxW5pi1Y7Bm6MOqdaYmmsZOUIw1lcSx6zyer7GdZrrLXT259g\">\n",
        "\n",
        "(image from Khan Academy)"
      ]
    },
    {
      "cell_type": "markdown",
      "metadata": {
        "id": "fhnP43PzpCG_"
      },
      "source": [
        "## The Mergesort part is getting smaller and smaller until we can't split the list any further.\n",
        "\n",
        "\n",
        "\n",
        " $n + 2  O(\\frac{n}{2}) + 4  O(\\frac{n}{4}) + 8  O(\\frac{n}{8}) + .... 2^k  O(\\frac{n}{2})$\n",
        " "
      ]
    },
    {
      "cell_type": "markdown",
      "metadata": {
        "id": "fYw5WEgTpCG_"
      },
      "source": [
        "$\\sum_{i=0}^{i=k} 2^i O(\\frac{n}{2^i})$"
      ]
    },
    {
      "cell_type": "markdown",
      "metadata": {
        "id": "n9qqoB7UpCG_"
      },
      "source": [
        "* when i = k, n = 2^k, so k = $log_2$ n\n",
        "\n",
        "$\\sum_{i=0}^{i=k} 2^i O(\\frac{n}{2^i})$"
      ]
    },
    {
      "cell_type": "markdown",
      "metadata": {
        "id": "AiA2vPD_pCG_"
      },
      "source": [
        "* $O = n + logn(n)$"
      ]
    },
    {
      "cell_type": "markdown",
      "metadata": {
        "id": "HFrsCDcppCG_"
      },
      "source": [
        "# In conclusion, which sorting algorithm is most efficient?\n",
        "\n",
        "<img src=\"https://i.imgur.com/dJ9f5Gs.png\">"
      ]
    },
    {
      "cell_type": "markdown",
      "metadata": {
        "id": "v-nfCmvlpCHA"
      },
      "source": [
        "# You can visualise this yourself and compare:"
      ]
    },
    {
      "cell_type": "code",
      "metadata": {
        "colab": {
          "base_uri": "https://localhost:8080/",
          "height": 295
        },
        "id": "11PdUuTspCHA",
        "outputId": "109f617d-91bb-4af6-8db1-220c1324f13f"
      },
      "source": [
        "import matplotlib.pyplot as plt\n",
        "import numpy as np\n",
        "import math\n",
        "\n",
        "x = [2, 3, 4, 5, 6, 7, 8, 9, 10, 11, 12]\n",
        "y =[]\n",
        "for n in x:\n",
        "  y.append(n*n)\n",
        "\n",
        "\n",
        "plt.plot(x, y, 'b')\n",
        "plt.xlabel('Inputs')\n",
        "plt.ylabel('Steps')\n",
        "plt.title('Quadratic')\n",
        "plt.show()"
      ],
      "execution_count": 24,
      "outputs": [
        {
          "output_type": "display_data",
          "data": {
            "image/png": "[encoded data removed]",
            "text/plain": [
              "<Figure size 432x288 with 1 Axes>"
            ]
          },
          "metadata": {
            "needs_background": "light"
          }
        }
      ]
    }
  ]
}